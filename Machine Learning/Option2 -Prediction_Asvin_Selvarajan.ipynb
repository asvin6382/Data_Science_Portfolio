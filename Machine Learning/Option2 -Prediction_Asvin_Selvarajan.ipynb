{
 "cells": [
  {
   "cell_type": "markdown",
   "id": "b7855340",
   "metadata": {},
   "source": [
    "# Option 2: Prediction"
   ]
  },
  {
   "cell_type": "markdown",
   "id": "515b16f9",
   "metadata": {},
   "source": [
    "# Data pre-processing and pivoting"
   ]
  },
  {
   "cell_type": "code",
   "execution_count": 1,
   "id": "589124ea",
   "metadata": {},
   "outputs": [],
   "source": [
    "import numpy as np\n",
    "\n",
    "import pandas as pd \n",
    "import matplotlib.pyplot as plt\n",
    "import seaborn as sns\n",
    "import plotly.express as px"
   ]
  },
  {
   "cell_type": "code",
   "execution_count": 4,
   "id": "536f9516",
   "metadata": {},
   "outputs": [],
   "source": [
    "df=pd.read_excel(\"Online Retail.xlsx\")"
   ]
  },
  {
   "cell_type": "code",
   "execution_count": 91,
   "id": "133c9b14",
   "metadata": {},
   "outputs": [
    {
     "data": {
      "text/plain": [
       "(541909, 8)"
      ]
     },
     "execution_count": 91,
     "metadata": {},
     "output_type": "execute_result"
    }
   ],
   "source": [
    "df.shape"
   ]
  },
  {
   "cell_type": "code",
   "execution_count": 7,
   "id": "8a88cae4",
   "metadata": {},
   "outputs": [
    {
     "data": {
      "text/html": [
       "<div>\n",
       "<style scoped>\n",
       "    .dataframe tbody tr th:only-of-type {\n",
       "        vertical-align: middle;\n",
       "    }\n",
       "\n",
       "    .dataframe tbody tr th {\n",
       "        vertical-align: top;\n",
       "    }\n",
       "\n",
       "    .dataframe thead th {\n",
       "        text-align: right;\n",
       "    }\n",
       "</style>\n",
       "<table border=\"1\" class=\"dataframe\">\n",
       "  <thead>\n",
       "    <tr style=\"text-align: right;\">\n",
       "      <th></th>\n",
       "      <th>InvoiceNo</th>\n",
       "      <th>StockCode</th>\n",
       "      <th>Description</th>\n",
       "      <th>Quantity</th>\n",
       "      <th>InvoiceDate</th>\n",
       "      <th>UnitPrice</th>\n",
       "      <th>CustomerID</th>\n",
       "      <th>Country</th>\n",
       "    </tr>\n",
       "  </thead>\n",
       "  <tbody>\n",
       "    <tr>\n",
       "      <th>0</th>\n",
       "      <td>536365</td>\n",
       "      <td>85123A</td>\n",
       "      <td>WHITE HANGING HEART T-LIGHT HOLDER</td>\n",
       "      <td>6</td>\n",
       "      <td>2010-12-01 08:26:00</td>\n",
       "      <td>2.55</td>\n",
       "      <td>17850.0</td>\n",
       "      <td>United Kingdom</td>\n",
       "    </tr>\n",
       "    <tr>\n",
       "      <th>1</th>\n",
       "      <td>536365</td>\n",
       "      <td>71053</td>\n",
       "      <td>WHITE METAL LANTERN</td>\n",
       "      <td>6</td>\n",
       "      <td>2010-12-01 08:26:00</td>\n",
       "      <td>3.39</td>\n",
       "      <td>17850.0</td>\n",
       "      <td>United Kingdom</td>\n",
       "    </tr>\n",
       "    <tr>\n",
       "      <th>2</th>\n",
       "      <td>536365</td>\n",
       "      <td>84406B</td>\n",
       "      <td>CREAM CUPID HEARTS COAT HANGER</td>\n",
       "      <td>8</td>\n",
       "      <td>2010-12-01 08:26:00</td>\n",
       "      <td>2.75</td>\n",
       "      <td>17850.0</td>\n",
       "      <td>United Kingdom</td>\n",
       "    </tr>\n",
       "    <tr>\n",
       "      <th>3</th>\n",
       "      <td>536365</td>\n",
       "      <td>84029G</td>\n",
       "      <td>KNITTED UNION FLAG HOT WATER BOTTLE</td>\n",
       "      <td>6</td>\n",
       "      <td>2010-12-01 08:26:00</td>\n",
       "      <td>3.39</td>\n",
       "      <td>17850.0</td>\n",
       "      <td>United Kingdom</td>\n",
       "    </tr>\n",
       "    <tr>\n",
       "      <th>4</th>\n",
       "      <td>536365</td>\n",
       "      <td>84029E</td>\n",
       "      <td>RED WOOLLY HOTTIE WHITE HEART.</td>\n",
       "      <td>6</td>\n",
       "      <td>2010-12-01 08:26:00</td>\n",
       "      <td>3.39</td>\n",
       "      <td>17850.0</td>\n",
       "      <td>United Kingdom</td>\n",
       "    </tr>\n",
       "  </tbody>\n",
       "</table>\n",
       "</div>"
      ],
      "text/plain": [
       "  InvoiceNo StockCode                          Description  Quantity  \\\n",
       "0    536365    85123A   WHITE HANGING HEART T-LIGHT HOLDER         6   \n",
       "1    536365     71053                  WHITE METAL LANTERN         6   \n",
       "2    536365    84406B       CREAM CUPID HEARTS COAT HANGER         8   \n",
       "3    536365    84029G  KNITTED UNION FLAG HOT WATER BOTTLE         6   \n",
       "4    536365    84029E       RED WOOLLY HOTTIE WHITE HEART.         6   \n",
       "\n",
       "          InvoiceDate  UnitPrice  CustomerID         Country  \n",
       "0 2010-12-01 08:26:00       2.55     17850.0  United Kingdom  \n",
       "1 2010-12-01 08:26:00       3.39     17850.0  United Kingdom  \n",
       "2 2010-12-01 08:26:00       2.75     17850.0  United Kingdom  \n",
       "3 2010-12-01 08:26:00       3.39     17850.0  United Kingdom  \n",
       "4 2010-12-01 08:26:00       3.39     17850.0  United Kingdom  "
      ]
     },
     "execution_count": 7,
     "metadata": {},
     "output_type": "execute_result"
    }
   ],
   "source": [
    "df_=df.copy()\n",
    "df_.head()"
   ]
  },
  {
   "cell_type": "code",
   "execution_count": 8,
   "id": "27dc1ff8",
   "metadata": {},
   "outputs": [
    {
     "data": {
      "text/html": [
       "<div>\n",
       "<style scoped>\n",
       "    .dataframe tbody tr th:only-of-type {\n",
       "        vertical-align: middle;\n",
       "    }\n",
       "\n",
       "    .dataframe tbody tr th {\n",
       "        vertical-align: top;\n",
       "    }\n",
       "\n",
       "    .dataframe thead th {\n",
       "        text-align: right;\n",
       "    }\n",
       "</style>\n",
       "<table border=\"1\" class=\"dataframe\">\n",
       "  <thead>\n",
       "    <tr style=\"text-align: right;\">\n",
       "      <th></th>\n",
       "      <th>Counts</th>\n",
       "    </tr>\n",
       "  </thead>\n",
       "  <tbody>\n",
       "    <tr>\n",
       "      <th>United Kingdom</th>\n",
       "      <td>495478</td>\n",
       "    </tr>\n",
       "    <tr>\n",
       "      <th>Germany</th>\n",
       "      <td>9495</td>\n",
       "    </tr>\n",
       "    <tr>\n",
       "      <th>France</th>\n",
       "      <td>8557</td>\n",
       "    </tr>\n",
       "    <tr>\n",
       "      <th>EIRE</th>\n",
       "      <td>8196</td>\n",
       "    </tr>\n",
       "    <tr>\n",
       "      <th>Spain</th>\n",
       "      <td>2533</td>\n",
       "    </tr>\n",
       "    <tr>\n",
       "      <th>Netherlands</th>\n",
       "      <td>2371</td>\n",
       "    </tr>\n",
       "    <tr>\n",
       "      <th>Belgium</th>\n",
       "      <td>2069</td>\n",
       "    </tr>\n",
       "    <tr>\n",
       "      <th>Switzerland</th>\n",
       "      <td>2002</td>\n",
       "    </tr>\n",
       "    <tr>\n",
       "      <th>Portugal</th>\n",
       "      <td>1519</td>\n",
       "    </tr>\n",
       "    <tr>\n",
       "      <th>Australia</th>\n",
       "      <td>1259</td>\n",
       "    </tr>\n",
       "    <tr>\n",
       "      <th>Norway</th>\n",
       "      <td>1086</td>\n",
       "    </tr>\n",
       "    <tr>\n",
       "      <th>Italy</th>\n",
       "      <td>803</td>\n",
       "    </tr>\n",
       "    <tr>\n",
       "      <th>Channel Islands</th>\n",
       "      <td>758</td>\n",
       "    </tr>\n",
       "    <tr>\n",
       "      <th>Finland</th>\n",
       "      <td>695</td>\n",
       "    </tr>\n",
       "    <tr>\n",
       "      <th>Cyprus</th>\n",
       "      <td>622</td>\n",
       "    </tr>\n",
       "    <tr>\n",
       "      <th>Sweden</th>\n",
       "      <td>462</td>\n",
       "    </tr>\n",
       "    <tr>\n",
       "      <th>Unspecified</th>\n",
       "      <td>446</td>\n",
       "    </tr>\n",
       "    <tr>\n",
       "      <th>Austria</th>\n",
       "      <td>401</td>\n",
       "    </tr>\n",
       "    <tr>\n",
       "      <th>Denmark</th>\n",
       "      <td>389</td>\n",
       "    </tr>\n",
       "    <tr>\n",
       "      <th>Japan</th>\n",
       "      <td>358</td>\n",
       "    </tr>\n",
       "    <tr>\n",
       "      <th>Poland</th>\n",
       "      <td>341</td>\n",
       "    </tr>\n",
       "    <tr>\n",
       "      <th>Israel</th>\n",
       "      <td>297</td>\n",
       "    </tr>\n",
       "    <tr>\n",
       "      <th>USA</th>\n",
       "      <td>291</td>\n",
       "    </tr>\n",
       "    <tr>\n",
       "      <th>Hong Kong</th>\n",
       "      <td>288</td>\n",
       "    </tr>\n",
       "    <tr>\n",
       "      <th>Singapore</th>\n",
       "      <td>229</td>\n",
       "    </tr>\n",
       "    <tr>\n",
       "      <th>Iceland</th>\n",
       "      <td>182</td>\n",
       "    </tr>\n",
       "    <tr>\n",
       "      <th>Canada</th>\n",
       "      <td>151</td>\n",
       "    </tr>\n",
       "    <tr>\n",
       "      <th>Greece</th>\n",
       "      <td>146</td>\n",
       "    </tr>\n",
       "    <tr>\n",
       "      <th>Malta</th>\n",
       "      <td>127</td>\n",
       "    </tr>\n",
       "    <tr>\n",
       "      <th>United Arab Emirates</th>\n",
       "      <td>68</td>\n",
       "    </tr>\n",
       "    <tr>\n",
       "      <th>European Community</th>\n",
       "      <td>61</td>\n",
       "    </tr>\n",
       "    <tr>\n",
       "      <th>RSA</th>\n",
       "      <td>58</td>\n",
       "    </tr>\n",
       "    <tr>\n",
       "      <th>Lebanon</th>\n",
       "      <td>45</td>\n",
       "    </tr>\n",
       "    <tr>\n",
       "      <th>Lithuania</th>\n",
       "      <td>35</td>\n",
       "    </tr>\n",
       "    <tr>\n",
       "      <th>Brazil</th>\n",
       "      <td>32</td>\n",
       "    </tr>\n",
       "    <tr>\n",
       "      <th>Czech Republic</th>\n",
       "      <td>30</td>\n",
       "    </tr>\n",
       "    <tr>\n",
       "      <th>Bahrain</th>\n",
       "      <td>19</td>\n",
       "    </tr>\n",
       "    <tr>\n",
       "      <th>Saudi Arabia</th>\n",
       "      <td>10</td>\n",
       "    </tr>\n",
       "  </tbody>\n",
       "</table>\n",
       "</div>"
      ],
      "text/plain": [
       "                      Counts\n",
       "United Kingdom        495478\n",
       "Germany                 9495\n",
       "France                  8557\n",
       "EIRE                    8196\n",
       "Spain                   2533\n",
       "Netherlands             2371\n",
       "Belgium                 2069\n",
       "Switzerland             2002\n",
       "Portugal                1519\n",
       "Australia               1259\n",
       "Norway                  1086\n",
       "Italy                    803\n",
       "Channel Islands          758\n",
       "Finland                  695\n",
       "Cyprus                   622\n",
       "Sweden                   462\n",
       "Unspecified              446\n",
       "Austria                  401\n",
       "Denmark                  389\n",
       "Japan                    358\n",
       "Poland                   341\n",
       "Israel                   297\n",
       "USA                      291\n",
       "Hong Kong                288\n",
       "Singapore                229\n",
       "Iceland                  182\n",
       "Canada                   151\n",
       "Greece                   146\n",
       "Malta                    127\n",
       "United Arab Emirates      68\n",
       "European Community        61\n",
       "RSA                       58\n",
       "Lebanon                   45\n",
       "Lithuania                 35\n",
       "Brazil                    32\n",
       "Czech Republic            30\n",
       "Bahrain                   19\n",
       "Saudi Arabia              10"
      ]
     },
     "execution_count": 8,
     "metadata": {},
     "output_type": "execute_result"
    }
   ],
   "source": [
    "Countycount=pd.DataFrame(df_[\"Country\"].value_counts())\n",
    "\n",
    "Countycount.rename(columns = {'Country':'Counts'}, inplace = True)\n",
    "Countycount"
   ]
  },
  {
   "cell_type": "markdown",
   "id": "e2c4092b",
   "metadata": {},
   "source": [
    "#### Let me choose USA country data points for our  preprocessing and model building ."
   ]
  },
  {
   "cell_type": "code",
   "execution_count": 9,
   "id": "36fd9f51",
   "metadata": {},
   "outputs": [
    {
     "data": {
      "text/plain": [
       "InvoiceNo      0\n",
       "StockCode      0\n",
       "Description    0\n",
       "Quantity       0\n",
       "InvoiceDate    0\n",
       "UnitPrice      0\n",
       "CustomerID     0\n",
       "Country        0\n",
       "dtype: int64"
      ]
     },
     "execution_count": 9,
     "metadata": {},
     "output_type": "execute_result"
    }
   ],
   "source": [
    "df_USA=df_[df_[\"Country\"]==\"USA\"]\n",
    "df_USA.isna().sum()"
   ]
  },
  {
   "cell_type": "code",
   "execution_count": 10,
   "id": "fbe1e98d",
   "metadata": {},
   "outputs": [
    {
     "data": {
      "text/plain": [
       "(291, 8)"
      ]
     },
     "execution_count": 10,
     "metadata": {},
     "output_type": "execute_result"
    }
   ],
   "source": [
    "\n",
    "df_USA.shape"
   ]
  },
  {
   "cell_type": "code",
   "execution_count": 11,
   "id": "b8ca9267",
   "metadata": {},
   "outputs": [
    {
     "name": "stderr",
     "output_type": "stream",
     "text": [
      "C:\\Users\\ADMIN\\anaconda3\\lib\\site-packages\\seaborn\\_decorators.py:36: FutureWarning: Pass the following variable as a keyword arg: x. From version 0.12, the only valid positional argument will be `data`, and passing other arguments without an explicit keyword will result in an error or misinterpretation.\n",
      "  warnings.warn(\n"
     ]
    },
    {
     "data": {
      "image/png": "[encoded data removed]",
      "text/plain": [
       "<Figure size 640x480 with 1 Axes>"
      ]
     },
     "metadata": {},
     "output_type": "display_data"
    }
   ],
   "source": [
    "df_USA[\"CustomerID\"].value_counts()\n",
    "sns.countplot(df_USA.CustomerID)\n",
    "plt.title(\"CustomerID counts by item purchased.\")\n",
    "plt.show()"
   ]
  },
  {
   "cell_type": "markdown",
   "id": "60c9781c",
   "metadata": {},
   "source": [
    "### From invoiceDate column, we can extract Month ,Day and Time features."
   ]
  },
  {
   "cell_type": "code",
   "execution_count": 12,
   "id": "4480a8b5",
   "metadata": {},
   "outputs": [
    {
     "name": "stderr",
     "output_type": "stream",
     "text": [
      "C:\\Users\\ADMIN\\AppData\\Local\\Temp\\ipykernel_14896\\490749111.py:1: SettingWithCopyWarning: \n",
      "A value is trying to be set on a copy of a slice from a DataFrame.\n",
      "Try using .loc[row_indexer,col_indexer] = value instead\n",
      "\n",
      "See the caveats in the documentation: https://pandas.pydata.org/pandas-docs/stable/user_guide/indexing.html#returning-a-view-versus-a-copy\n",
      "  df_USA[\"Year\"]=df_[\"InvoiceDate\"].dt.year\n",
      "C:\\Users\\ADMIN\\AppData\\Local\\Temp\\ipykernel_14896\\490749111.py:2: SettingWithCopyWarning: \n",
      "A value is trying to be set on a copy of a slice from a DataFrame.\n",
      "Try using .loc[row_indexer,col_indexer] = value instead\n",
      "\n",
      "See the caveats in the documentation: https://pandas.pydata.org/pandas-docs/stable/user_guide/indexing.html#returning-a-view-versus-a-copy\n",
      "  df_USA[\"Month\"]=df_[\"InvoiceDate\"].dt.month\n",
      "C:\\Users\\ADMIN\\AppData\\Local\\Temp\\ipykernel_14896\\490749111.py:3: SettingWithCopyWarning: \n",
      "A value is trying to be set on a copy of a slice from a DataFrame.\n",
      "Try using .loc[row_indexer,col_indexer] = value instead\n",
      "\n",
      "See the caveats in the documentation: https://pandas.pydata.org/pandas-docs/stable/user_guide/indexing.html#returning-a-view-versus-a-copy\n",
      "  df_USA[\"Day\"]=df_[\"InvoiceDate\"].dt.day\n",
      "C:\\Users\\ADMIN\\AppData\\Local\\Temp\\ipykernel_14896\\490749111.py:4: SettingWithCopyWarning: \n",
      "A value is trying to be set on a copy of a slice from a DataFrame.\n",
      "Try using .loc[row_indexer,col_indexer] = value instead\n",
      "\n",
      "See the caveats in the documentation: https://pandas.pydata.org/pandas-docs/stable/user_guide/indexing.html#returning-a-view-versus-a-copy\n",
      "  df_USA[\"Time\"]=df_[\"InvoiceDate\"].dt.time\n"
     ]
    }
   ],
   "source": [
    "df_USA[\"Year\"]=df_[\"InvoiceDate\"].dt.year\n",
    "df_USA[\"Month\"]=df_[\"InvoiceDate\"].dt.month\n",
    "df_USA[\"Day\"]=df_[\"InvoiceDate\"].dt.day\n",
    "df_USA[\"Time\"]=df_[\"InvoiceDate\"].dt.time"
   ]
  },
  {
   "cell_type": "code",
   "execution_count": 13,
   "id": "6b68c10c",
   "metadata": {},
   "outputs": [
    {
     "name": "stderr",
     "output_type": "stream",
     "text": [
      "C:\\Users\\ADMIN\\anaconda3\\lib\\site-packages\\seaborn\\_decorators.py:36: FutureWarning: Pass the following variable as a keyword arg: x. From version 0.12, the only valid positional argument will be `data`, and passing other arguments without an explicit keyword will result in an error or misinterpretation.\n",
      "  warnings.warn(\n"
     ]
    },
    {
     "data": {
      "image/png": "[encoded data removed]",
      "text/plain": [
       "<Figure size 640x480 with 1 Axes>"
      ]
     },
     "metadata": {},
     "output_type": "display_data"
    }
   ],
   "source": [
    "sns.countplot(df_USA.Month,hue=df_USA.Day)\n",
    "plt.title(\"Customer Purchased item count based on Day and month \")\n",
    "plt.show()"
   ]
  },
  {
   "cell_type": "markdown",
   "id": "52ae45a6",
   "metadata": {},
   "source": [
    "### we are going to use only these five features for our prediction "
   ]
  },
  {
   "cell_type": "code",
   "execution_count": 14,
   "id": "bb447004",
   "metadata": {},
   "outputs": [
    {
     "data": {
      "text/html": [
       "<div>\n",
       "<style scoped>\n",
       "    .dataframe tbody tr th:only-of-type {\n",
       "        vertical-align: middle;\n",
       "    }\n",
       "\n",
       "    .dataframe tbody tr th {\n",
       "        vertical-align: top;\n",
       "    }\n",
       "\n",
       "    .dataframe thead th {\n",
       "        text-align: right;\n",
       "    }\n",
       "</style>\n",
       "<table border=\"1\" class=\"dataframe\">\n",
       "  <thead>\n",
       "    <tr style=\"text-align: right;\">\n",
       "      <th></th>\n",
       "      <th>Quantity</th>\n",
       "      <th>CustomerID</th>\n",
       "      <th>Month</th>\n",
       "      <th>Year</th>\n",
       "      <th>Day</th>\n",
       "      <th>Time</th>\n",
       "    </tr>\n",
       "  </thead>\n",
       "  <tbody>\n",
       "    <tr>\n",
       "      <th>164464</th>\n",
       "      <td>7</td>\n",
       "      <td>12733.0</td>\n",
       "      <td>4</td>\n",
       "      <td>2011</td>\n",
       "      <td>19</td>\n",
       "      <td>16:19:00</td>\n",
       "    </tr>\n",
       "    <tr>\n",
       "      <th>164465</th>\n",
       "      <td>2</td>\n",
       "      <td>12733.0</td>\n",
       "      <td>4</td>\n",
       "      <td>2011</td>\n",
       "      <td>19</td>\n",
       "      <td>16:19:00</td>\n",
       "    </tr>\n",
       "    <tr>\n",
       "      <th>164466</th>\n",
       "      <td>3</td>\n",
       "      <td>12733.0</td>\n",
       "      <td>4</td>\n",
       "      <td>2011</td>\n",
       "      <td>19</td>\n",
       "      <td>16:19:00</td>\n",
       "    </tr>\n",
       "    <tr>\n",
       "      <th>164467</th>\n",
       "      <td>1</td>\n",
       "      <td>12733.0</td>\n",
       "      <td>4</td>\n",
       "      <td>2011</td>\n",
       "      <td>19</td>\n",
       "      <td>16:19:00</td>\n",
       "    </tr>\n",
       "    <tr>\n",
       "      <th>164468</th>\n",
       "      <td>1</td>\n",
       "      <td>12733.0</td>\n",
       "      <td>4</td>\n",
       "      <td>2011</td>\n",
       "      <td>19</td>\n",
       "      <td>16:19:00</td>\n",
       "    </tr>\n",
       "    <tr>\n",
       "      <th>...</th>\n",
       "      <td>...</td>\n",
       "      <td>...</td>\n",
       "      <td>...</td>\n",
       "      <td>...</td>\n",
       "      <td>...</td>\n",
       "      <td>...</td>\n",
       "    </tr>\n",
       "    <tr>\n",
       "      <th>536922</th>\n",
       "      <td>-36</td>\n",
       "      <td>12558.0</td>\n",
       "      <td>12</td>\n",
       "      <td>2011</td>\n",
       "      <td>8</td>\n",
       "      <td>10:14:00</td>\n",
       "    </tr>\n",
       "    <tr>\n",
       "      <th>536923</th>\n",
       "      <td>-12</td>\n",
       "      <td>12558.0</td>\n",
       "      <td>12</td>\n",
       "      <td>2011</td>\n",
       "      <td>8</td>\n",
       "      <td>10:14:00</td>\n",
       "    </tr>\n",
       "    <tr>\n",
       "      <th>536924</th>\n",
       "      <td>-12</td>\n",
       "      <td>12558.0</td>\n",
       "      <td>12</td>\n",
       "      <td>2011</td>\n",
       "      <td>8</td>\n",
       "      <td>10:14:00</td>\n",
       "    </tr>\n",
       "    <tr>\n",
       "      <th>536925</th>\n",
       "      <td>-12</td>\n",
       "      <td>12558.0</td>\n",
       "      <td>12</td>\n",
       "      <td>2011</td>\n",
       "      <td>8</td>\n",
       "      <td>10:14:00</td>\n",
       "    </tr>\n",
       "    <tr>\n",
       "      <th>536926</th>\n",
       "      <td>-12</td>\n",
       "      <td>12558.0</td>\n",
       "      <td>12</td>\n",
       "      <td>2011</td>\n",
       "      <td>8</td>\n",
       "      <td>10:14:00</td>\n",
       "    </tr>\n",
       "  </tbody>\n",
       "</table>\n",
       "<p>291 rows × 6 columns</p>\n",
       "</div>"
      ],
      "text/plain": [
       "        Quantity  CustomerID  Month  Year  Day      Time\n",
       "164464         7     12733.0      4  2011   19  16:19:00\n",
       "164465         2     12733.0      4  2011   19  16:19:00\n",
       "164466         3     12733.0      4  2011   19  16:19:00\n",
       "164467         1     12733.0      4  2011   19  16:19:00\n",
       "164468         1     12733.0      4  2011   19  16:19:00\n",
       "...          ...         ...    ...   ...  ...       ...\n",
       "536922       -36     12558.0     12  2011    8  10:14:00\n",
       "536923       -12     12558.0     12  2011    8  10:14:00\n",
       "536924       -12     12558.0     12  2011    8  10:14:00\n",
       "536925       -12     12558.0     12  2011    8  10:14:00\n",
       "536926       -12     12558.0     12  2011    8  10:14:00\n",
       "\n",
       "[291 rows x 6 columns]"
      ]
     },
     "execution_count": 14,
     "metadata": {},
     "output_type": "execute_result"
    }
   ],
   "source": [
    "X=df_USA[[\"Quantity\",\"CustomerID\",\"Month\",\"Year\",\"Day\",\"Time\"]]\n",
    "\n",
    "X"
   ]
  },
  {
   "cell_type": "code",
   "execution_count": 15,
   "id": "c9bf0723",
   "metadata": {},
   "outputs": [],
   "source": [
    "\n",
    "Month4=X[X[\"Month\"]==4]\n",
    "\n",
    "Month10=X[X[\"Month\"]==10]\n",
    "Month12=X[X[\"Month\"]==12]"
   ]
  },
  {
   "cell_type": "markdown",
   "id": "cd34af63",
   "metadata": {},
   "source": [
    "#### Month 4"
   ]
  },
  {
   "cell_type": "code",
   "execution_count": 16,
   "id": "fd0c3b91",
   "metadata": {},
   "outputs": [
    {
     "data": {
      "text/html": [
       "<div>\n",
       "<style scoped>\n",
       "    .dataframe tbody tr th:only-of-type {\n",
       "        vertical-align: middle;\n",
       "    }\n",
       "\n",
       "    .dataframe tbody tr th {\n",
       "        vertical-align: top;\n",
       "    }\n",
       "\n",
       "    .dataframe thead th {\n",
       "        text-align: right;\n",
       "    }\n",
       "</style>\n",
       "<table border=\"1\" class=\"dataframe\">\n",
       "  <thead>\n",
       "    <tr style=\"text-align: right;\">\n",
       "      <th></th>\n",
       "      <th>Quantity</th>\n",
       "      <th>CustomerID</th>\n",
       "      <th>Month</th>\n",
       "      <th>Year</th>\n",
       "      <th>Day</th>\n",
       "      <th>Time</th>\n",
       "    </tr>\n",
       "  </thead>\n",
       "  <tbody>\n",
       "    <tr>\n",
       "      <th>164464</th>\n",
       "      <td>7</td>\n",
       "      <td>12733.0</td>\n",
       "      <td>4</td>\n",
       "      <td>2011</td>\n",
       "      <td>19</td>\n",
       "      <td>16:19:00</td>\n",
       "    </tr>\n",
       "    <tr>\n",
       "      <th>164465</th>\n",
       "      <td>2</td>\n",
       "      <td>12733.0</td>\n",
       "      <td>4</td>\n",
       "      <td>2011</td>\n",
       "      <td>19</td>\n",
       "      <td>16:19:00</td>\n",
       "    </tr>\n",
       "    <tr>\n",
       "      <th>164466</th>\n",
       "      <td>3</td>\n",
       "      <td>12733.0</td>\n",
       "      <td>4</td>\n",
       "      <td>2011</td>\n",
       "      <td>19</td>\n",
       "      <td>16:19:00</td>\n",
       "    </tr>\n",
       "    <tr>\n",
       "      <th>164467</th>\n",
       "      <td>1</td>\n",
       "      <td>12733.0</td>\n",
       "      <td>4</td>\n",
       "      <td>2011</td>\n",
       "      <td>19</td>\n",
       "      <td>16:19:00</td>\n",
       "    </tr>\n",
       "    <tr>\n",
       "      <th>164468</th>\n",
       "      <td>1</td>\n",
       "      <td>12733.0</td>\n",
       "      <td>4</td>\n",
       "      <td>2011</td>\n",
       "      <td>19</td>\n",
       "      <td>16:19:00</td>\n",
       "    </tr>\n",
       "    <tr>\n",
       "      <th>164469</th>\n",
       "      <td>3</td>\n",
       "      <td>12733.0</td>\n",
       "      <td>4</td>\n",
       "      <td>2011</td>\n",
       "      <td>19</td>\n",
       "      <td>16:19:00</td>\n",
       "    </tr>\n",
       "    <tr>\n",
       "      <th>164470</th>\n",
       "      <td>6</td>\n",
       "      <td>12733.0</td>\n",
       "      <td>4</td>\n",
       "      <td>2011</td>\n",
       "      <td>19</td>\n",
       "      <td>16:19:00</td>\n",
       "    </tr>\n",
       "    <tr>\n",
       "      <th>164471</th>\n",
       "      <td>3</td>\n",
       "      <td>12733.0</td>\n",
       "      <td>4</td>\n",
       "      <td>2011</td>\n",
       "      <td>19</td>\n",
       "      <td>16:19:00</td>\n",
       "    </tr>\n",
       "    <tr>\n",
       "      <th>164472</th>\n",
       "      <td>12</td>\n",
       "      <td>12733.0</td>\n",
       "      <td>4</td>\n",
       "      <td>2011</td>\n",
       "      <td>19</td>\n",
       "      <td>16:19:00</td>\n",
       "    </tr>\n",
       "    <tr>\n",
       "      <th>164473</th>\n",
       "      <td>4</td>\n",
       "      <td>12733.0</td>\n",
       "      <td>4</td>\n",
       "      <td>2011</td>\n",
       "      <td>19</td>\n",
       "      <td>16:19:00</td>\n",
       "    </tr>\n",
       "    <tr>\n",
       "      <th>164474</th>\n",
       "      <td>2</td>\n",
       "      <td>12733.0</td>\n",
       "      <td>4</td>\n",
       "      <td>2011</td>\n",
       "      <td>19</td>\n",
       "      <td>16:19:00</td>\n",
       "    </tr>\n",
       "    <tr>\n",
       "      <th>164475</th>\n",
       "      <td>6</td>\n",
       "      <td>12733.0</td>\n",
       "      <td>4</td>\n",
       "      <td>2011</td>\n",
       "      <td>19</td>\n",
       "      <td>16:19:00</td>\n",
       "    </tr>\n",
       "    <tr>\n",
       "      <th>164476</th>\n",
       "      <td>5</td>\n",
       "      <td>12733.0</td>\n",
       "      <td>4</td>\n",
       "      <td>2011</td>\n",
       "      <td>19</td>\n",
       "      <td>16:19:00</td>\n",
       "    </tr>\n",
       "    <tr>\n",
       "      <th>164477</th>\n",
       "      <td>36</td>\n",
       "      <td>12733.0</td>\n",
       "      <td>4</td>\n",
       "      <td>2011</td>\n",
       "      <td>19</td>\n",
       "      <td>16:19:00</td>\n",
       "    </tr>\n",
       "    <tr>\n",
       "      <th>164478</th>\n",
       "      <td>6</td>\n",
       "      <td>12733.0</td>\n",
       "      <td>4</td>\n",
       "      <td>2011</td>\n",
       "      <td>19</td>\n",
       "      <td>16:19:00</td>\n",
       "    </tr>\n",
       "    <tr>\n",
       "      <th>164479</th>\n",
       "      <td>6</td>\n",
       "      <td>12733.0</td>\n",
       "      <td>4</td>\n",
       "      <td>2011</td>\n",
       "      <td>19</td>\n",
       "      <td>16:19:00</td>\n",
       "    </tr>\n",
       "    <tr>\n",
       "      <th>164480</th>\n",
       "      <td>7</td>\n",
       "      <td>12733.0</td>\n",
       "      <td>4</td>\n",
       "      <td>2011</td>\n",
       "      <td>19</td>\n",
       "      <td>16:19:00</td>\n",
       "    </tr>\n",
       "    <tr>\n",
       "      <th>164481</th>\n",
       "      <td>6</td>\n",
       "      <td>12733.0</td>\n",
       "      <td>4</td>\n",
       "      <td>2011</td>\n",
       "      <td>19</td>\n",
       "      <td>16:19:00</td>\n",
       "    </tr>\n",
       "    <tr>\n",
       "      <th>164482</th>\n",
       "      <td>6</td>\n",
       "      <td>12733.0</td>\n",
       "      <td>4</td>\n",
       "      <td>2011</td>\n",
       "      <td>19</td>\n",
       "      <td>16:19:00</td>\n",
       "    </tr>\n",
       "    <tr>\n",
       "      <th>164483</th>\n",
       "      <td>6</td>\n",
       "      <td>12733.0</td>\n",
       "      <td>4</td>\n",
       "      <td>2011</td>\n",
       "      <td>19</td>\n",
       "      <td>16:19:00</td>\n",
       "    </tr>\n",
       "    <tr>\n",
       "      <th>164484</th>\n",
       "      <td>5</td>\n",
       "      <td>12733.0</td>\n",
       "      <td>4</td>\n",
       "      <td>2011</td>\n",
       "      <td>19</td>\n",
       "      <td>16:19:00</td>\n",
       "    </tr>\n",
       "    <tr>\n",
       "      <th>164485</th>\n",
       "      <td>4</td>\n",
       "      <td>12733.0</td>\n",
       "      <td>4</td>\n",
       "      <td>2011</td>\n",
       "      <td>19</td>\n",
       "      <td>16:19:00</td>\n",
       "    </tr>\n",
       "  </tbody>\n",
       "</table>\n",
       "</div>"
      ],
      "text/plain": [
       "        Quantity  CustomerID  Month  Year  Day      Time\n",
       "164464         7     12733.0      4  2011   19  16:19:00\n",
       "164465         2     12733.0      4  2011   19  16:19:00\n",
       "164466         3     12733.0      4  2011   19  16:19:00\n",
       "164467         1     12733.0      4  2011   19  16:19:00\n",
       "164468         1     12733.0      4  2011   19  16:19:00\n",
       "164469         3     12733.0      4  2011   19  16:19:00\n",
       "164470         6     12733.0      4  2011   19  16:19:00\n",
       "164471         3     12733.0      4  2011   19  16:19:00\n",
       "164472        12     12733.0      4  2011   19  16:19:00\n",
       "164473         4     12733.0      4  2011   19  16:19:00\n",
       "164474         2     12733.0      4  2011   19  16:19:00\n",
       "164475         6     12733.0      4  2011   19  16:19:00\n",
       "164476         5     12733.0      4  2011   19  16:19:00\n",
       "164477        36     12733.0      4  2011   19  16:19:00\n",
       "164478         6     12733.0      4  2011   19  16:19:00\n",
       "164479         6     12733.0      4  2011   19  16:19:00\n",
       "164480         7     12733.0      4  2011   19  16:19:00\n",
       "164481         6     12733.0      4  2011   19  16:19:00\n",
       "164482         6     12733.0      4  2011   19  16:19:00\n",
       "164483         6     12733.0      4  2011   19  16:19:00\n",
       "164484         5     12733.0      4  2011   19  16:19:00\n",
       "164485         4     12733.0      4  2011   19  16:19:00"
      ]
     },
     "execution_count": 16,
     "metadata": {},
     "output_type": "execute_result"
    }
   ],
   "source": [
    "Month4"
   ]
  },
  {
   "cell_type": "code",
   "execution_count": 17,
   "id": "f709e87c",
   "metadata": {},
   "outputs": [
    {
     "data": {
      "text/plain": [
       "6     7\n",
       "3     3\n",
       "7     2\n",
       "2     2\n",
       "1     2\n",
       "4     2\n",
       "5     2\n",
       "12    1\n",
       "36    1\n",
       "Name: Quantity, dtype: int64"
      ]
     },
     "execution_count": 17,
     "metadata": {},
     "output_type": "execute_result"
    }
   ],
   "source": [
    "Month4[\"Quantity\"].value_counts()\n"
   ]
  },
  {
   "cell_type": "code",
   "execution_count": 18,
   "id": "27ad28c9",
   "metadata": {},
   "outputs": [
    {
     "data": {
      "text/plain": [
       "count    22.000000\n",
       "mean      6.227273\n",
       "std       7.090784\n",
       "min       1.000000\n",
       "25%       3.000000\n",
       "50%       5.500000\n",
       "75%       6.000000\n",
       "max      36.000000\n",
       "Name: Quantity, dtype: float64"
      ]
     },
     "execution_count": 18,
     "metadata": {},
     "output_type": "execute_result"
    }
   ],
   "source": [
    "Month4[\"Quantity\"].describe()"
   ]
  },
  {
   "cell_type": "code",
   "execution_count": 19,
   "id": "bba01a86",
   "metadata": {},
   "outputs": [
    {
     "data": {
      "text/plain": [
       "(-1.5, 10.5)"
      ]
     },
     "execution_count": 19,
     "metadata": {},
     "output_type": "execute_result"
    }
   ],
   "source": [
    "Q1=Month4[\"Quantity\"].quantile(0.25)\n",
    "Q3=Month4[\"Quantity\"].quantile(0.75)\n",
    "\n",
    "IQR=Q3-Q1\n",
    "lower_limit=Q1-1.5*IQR\n",
    "upper_limit=Q3+1.5*IQR\n",
    "lower_limit,upper_limit"
   ]
  },
  {
   "cell_type": "code",
   "execution_count": 20,
   "id": "cb48d999",
   "metadata": {},
   "outputs": [
    {
     "data": {
      "text/plain": [
       "Int64Index([164472, 164477], dtype='int64')"
      ]
     },
     "execution_count": 20,
     "metadata": {},
     "output_type": "execute_result"
    }
   ],
   "source": [
    "m4del_i=Month4[(Month4[\"Quantity\"]<lower_limit)|(Month4[\"Quantity\"]>upper_limit)].index\n",
    "m4del_i"
   ]
  },
  {
   "cell_type": "markdown",
   "id": "08d77de3",
   "metadata": {},
   "source": [
    "In month 4 we have 2 outliers we can remove it ."
   ]
  },
  {
   "cell_type": "markdown",
   "id": "f660beee",
   "metadata": {},
   "source": [
    "#### Month 12"
   ]
  },
  {
   "cell_type": "code",
   "execution_count": 21,
   "id": "56015ad5",
   "metadata": {},
   "outputs": [
    {
     "data": {
      "text/plain": [
       "(43, 6)"
      ]
     },
     "execution_count": 21,
     "metadata": {},
     "output_type": "execute_result"
    }
   ],
   "source": [
    "Month12.shape"
   ]
  },
  {
   "cell_type": "code",
   "execution_count": 22,
   "id": "5b962c0e",
   "metadata": {},
   "outputs": [
    {
     "data": {
      "text/plain": [
       "5    21\n",
       "2    11\n",
       "8    11\n",
       "Name: Day, dtype: int64"
      ]
     },
     "execution_count": 22,
     "metadata": {},
     "output_type": "execute_result"
    }
   ],
   "source": [
    "Month12[\"Day\"].value_counts()"
   ]
  },
  {
   "cell_type": "code",
   "execution_count": 23,
   "id": "af453f97",
   "metadata": {},
   "outputs": [
    {
     "name": "stderr",
     "output_type": "stream",
     "text": [
      "C:\\Users\\ADMIN\\anaconda3\\lib\\site-packages\\seaborn\\_decorators.py:36: FutureWarning: Pass the following variable as a keyword arg: x. From version 0.12, the only valid positional argument will be `data`, and passing other arguments without an explicit keyword will result in an error or misinterpretation.\n",
      "  warnings.warn(\n"
     ]
    },
    {
     "data": {
      "image/png": "[encoded data removed]",
      "text/plain": [
       "<Figure size 640x480 with 1 Axes>"
      ]
     },
     "metadata": {},
     "output_type": "display_data"
    }
   ],
   "source": [
    "sns.countplot(Month12.CustomerID)\n",
    "plt.title(\"CustomerID by Item purchased count in month 12\")\n",
    "plt.show()"
   ]
  },
  {
   "cell_type": "code",
   "execution_count": 45,
   "id": "5db303e7",
   "metadata": {},
   "outputs": [
    {
     "data": {
      "text/html": [
       "<div>\n",
       "<style scoped>\n",
       "    .dataframe tbody tr th:only-of-type {\n",
       "        vertical-align: middle;\n",
       "    }\n",
       "\n",
       "    .dataframe tbody tr th {\n",
       "        vertical-align: top;\n",
       "    }\n",
       "\n",
       "    .dataframe thead th {\n",
       "        text-align: right;\n",
       "    }\n",
       "</style>\n",
       "<table border=\"1\" class=\"dataframe\">\n",
       "  <thead>\n",
       "    <tr style=\"text-align: right;\">\n",
       "      <th></th>\n",
       "      <th>Quantity</th>\n",
       "      <th>CustomerID</th>\n",
       "      <th>Month</th>\n",
       "      <th>Year</th>\n",
       "      <th>Day</th>\n",
       "      <th>Time</th>\n",
       "    </tr>\n",
       "  </thead>\n",
       "  <tbody>\n",
       "    <tr>\n",
       "      <th>519634</th>\n",
       "      <td>12</td>\n",
       "      <td>12558.0</td>\n",
       "      <td>12</td>\n",
       "      <td>2011</td>\n",
       "      <td>2</td>\n",
       "      <td>10:41:00</td>\n",
       "    </tr>\n",
       "    <tr>\n",
       "      <th>519635</th>\n",
       "      <td>10</td>\n",
       "      <td>12558.0</td>\n",
       "      <td>12</td>\n",
       "      <td>2011</td>\n",
       "      <td>2</td>\n",
       "      <td>10:41:00</td>\n",
       "    </tr>\n",
       "    <tr>\n",
       "      <th>519636</th>\n",
       "      <td>10</td>\n",
       "      <td>12558.0</td>\n",
       "      <td>12</td>\n",
       "      <td>2011</td>\n",
       "      <td>2</td>\n",
       "      <td>10:41:00</td>\n",
       "    </tr>\n",
       "    <tr>\n",
       "      <th>519637</th>\n",
       "      <td>20</td>\n",
       "      <td>12558.0</td>\n",
       "      <td>12</td>\n",
       "      <td>2011</td>\n",
       "      <td>2</td>\n",
       "      <td>10:41:00</td>\n",
       "    </tr>\n",
       "    <tr>\n",
       "      <th>519638</th>\n",
       "      <td>24</td>\n",
       "      <td>12558.0</td>\n",
       "      <td>12</td>\n",
       "      <td>2011</td>\n",
       "      <td>2</td>\n",
       "      <td>10:41:00</td>\n",
       "    </tr>\n",
       "    <tr>\n",
       "      <th>519639</th>\n",
       "      <td>24</td>\n",
       "      <td>12558.0</td>\n",
       "      <td>12</td>\n",
       "      <td>2011</td>\n",
       "      <td>2</td>\n",
       "      <td>10:41:00</td>\n",
       "    </tr>\n",
       "    <tr>\n",
       "      <th>519640</th>\n",
       "      <td>24</td>\n",
       "      <td>12558.0</td>\n",
       "      <td>12</td>\n",
       "      <td>2011</td>\n",
       "      <td>2</td>\n",
       "      <td>10:41:00</td>\n",
       "    </tr>\n",
       "    <tr>\n",
       "      <th>519641</th>\n",
       "      <td>36</td>\n",
       "      <td>12558.0</td>\n",
       "      <td>12</td>\n",
       "      <td>2011</td>\n",
       "      <td>2</td>\n",
       "      <td>10:41:00</td>\n",
       "    </tr>\n",
       "    <tr>\n",
       "      <th>519642</th>\n",
       "      <td>12</td>\n",
       "      <td>12558.0</td>\n",
       "      <td>12</td>\n",
       "      <td>2011</td>\n",
       "      <td>2</td>\n",
       "      <td>10:41:00</td>\n",
       "    </tr>\n",
       "    <tr>\n",
       "      <th>519643</th>\n",
       "      <td>12</td>\n",
       "      <td>12558.0</td>\n",
       "      <td>12</td>\n",
       "      <td>2011</td>\n",
       "      <td>2</td>\n",
       "      <td>10:41:00</td>\n",
       "    </tr>\n",
       "    <tr>\n",
       "      <th>519644</th>\n",
       "      <td>12</td>\n",
       "      <td>12558.0</td>\n",
       "      <td>12</td>\n",
       "      <td>2011</td>\n",
       "      <td>2</td>\n",
       "      <td>10:41:00</td>\n",
       "    </tr>\n",
       "    <tr>\n",
       "      <th>536916</th>\n",
       "      <td>-10</td>\n",
       "      <td>12558.0</td>\n",
       "      <td>12</td>\n",
       "      <td>2011</td>\n",
       "      <td>8</td>\n",
       "      <td>10:14:00</td>\n",
       "    </tr>\n",
       "    <tr>\n",
       "      <th>536917</th>\n",
       "      <td>-24</td>\n",
       "      <td>12558.0</td>\n",
       "      <td>12</td>\n",
       "      <td>2011</td>\n",
       "      <td>8</td>\n",
       "      <td>10:14:00</td>\n",
       "    </tr>\n",
       "    <tr>\n",
       "      <th>536918</th>\n",
       "      <td>-24</td>\n",
       "      <td>12558.0</td>\n",
       "      <td>12</td>\n",
       "      <td>2011</td>\n",
       "      <td>8</td>\n",
       "      <td>10:14:00</td>\n",
       "    </tr>\n",
       "    <tr>\n",
       "      <th>536919</th>\n",
       "      <td>-24</td>\n",
       "      <td>12558.0</td>\n",
       "      <td>12</td>\n",
       "      <td>2011</td>\n",
       "      <td>8</td>\n",
       "      <td>10:14:00</td>\n",
       "    </tr>\n",
       "    <tr>\n",
       "      <th>536920</th>\n",
       "      <td>-10</td>\n",
       "      <td>12558.0</td>\n",
       "      <td>12</td>\n",
       "      <td>2011</td>\n",
       "      <td>8</td>\n",
       "      <td>10:14:00</td>\n",
       "    </tr>\n",
       "    <tr>\n",
       "      <th>536921</th>\n",
       "      <td>-20</td>\n",
       "      <td>12558.0</td>\n",
       "      <td>12</td>\n",
       "      <td>2011</td>\n",
       "      <td>8</td>\n",
       "      <td>10:14:00</td>\n",
       "    </tr>\n",
       "    <tr>\n",
       "      <th>536922</th>\n",
       "      <td>-36</td>\n",
       "      <td>12558.0</td>\n",
       "      <td>12</td>\n",
       "      <td>2011</td>\n",
       "      <td>8</td>\n",
       "      <td>10:14:00</td>\n",
       "    </tr>\n",
       "    <tr>\n",
       "      <th>536923</th>\n",
       "      <td>-12</td>\n",
       "      <td>12558.0</td>\n",
       "      <td>12</td>\n",
       "      <td>2011</td>\n",
       "      <td>8</td>\n",
       "      <td>10:14:00</td>\n",
       "    </tr>\n",
       "    <tr>\n",
       "      <th>536924</th>\n",
       "      <td>-12</td>\n",
       "      <td>12558.0</td>\n",
       "      <td>12</td>\n",
       "      <td>2011</td>\n",
       "      <td>8</td>\n",
       "      <td>10:14:00</td>\n",
       "    </tr>\n",
       "    <tr>\n",
       "      <th>536925</th>\n",
       "      <td>-12</td>\n",
       "      <td>12558.0</td>\n",
       "      <td>12</td>\n",
       "      <td>2011</td>\n",
       "      <td>8</td>\n",
       "      <td>10:14:00</td>\n",
       "    </tr>\n",
       "    <tr>\n",
       "      <th>536926</th>\n",
       "      <td>-12</td>\n",
       "      <td>12558.0</td>\n",
       "      <td>12</td>\n",
       "      <td>2011</td>\n",
       "      <td>8</td>\n",
       "      <td>10:14:00</td>\n",
       "    </tr>\n",
       "  </tbody>\n",
       "</table>\n",
       "</div>"
      ],
      "text/plain": [
       "        Quantity  CustomerID  Month  Year  Day      Time\n",
       "519634        12     12558.0     12  2011    2  10:41:00\n",
       "519635        10     12558.0     12  2011    2  10:41:00\n",
       "519636        10     12558.0     12  2011    2  10:41:00\n",
       "519637        20     12558.0     12  2011    2  10:41:00\n",
       "519638        24     12558.0     12  2011    2  10:41:00\n",
       "519639        24     12558.0     12  2011    2  10:41:00\n",
       "519640        24     12558.0     12  2011    2  10:41:00\n",
       "519641        36     12558.0     12  2011    2  10:41:00\n",
       "519642        12     12558.0     12  2011    2  10:41:00\n",
       "519643        12     12558.0     12  2011    2  10:41:00\n",
       "519644        12     12558.0     12  2011    2  10:41:00\n",
       "536916       -10     12558.0     12  2011    8  10:14:00\n",
       "536917       -24     12558.0     12  2011    8  10:14:00\n",
       "536918       -24     12558.0     12  2011    8  10:14:00\n",
       "536919       -24     12558.0     12  2011    8  10:14:00\n",
       "536920       -10     12558.0     12  2011    8  10:14:00\n",
       "536921       -20     12558.0     12  2011    8  10:14:00\n",
       "536922       -36     12558.0     12  2011    8  10:14:00\n",
       "536923       -12     12558.0     12  2011    8  10:14:00\n",
       "536924       -12     12558.0     12  2011    8  10:14:00\n",
       "536925       -12     12558.0     12  2011    8  10:14:00\n",
       "536926       -12     12558.0     12  2011    8  10:14:00"
      ]
     },
     "execution_count": 45,
     "metadata": {},
     "output_type": "execute_result"
    }
   ],
   "source": [
    "a=Month12[Month12[\"CustomerID\"]==12558.0]\n",
    "\n",
    "a"
   ]
  },
  {
   "cell_type": "markdown",
   "id": "e2590862",
   "metadata": {},
   "source": [
    "We can remove 36,-36"
   ]
  },
  {
   "cell_type": "code",
   "execution_count": 25,
   "id": "ca725126",
   "metadata": {},
   "outputs": [
    {
     "data": {
      "text/html": [
       "<div>\n",
       "<style scoped>\n",
       "    .dataframe tbody tr th:only-of-type {\n",
       "        vertical-align: middle;\n",
       "    }\n",
       "\n",
       "    .dataframe tbody tr th {\n",
       "        vertical-align: top;\n",
       "    }\n",
       "\n",
       "    .dataframe thead th {\n",
       "        text-align: right;\n",
       "    }\n",
       "</style>\n",
       "<table border=\"1\" class=\"dataframe\">\n",
       "  <thead>\n",
       "    <tr style=\"text-align: right;\">\n",
       "      <th></th>\n",
       "      <th>Quantity</th>\n",
       "      <th>CustomerID</th>\n",
       "      <th>Month</th>\n",
       "      <th>Year</th>\n",
       "      <th>Day</th>\n",
       "      <th>Time</th>\n",
       "    </tr>\n",
       "  </thead>\n",
       "  <tbody>\n",
       "    <tr>\n",
       "      <th>524416</th>\n",
       "      <td>16</td>\n",
       "      <td>12646.0</td>\n",
       "      <td>12</td>\n",
       "      <td>2011</td>\n",
       "      <td>5</td>\n",
       "      <td>10:14:00</td>\n",
       "    </tr>\n",
       "    <tr>\n",
       "      <th>524417</th>\n",
       "      <td>16</td>\n",
       "      <td>12646.0</td>\n",
       "      <td>12</td>\n",
       "      <td>2011</td>\n",
       "      <td>5</td>\n",
       "      <td>10:14:00</td>\n",
       "    </tr>\n",
       "    <tr>\n",
       "      <th>524418</th>\n",
       "      <td>16</td>\n",
       "      <td>12646.0</td>\n",
       "      <td>12</td>\n",
       "      <td>2011</td>\n",
       "      <td>5</td>\n",
       "      <td>10:14:00</td>\n",
       "    </tr>\n",
       "    <tr>\n",
       "      <th>524419</th>\n",
       "      <td>16</td>\n",
       "      <td>12646.0</td>\n",
       "      <td>12</td>\n",
       "      <td>2011</td>\n",
       "      <td>5</td>\n",
       "      <td>10:14:00</td>\n",
       "    </tr>\n",
       "    <tr>\n",
       "      <th>524420</th>\n",
       "      <td>16</td>\n",
       "      <td>12646.0</td>\n",
       "      <td>12</td>\n",
       "      <td>2011</td>\n",
       "      <td>5</td>\n",
       "      <td>10:14:00</td>\n",
       "    </tr>\n",
       "    <tr>\n",
       "      <th>524421</th>\n",
       "      <td>8</td>\n",
       "      <td>12646.0</td>\n",
       "      <td>12</td>\n",
       "      <td>2011</td>\n",
       "      <td>5</td>\n",
       "      <td>10:14:00</td>\n",
       "    </tr>\n",
       "    <tr>\n",
       "      <th>524422</th>\n",
       "      <td>8</td>\n",
       "      <td>12646.0</td>\n",
       "      <td>12</td>\n",
       "      <td>2011</td>\n",
       "      <td>5</td>\n",
       "      <td>10:14:00</td>\n",
       "    </tr>\n",
       "    <tr>\n",
       "      <th>524423</th>\n",
       "      <td>8</td>\n",
       "      <td>12646.0</td>\n",
       "      <td>12</td>\n",
       "      <td>2011</td>\n",
       "      <td>5</td>\n",
       "      <td>10:14:00</td>\n",
       "    </tr>\n",
       "    <tr>\n",
       "      <th>524424</th>\n",
       "      <td>8</td>\n",
       "      <td>12646.0</td>\n",
       "      <td>12</td>\n",
       "      <td>2011</td>\n",
       "      <td>5</td>\n",
       "      <td>10:14:00</td>\n",
       "    </tr>\n",
       "    <tr>\n",
       "      <th>524425</th>\n",
       "      <td>24</td>\n",
       "      <td>12646.0</td>\n",
       "      <td>12</td>\n",
       "      <td>2011</td>\n",
       "      <td>5</td>\n",
       "      <td>10:14:00</td>\n",
       "    </tr>\n",
       "    <tr>\n",
       "      <th>524426</th>\n",
       "      <td>72</td>\n",
       "      <td>12646.0</td>\n",
       "      <td>12</td>\n",
       "      <td>2011</td>\n",
       "      <td>5</td>\n",
       "      <td>10:14:00</td>\n",
       "    </tr>\n",
       "    <tr>\n",
       "      <th>524427</th>\n",
       "      <td>12</td>\n",
       "      <td>12646.0</td>\n",
       "      <td>12</td>\n",
       "      <td>2011</td>\n",
       "      <td>5</td>\n",
       "      <td>10:14:00</td>\n",
       "    </tr>\n",
       "    <tr>\n",
       "      <th>524428</th>\n",
       "      <td>12</td>\n",
       "      <td>12646.0</td>\n",
       "      <td>12</td>\n",
       "      <td>2011</td>\n",
       "      <td>5</td>\n",
       "      <td>10:14:00</td>\n",
       "    </tr>\n",
       "    <tr>\n",
       "      <th>524429</th>\n",
       "      <td>12</td>\n",
       "      <td>12646.0</td>\n",
       "      <td>12</td>\n",
       "      <td>2011</td>\n",
       "      <td>5</td>\n",
       "      <td>10:14:00</td>\n",
       "    </tr>\n",
       "    <tr>\n",
       "      <th>524430</th>\n",
       "      <td>16</td>\n",
       "      <td>12646.0</td>\n",
       "      <td>12</td>\n",
       "      <td>2011</td>\n",
       "      <td>5</td>\n",
       "      <td>10:14:00</td>\n",
       "    </tr>\n",
       "    <tr>\n",
       "      <th>524431</th>\n",
       "      <td>16</td>\n",
       "      <td>12646.0</td>\n",
       "      <td>12</td>\n",
       "      <td>2011</td>\n",
       "      <td>5</td>\n",
       "      <td>10:14:00</td>\n",
       "    </tr>\n",
       "    <tr>\n",
       "      <th>524432</th>\n",
       "      <td>16</td>\n",
       "      <td>12646.0</td>\n",
       "      <td>12</td>\n",
       "      <td>2011</td>\n",
       "      <td>5</td>\n",
       "      <td>10:14:00</td>\n",
       "    </tr>\n",
       "    <tr>\n",
       "      <th>524433</th>\n",
       "      <td>16</td>\n",
       "      <td>12646.0</td>\n",
       "      <td>12</td>\n",
       "      <td>2011</td>\n",
       "      <td>5</td>\n",
       "      <td>10:14:00</td>\n",
       "    </tr>\n",
       "    <tr>\n",
       "      <th>524434</th>\n",
       "      <td>72</td>\n",
       "      <td>12646.0</td>\n",
       "      <td>12</td>\n",
       "      <td>2011</td>\n",
       "      <td>5</td>\n",
       "      <td>10:14:00</td>\n",
       "    </tr>\n",
       "    <tr>\n",
       "      <th>524435</th>\n",
       "      <td>12</td>\n",
       "      <td>12646.0</td>\n",
       "      <td>12</td>\n",
       "      <td>2011</td>\n",
       "      <td>5</td>\n",
       "      <td>10:14:00</td>\n",
       "    </tr>\n",
       "    <tr>\n",
       "      <th>524436</th>\n",
       "      <td>16</td>\n",
       "      <td>12646.0</td>\n",
       "      <td>12</td>\n",
       "      <td>2011</td>\n",
       "      <td>5</td>\n",
       "      <td>10:14:00</td>\n",
       "    </tr>\n",
       "  </tbody>\n",
       "</table>\n",
       "</div>"
      ],
      "text/plain": [
       "        Quantity  CustomerID  Month  Year  Day      Time\n",
       "524416        16     12646.0     12  2011    5  10:14:00\n",
       "524417        16     12646.0     12  2011    5  10:14:00\n",
       "524418        16     12646.0     12  2011    5  10:14:00\n",
       "524419        16     12646.0     12  2011    5  10:14:00\n",
       "524420        16     12646.0     12  2011    5  10:14:00\n",
       "524421         8     12646.0     12  2011    5  10:14:00\n",
       "524422         8     12646.0     12  2011    5  10:14:00\n",
       "524423         8     12646.0     12  2011    5  10:14:00\n",
       "524424         8     12646.0     12  2011    5  10:14:00\n",
       "524425        24     12646.0     12  2011    5  10:14:00\n",
       "524426        72     12646.0     12  2011    5  10:14:00\n",
       "524427        12     12646.0     12  2011    5  10:14:00\n",
       "524428        12     12646.0     12  2011    5  10:14:00\n",
       "524429        12     12646.0     12  2011    5  10:14:00\n",
       "524430        16     12646.0     12  2011    5  10:14:00\n",
       "524431        16     12646.0     12  2011    5  10:14:00\n",
       "524432        16     12646.0     12  2011    5  10:14:00\n",
       "524433        16     12646.0     12  2011    5  10:14:00\n",
       "524434        72     12646.0     12  2011    5  10:14:00\n",
       "524435        12     12646.0     12  2011    5  10:14:00\n",
       "524436        16     12646.0     12  2011    5  10:14:00"
      ]
     },
     "execution_count": 25,
     "metadata": {},
     "output_type": "execute_result"
    }
   ],
   "source": [
    "b=Month12[Month12[\"CustomerID\"]==12646.0]\n",
    "b"
   ]
  },
  {
   "cell_type": "markdown",
   "id": "7905be03",
   "metadata": {},
   "source": [
    "we can remove 72,24"
   ]
  },
  {
   "cell_type": "markdown",
   "id": "8bd47488",
   "metadata": {},
   "source": [
    "#### Month 10"
   ]
  },
  {
   "cell_type": "code",
   "execution_count": 26,
   "id": "99062864",
   "metadata": {},
   "outputs": [
    {
     "data": {
      "text/plain": [
       "(226, 6)"
      ]
     },
     "execution_count": 26,
     "metadata": {},
     "output_type": "execute_result"
    }
   ],
   "source": [
    "Month10.shape"
   ]
  },
  {
   "cell_type": "code",
   "execution_count": 27,
   "id": "a41bcd31",
   "metadata": {},
   "outputs": [
    {
     "data": {
      "text/html": [
       "<div>\n",
       "<style scoped>\n",
       "    .dataframe tbody tr th:only-of-type {\n",
       "        vertical-align: middle;\n",
       "    }\n",
       "\n",
       "    .dataframe tbody tr th {\n",
       "        vertical-align: top;\n",
       "    }\n",
       "\n",
       "    .dataframe thead th {\n",
       "        text-align: right;\n",
       "    }\n",
       "</style>\n",
       "<table border=\"1\" class=\"dataframe\">\n",
       "  <thead>\n",
       "    <tr style=\"text-align: right;\">\n",
       "      <th></th>\n",
       "      <th>Quantity</th>\n",
       "      <th>CustomerID</th>\n",
       "      <th>Month</th>\n",
       "      <th>Year</th>\n",
       "      <th>Day</th>\n",
       "      <th>Time</th>\n",
       "    </tr>\n",
       "  </thead>\n",
       "  <tbody>\n",
       "    <tr>\n",
       "      <th>389350</th>\n",
       "      <td>12</td>\n",
       "      <td>12607.0</td>\n",
       "      <td>10</td>\n",
       "      <td>2011</td>\n",
       "      <td>10</td>\n",
       "      <td>16:06:00</td>\n",
       "    </tr>\n",
       "    <tr>\n",
       "      <th>389351</th>\n",
       "      <td>12</td>\n",
       "      <td>12607.0</td>\n",
       "      <td>10</td>\n",
       "      <td>2011</td>\n",
       "      <td>10</td>\n",
       "      <td>16:06:00</td>\n",
       "    </tr>\n",
       "    <tr>\n",
       "      <th>389352</th>\n",
       "      <td>4</td>\n",
       "      <td>12607.0</td>\n",
       "      <td>10</td>\n",
       "      <td>2011</td>\n",
       "      <td>10</td>\n",
       "      <td>16:06:00</td>\n",
       "    </tr>\n",
       "    <tr>\n",
       "      <th>389353</th>\n",
       "      <td>3</td>\n",
       "      <td>12607.0</td>\n",
       "      <td>10</td>\n",
       "      <td>2011</td>\n",
       "      <td>10</td>\n",
       "      <td>16:06:00</td>\n",
       "    </tr>\n",
       "    <tr>\n",
       "      <th>389354</th>\n",
       "      <td>2</td>\n",
       "      <td>12607.0</td>\n",
       "      <td>10</td>\n",
       "      <td>2011</td>\n",
       "      <td>10</td>\n",
       "      <td>16:06:00</td>\n",
       "    </tr>\n",
       "    <tr>\n",
       "      <th>...</th>\n",
       "      <td>...</td>\n",
       "      <td>...</td>\n",
       "      <td>...</td>\n",
       "      <td>...</td>\n",
       "      <td>...</td>\n",
       "      <td>...</td>\n",
       "    </tr>\n",
       "    <tr>\n",
       "      <th>411323</th>\n",
       "      <td>24</td>\n",
       "      <td>12646.0</td>\n",
       "      <td>10</td>\n",
       "      <td>2011</td>\n",
       "      <td>21</td>\n",
       "      <td>12:52:00</td>\n",
       "    </tr>\n",
       "    <tr>\n",
       "      <th>411324</th>\n",
       "      <td>6</td>\n",
       "      <td>12646.0</td>\n",
       "      <td>10</td>\n",
       "      <td>2011</td>\n",
       "      <td>21</td>\n",
       "      <td>12:52:00</td>\n",
       "    </tr>\n",
       "    <tr>\n",
       "      <th>411325</th>\n",
       "      <td>4</td>\n",
       "      <td>12646.0</td>\n",
       "      <td>10</td>\n",
       "      <td>2011</td>\n",
       "      <td>21</td>\n",
       "      <td>12:52:00</td>\n",
       "    </tr>\n",
       "    <tr>\n",
       "      <th>411326</th>\n",
       "      <td>4</td>\n",
       "      <td>12646.0</td>\n",
       "      <td>10</td>\n",
       "      <td>2011</td>\n",
       "      <td>21</td>\n",
       "      <td>12:52:00</td>\n",
       "    </tr>\n",
       "    <tr>\n",
       "      <th>411327</th>\n",
       "      <td>4</td>\n",
       "      <td>12646.0</td>\n",
       "      <td>10</td>\n",
       "      <td>2011</td>\n",
       "      <td>21</td>\n",
       "      <td>12:52:00</td>\n",
       "    </tr>\n",
       "  </tbody>\n",
       "</table>\n",
       "<p>226 rows × 6 columns</p>\n",
       "</div>"
      ],
      "text/plain": [
       "        Quantity  CustomerID  Month  Year  Day      Time\n",
       "389350        12     12607.0     10  2011   10  16:06:00\n",
       "389351        12     12607.0     10  2011   10  16:06:00\n",
       "389352         4     12607.0     10  2011   10  16:06:00\n",
       "389353         3     12607.0     10  2011   10  16:06:00\n",
       "389354         2     12607.0     10  2011   10  16:06:00\n",
       "...          ...         ...    ...   ...  ...       ...\n",
       "411323        24     12646.0     10  2011   21  12:52:00\n",
       "411324         6     12646.0     10  2011   21  12:52:00\n",
       "411325         4     12646.0     10  2011   21  12:52:00\n",
       "411326         4     12646.0     10  2011   21  12:52:00\n",
       "411327         4     12646.0     10  2011   21  12:52:00\n",
       "\n",
       "[226 rows x 6 columns]"
      ]
     },
     "execution_count": 27,
     "metadata": {},
     "output_type": "execute_result"
    }
   ],
   "source": [
    "Month10"
   ]
  },
  {
   "cell_type": "code",
   "execution_count": 28,
   "id": "cb00eeeb",
   "metadata": {},
   "outputs": [
    {
     "data": {
      "text/plain": [
       "12607.0    202\n",
       "12646.0     24\n",
       "Name: CustomerID, dtype: int64"
      ]
     },
     "execution_count": 28,
     "metadata": {},
     "output_type": "execute_result"
    }
   ],
   "source": [
    "Month10[\"CustomerID\"].value_counts()\n"
   ]
  },
  {
   "cell_type": "code",
   "execution_count": 29,
   "id": "394eace7",
   "metadata": {},
   "outputs": [
    {
     "data": {
      "text/plain": [
       "10    101\n",
       "12    101\n",
       "21     24\n",
       "Name: Day, dtype: int64"
      ]
     },
     "execution_count": 29,
     "metadata": {},
     "output_type": "execute_result"
    }
   ],
   "source": [
    "Month10[\"Day\"].value_counts()"
   ]
  },
  {
   "cell_type": "code",
   "execution_count": 30,
   "id": "d83ef8ea",
   "metadata": {},
   "outputs": [
    {
     "name": "stderr",
     "output_type": "stream",
     "text": [
      "C:\\Users\\ADMIN\\anaconda3\\lib\\site-packages\\seaborn\\_decorators.py:36: FutureWarning: Pass the following variable as a keyword arg: x. From version 0.12, the only valid positional argument will be `data`, and passing other arguments without an explicit keyword will result in an error or misinterpretation.\n",
      "  warnings.warn(\n"
     ]
    },
    {
     "data": {
      "image/png": "[encoded data removed]",
      "text/plain": [
       "<Figure size 640x480 with 1 Axes>"
      ]
     },
     "metadata": {},
     "output_type": "display_data"
    }
   ],
   "source": [
    "sns.countplot(Month10.Day,hue=Month10.CustomerID)\n",
    "plt.title(\"Customer Purchased item count based on Day and month \")\n",
    "plt.show()"
   ]
  },
  {
   "cell_type": "code",
   "execution_count": 31,
   "id": "8202e694",
   "metadata": {},
   "outputs": [
    {
     "data": {
      "text/plain": [
       "24    5\n",
       "6     5\n",
       "4     4\n",
       "48    4\n",
       "32    2\n",
       "3     1\n",
       "36    1\n",
       "16    1\n",
       "12    1\n",
       "Name: Quantity, dtype: int64"
      ]
     },
     "execution_count": 31,
     "metadata": {},
     "output_type": "execute_result"
    }
   ],
   "source": [
    "c10=Month10[Month10[\"CustomerID\"]==12646.0]\n",
    "c10[\"Quantity\"].value_counts()"
   ]
  },
  {
   "cell_type": "code",
   "execution_count": 32,
   "id": "d25d8771",
   "metadata": {},
   "outputs": [
    {
     "data": {
      "text/plain": [
       "(-33.0, 71.0)"
      ]
     },
     "execution_count": 32,
     "metadata": {},
     "output_type": "execute_result"
    }
   ],
   "source": [
    "Q1=c10[\"Quantity\"].quantile(0.25)\n",
    "Q3=c10[\"Quantity\"].quantile(0.75)\n",
    "\n",
    "IQR=Q3-Q1\n",
    "lower_limit=Q1-1.5*IQR\n",
    "upper_limit=Q3+1.5*IQR\n",
    "lower_limit,upper_limit"
   ]
  },
  {
   "cell_type": "code",
   "execution_count": null,
   "id": "3ce35a57",
   "metadata": {},
   "outputs": [],
   "source": []
  },
  {
   "cell_type": "code",
   "execution_count": 33,
   "id": "a7a05974",
   "metadata": {},
   "outputs": [
    {
     "data": {
      "text/plain": [
       "10    101\n",
       "12    101\n",
       "Name: Day, dtype: int64"
      ]
     },
     "execution_count": 33,
     "metadata": {},
     "output_type": "execute_result"
    }
   ],
   "source": [
    "c12_=Month10[Month10[\"CustomerID\"]==12607.0]\n",
    "c12_[\"Day\"].value_counts()"
   ]
  },
  {
   "cell_type": "code",
   "execution_count": 34,
   "id": "4f1ae4a0",
   "metadata": {},
   "outputs": [
    {
     "data": {
      "text/plain": [
       "12    34\n",
       "6     12\n",
       "24    11\n",
       "4      9\n",
       "25     9\n",
       "8      6\n",
       "10     6\n",
       "3      5\n",
       "2      3\n",
       "16     2\n",
       "5      1\n",
       "1      1\n",
       "20     1\n",
       "36     1\n",
       "Name: Quantity, dtype: int64"
      ]
     },
     "execution_count": 34,
     "metadata": {},
     "output_type": "execute_result"
    }
   ],
   "source": [
    "c12_[c12_[\"Day\"]==10][\"Quantity\"].value_counts()"
   ]
  },
  {
   "cell_type": "code",
   "execution_count": 36,
   "id": "0b175f30",
   "metadata": {},
   "outputs": [
    {
     "name": "stderr",
     "output_type": "stream",
     "text": [
      "C:\\Users\\ADMIN\\anaconda3\\lib\\site-packages\\seaborn\\_decorators.py:36: FutureWarning: Pass the following variable as a keyword arg: x. From version 0.12, the only valid positional argument will be `data`, and passing other arguments without an explicit keyword will result in an error or misinterpretation.\n",
      "  warnings.warn(\n"
     ]
    },
    {
     "data": {
      "text/plain": [
       "<AxesSubplot:xlabel='Quantity'>"
      ]
     },
     "execution_count": 36,
     "metadata": {},
     "output_type": "execute_result"
    },
    {
     "data": {
      "image/png": "[encoded data removed]",
      "text/plain": [
       "<Figure size 1800x1500 with 1 Axes>"
      ]
     },
     "metadata": {},
     "output_type": "display_data"
    }
   ],
   "source": [
    "plt.figure(figsize=(18,15))\n",
    "\n",
    "plt.subplot(3,3,1)\n",
    "\n",
    "sns.boxplot(c12_[c12_[\"Day\"]==10][\"Quantity\"])\n"
   ]
  },
  {
   "cell_type": "code",
   "execution_count": 44,
   "id": "f5326701",
   "metadata": {},
   "outputs": [
    {
     "data": {
      "text/plain": [
       "-12    34\n",
       "-6     12\n",
       "-24    11\n",
       "-4      9\n",
       "-25     9\n",
       "-8      6\n",
       "-10     6\n",
       "-3      5\n",
       "-2      3\n",
       "-16     2\n",
       "-20     1\n",
       "-1      1\n",
       "-5      1\n",
       "-36     1\n",
       "Name: Quantity, dtype: int64"
      ]
     },
     "execution_count": 44,
     "metadata": {},
     "output_type": "execute_result"
    }
   ],
   "source": [
    "c12_[c12_[\"Day\"]==12][\"Quantity\"].value_counts()\n",
    "\n"
   ]
  },
  {
   "cell_type": "markdown",
   "id": "94a9c0a8",
   "metadata": {},
   "source": [
    "I can  remove  36 id 389418\t"
   ]
  },
  {
   "cell_type": "code",
   "execution_count": 37,
   "id": "60cc77bc",
   "metadata": {},
   "outputs": [
    {
     "name": "stderr",
     "output_type": "stream",
     "text": [
      "C:\\Users\\ADMIN\\anaconda3\\lib\\site-packages\\seaborn\\_decorators.py:36: FutureWarning: Pass the following variable as a keyword arg: x. From version 0.12, the only valid positional argument will be `data`, and passing other arguments without an explicit keyword will result in an error or misinterpretation.\n",
      "  warnings.warn(\n"
     ]
    },
    {
     "data": {
      "text/plain": [
       "<AxesSubplot:xlabel='Quantity'>"
      ]
     },
     "execution_count": 37,
     "metadata": {},
     "output_type": "execute_result"
    },
    {
     "data": {
      "image/png": "[encoded data removed]",
      "text/plain": [
       "<Figure size 1800x1500 with 1 Axes>"
      ]
     },
     "metadata": {},
     "output_type": "display_data"
    }
   ],
   "source": [
    "plt.figure(figsize=(18,15))\n",
    "\n",
    "plt.subplot(3,3,1)\n",
    "\n",
    "sns.boxplot(c12_[c12_[\"Day\"]==12][\"Quantity\"])\n"
   ]
  },
  {
   "cell_type": "markdown",
   "id": "0d8dbb35",
   "metadata": {},
   "source": [
    "I can remove -36  id 394033\t"
   ]
  },
  {
   "cell_type": "code",
   "execution_count": 89,
   "id": "7786043c",
   "metadata": {},
   "outputs": [],
   "source": [
    "m12del_i=[519641,536922,524426,524434,524425,389418,394033]"
   ]
  },
  {
   "cell_type": "markdown",
   "id": "948be301",
   "metadata": {},
   "source": [
    "# Regression Model Building"
   ]
  },
  {
   "cell_type": "code",
   "execution_count": 46,
   "id": "349896dd",
   "metadata": {},
   "outputs": [],
   "source": [
    "from sklearn.metrics import r2_score,mean_squared_error,mean_absolute_error\n",
    "\n",
    "from sklearn .model_selection import train_test_split,cross_val_score,KFold\n",
    "\n",
    "from sklearn.tree import DecisionTreeRegressor\n",
    "from sklearn.linear_model import LinearRegression\n",
    "from sklearn.neural_network import MLPRegressor\n"
   ]
  },
  {
   "cell_type": "code",
   "execution_count": 47,
   "id": "dbf030cd",
   "metadata": {},
   "outputs": [
    {
     "data": {
      "text/plain": [
       "[519641, 536922, 524426, 524434, 524425, 389418, 394033, 164472, 164477]"
      ]
     },
     "execution_count": 47,
     "metadata": {},
     "output_type": "execute_result"
    }
   ],
   "source": [
    "m12del_i.extend(list(m4del_i))\n",
    "m12del_i"
   ]
  },
  {
   "cell_type": "code",
   "execution_count": 48,
   "id": "d18f89b7",
   "metadata": {},
   "outputs": [],
   "source": [
    "X=X.drop(m12del_i,axis=0)"
   ]
  },
  {
   "cell_type": "code",
   "execution_count": 49,
   "id": "f18fb08f",
   "metadata": {},
   "outputs": [],
   "source": [
    "x=X.drop([\"Quantity\",\"Time\"],axis=1)\n",
    "y=X[\"Quantity\"]"
   ]
  },
  {
   "cell_type": "code",
   "execution_count": 65,
   "id": "90f580b7",
   "metadata": {},
   "outputs": [],
   "source": [
    "X_train, X_test, y_train, y_test= train_test_split(x,y,test_size = 0.25,random_state=9337 )  \n",
    "#2 74"
   ]
  },
  {
   "cell_type": "code",
   "execution_count": 66,
   "id": "554b5c62",
   "metadata": {},
   "outputs": [],
   "source": [
    "regressor = DecisionTreeRegressor(random_state = 1) \n",
    "  \n",
    "\n",
    "Model=regressor.fit(X_train, y_train)\n",
    "y_pred = Model.predict(X_test)"
   ]
  },
  {
   "cell_type": "code",
   "execution_count": 67,
   "id": "21dd76ed",
   "metadata": {},
   "outputs": [
    {
     "name": "stdout",
     "output_type": "stream",
     "text": [
      "The accuracy of our model is 85.0%\n"
     ]
    }
   ],
   "source": [
    "\n",
    "score = r2_score(y_test, y_pred)\n",
    "print(\"The accuracy of our model is {}%\".format(round(score, 2) *100))"
   ]
  },
  {
   "cell_type": "code",
   "execution_count": null,
   "id": "9977a39b",
   "metadata": {},
   "outputs": [],
   "source": [
    "\n"
   ]
  },
  {
   "cell_type": "code",
   "execution_count": 69,
   "id": "3bd07815",
   "metadata": {},
   "outputs": [],
   "source": [
    "LR = LinearRegression()\n",
    "model_LR = LR.fit(X_train, y_train)\n",
    "model_LR_pred = model_LR.predict(X_test)"
   ]
  },
  {
   "cell_type": "code",
   "execution_count": 70,
   "id": "e3a20975",
   "metadata": {},
   "outputs": [
    {
     "data": {
      "text/plain": [
       "'The R2 score for LR model is 3.8219109777784532'"
      ]
     },
     "execution_count": 70,
     "metadata": {},
     "output_type": "execute_result"
    }
   ],
   "source": [
    "f\"The R2 score for LR model is {r2_score(y_test, model_LR_pred )*100}\""
   ]
  },
  {
   "cell_type": "markdown",
   "id": "c3dc35a6",
   "metadata": {},
   "source": [
    "#### From above Linear model accurcy we can say  that our data set is not linearly seperated "
   ]
  },
  {
   "cell_type": "code",
   "execution_count": 71,
   "id": "3000b44e",
   "metadata": {},
   "outputs": [],
   "source": [
    "#Random Forest Regression\n",
    "from sklearn.ensemble import RandomForestRegressor\n",
    " \n",
    "\n",
    "regressor = RandomForestRegressor(n_estimators=100,\n",
    "                                  random_state=1)\n",
    "regressor.fit(X_train, y_train)\n",
    "y_pred_ = regressor.predict(X_test)"
   ]
  },
  {
   "cell_type": "code",
   "execution_count": 72,
   "id": "e860fb0f",
   "metadata": {},
   "outputs": [
    {
     "name": "stdout",
     "output_type": "stream",
     "text": [
      "The accuracy of our model is 66.0%\n"
     ]
    }
   ],
   "source": [
    "score = r2_score(y_test, y_pred_)\n",
    "print(\"The accuracy of our model is {}%\".format(round(score, 2) *100))"
   ]
  },
  {
   "cell_type": "code",
   "execution_count": 43,
   "id": "e2ea82e4",
   "metadata": {},
   "outputs": [],
   "source": [
    "\n",
    "from sklearn.svm import SVR\n",
    "svr = SVR(kernel='sigmoid')\n",
    "  \n",
    "\n",
    "svr.fit(X_train, y_train)\n",
    "  \n",
    "\n",
    "y_pred_ = svr.predict(X_test)"
   ]
  },
  {
   "cell_type": "code",
   "execution_count": 44,
   "id": "13d14419",
   "metadata": {},
   "outputs": [
    {
     "name": "stdout",
     "output_type": "stream",
     "text": [
      "The accuracy of our model is -1.0%\n"
     ]
    }
   ],
   "source": [
    "score = r2_score(y_test, y_pred_)\n",
    "print(\"The accuracy of our model is {}%\".format(round(score, 2) *100))"
   ]
  },
  {
   "cell_type": "code",
   "execution_count": 118,
   "id": "57cb695a",
   "metadata": {},
   "outputs": [],
   "source": []
  },
  {
   "cell_type": "code",
   "execution_count": null,
   "id": "1de7997d",
   "metadata": {},
   "outputs": [],
   "source": []
  },
  {
   "cell_type": "markdown",
   "id": "53d68776",
   "metadata": {},
   "source": [
    "### Model Deployment"
   ]
  },
  {
   "cell_type": "code",
   "execution_count": 79,
   "id": "c6020c75",
   "metadata": {},
   "outputs": [],
   "source": [
    "import pickle"
   ]
  },
  {
   "cell_type": "code",
   "execution_count": 80,
   "id": "45be6cf1",
   "metadata": {},
   "outputs": [],
   "source": [
    "\n",
    "pickle_=open(\"Model\",\"wb\")\n",
    "pickle.dump(Model,pickle_)\n",
    "pickle_.close()"
   ]
  },
  {
   "cell_type": "code",
   "execution_count": 81,
   "id": "23d1c9c2",
   "metadata": {},
   "outputs": [],
   "source": [
    "pickel_in=open(\"Model\",\"rb\")\n",
    "model=pickle.load(pickel_in)\n",
    "#pred = model.predict(X_test)\n",
    "\n",
    "#print(\"The accuracy of our model is {}%\".format(round(score, 2) *100))"
   ]
  },
  {
   "cell_type": "code",
   "execution_count": null,
   "id": "5045ec46",
   "metadata": {},
   "outputs": [],
   "source": [
    "pred = model.predict(X_test)"
   ]
  },
  {
   "cell_type": "code",
   "execution_count": 69,
   "id": "fbbb59aa",
   "metadata": {
    "scrolled": true
   },
   "outputs": [
    {
     "data": {
      "text/html": [
       "<div>\n",
       "<style scoped>\n",
       "    .dataframe tbody tr th:only-of-type {\n",
       "        vertical-align: middle;\n",
       "    }\n",
       "\n",
       "    .dataframe tbody tr th {\n",
       "        vertical-align: top;\n",
       "    }\n",
       "\n",
       "    .dataframe thead th {\n",
       "        text-align: right;\n",
       "    }\n",
       "</style>\n",
       "<table border=\"1\" class=\"dataframe\">\n",
       "  <thead>\n",
       "    <tr style=\"text-align: right;\">\n",
       "      <th></th>\n",
       "      <th>CustomerID</th>\n",
       "      <th>Month</th>\n",
       "      <th>Year</th>\n",
       "      <th>Day</th>\n",
       "    </tr>\n",
       "  </thead>\n",
       "  <tbody>\n",
       "    <tr>\n",
       "      <th>389356</th>\n",
       "      <td>12607.0</td>\n",
       "      <td>10</td>\n",
       "      <td>2011</td>\n",
       "      <td>10</td>\n",
       "    </tr>\n",
       "    <tr>\n",
       "      <th>394004</th>\n",
       "      <td>12607.0</td>\n",
       "      <td>10</td>\n",
       "      <td>2011</td>\n",
       "      <td>12</td>\n",
       "    </tr>\n",
       "    <tr>\n",
       "      <th>524433</th>\n",
       "      <td>12646.0</td>\n",
       "      <td>12</td>\n",
       "      <td>2011</td>\n",
       "      <td>5</td>\n",
       "    </tr>\n",
       "    <tr>\n",
       "      <th>524419</th>\n",
       "      <td>12646.0</td>\n",
       "      <td>12</td>\n",
       "      <td>2011</td>\n",
       "      <td>5</td>\n",
       "    </tr>\n",
       "    <tr>\n",
       "      <th>524423</th>\n",
       "      <td>12646.0</td>\n",
       "      <td>12</td>\n",
       "      <td>2011</td>\n",
       "      <td>5</td>\n",
       "    </tr>\n",
       "    <tr>\n",
       "      <th>...</th>\n",
       "      <td>...</td>\n",
       "      <td>...</td>\n",
       "      <td>...</td>\n",
       "      <td>...</td>\n",
       "    </tr>\n",
       "    <tr>\n",
       "      <th>394084</th>\n",
       "      <td>12607.0</td>\n",
       "      <td>10</td>\n",
       "      <td>2011</td>\n",
       "      <td>12</td>\n",
       "    </tr>\n",
       "    <tr>\n",
       "      <th>411307</th>\n",
       "      <td>12646.0</td>\n",
       "      <td>10</td>\n",
       "      <td>2011</td>\n",
       "      <td>21</td>\n",
       "    </tr>\n",
       "    <tr>\n",
       "      <th>411316</th>\n",
       "      <td>12646.0</td>\n",
       "      <td>10</td>\n",
       "      <td>2011</td>\n",
       "      <td>21</td>\n",
       "    </tr>\n",
       "    <tr>\n",
       "      <th>524436</th>\n",
       "      <td>12646.0</td>\n",
       "      <td>12</td>\n",
       "      <td>2011</td>\n",
       "      <td>5</td>\n",
       "    </tr>\n",
       "    <tr>\n",
       "      <th>394017</th>\n",
       "      <td>12607.0</td>\n",
       "      <td>10</td>\n",
       "      <td>2011</td>\n",
       "      <td>12</td>\n",
       "    </tr>\n",
       "  </tbody>\n",
       "</table>\n",
       "<p>71 rows × 4 columns</p>\n",
       "</div>"
      ],
      "text/plain": [
       "        CustomerID  Month  Year  Day\n",
       "389356     12607.0     10  2011   10\n",
       "394004     12607.0     10  2011   12\n",
       "524433     12646.0     12  2011    5\n",
       "524419     12646.0     12  2011    5\n",
       "524423     12646.0     12  2011    5\n",
       "...            ...    ...   ...  ...\n",
       "394084     12607.0     10  2011   12\n",
       "411307     12646.0     10  2011   21\n",
       "411316     12646.0     10  2011   21\n",
       "524436     12646.0     12  2011    5\n",
       "394017     12607.0     10  2011   12\n",
       "\n",
       "[71 rows x 4 columns]"
      ]
     },
     "execution_count": 69,
     "metadata": {},
     "output_type": "execute_result"
    }
   ],
   "source": [
    "X_test"
   ]
  },
  {
   "cell_type": "markdown",
   "id": "654647a1",
   "metadata": {},
   "source": [
    "#### Task:\n",
    "#### User Story: User should be able to provide a Customer ID and Date, and program should be able to predict quantity.\n"
   ]
  },
  {
   "cell_type": "code",
   "execution_count": 93,
   "id": "f26633d7",
   "metadata": {},
   "outputs": [
    {
     "name": "stdout",
     "output_type": "stream",
     "text": [
      "Enter CustomerID12607.0\n",
      "Enter Year2011\n",
      "Enter  Month10\n",
      "Enter Day10\n",
      "Output Predicted Quantity: 13\n"
     ]
    },
    {
     "name": "stderr",
     "output_type": "stream",
     "text": [
      "C:\\Users\\ADMIN\\anaconda3\\lib\\site-packages\\sklearn\\base.py:450: UserWarning: X does not have valid feature names, but DecisionTreeRegressor was fitted with feature names\n",
      "  warnings.warn(\n"
     ]
    }
   ],
   "source": [
    "values=[]\n",
    "a=float(input(\"Enter CustomerID\"))\n",
    "values.append(a)\n",
    "a=input(\"Enter Year\")\n",
    "b=int(input(\"Enter  Month\"))\n",
    "c= int(input(\"Enter Day\"))\n",
    "values.append(int(a))\n",
    "values.append(int(b))\n",
    "values.append(int(c))\n",
    "pred = model.predict([values])\n",
    "print(\"Output Predicted Quantity:\",int(pred))"
   ]
  },
  {
   "cell_type": "code",
   "execution_count": null,
   "id": "7983ea1b",
   "metadata": {},
   "outputs": [],
   "source": []
  }
 ],
 "metadata": {
  "kernelspec": {
   "display_name": "Python 3 (ipykernel)",
   "language": "python",
   "name": "python3"
  },
  "language_info": {
   "codemirror_mode": {
    "name": "ipython",
    "version": 3
   },
   "file_extension": ".py",
   "mimetype": "text/x-python",
   "name": "python",
   "nbconvert_exporter": "python",
   "pygments_lexer": "ipython3",
   "version": "3.9.13"
  }
 },
 "nbformat": 4,
 "nbformat_minor": 5
}
