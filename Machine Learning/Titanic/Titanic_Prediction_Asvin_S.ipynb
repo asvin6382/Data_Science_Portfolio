{
 "cells": [
  {
   "cell_type": "code",
   "execution_count": 1,
   "id": "ba0eb37f",
   "metadata": {
    "_cell_guid": "b1076dfc-b9ad-4769-8c92-a6c4dae69d19",
    "_uuid": "8f2839f25d086af736a60e9eeb907d3b93b6e0e5",
    "execution": {
     "iopub.execute_input": "2023-10-05T17:26:33.403282Z",
     "iopub.status.busy": "2023-10-05T17:26:33.402630Z",
     "iopub.status.idle": "2023-10-05T17:26:35.161700Z",
     "shell.execute_reply": "2023-10-05T17:26:35.161022Z"
    },
    "papermill": {
     "duration": 1.775239,
     "end_time": "2023-10-05T17:26:35.163603",
     "exception": false,
     "start_time": "2023-10-05T17:26:33.388364",
     "status": "completed"
    },
    "tags": []
   },
   "outputs": [],
   "source": [
    "\n",
    "\n",
    "import numpy as np \n",
    "import pandas as pd \n",
    "import matplotlib.pyplot as plt\n",
    "import seaborn as sns\n",
    "\n",
    "from collections import Counter\n",
    "import warnings\n",
    "warnings.filterwarnings(\"ignore\")\n",
    "\n",
    "\n",
    "\n",
    "import os\n",
    "\n"
   ]
  },
  {
   "cell_type": "markdown",
   "id": "416ff919",
   "metadata": {
    "papermill": {
     "duration": 0.012258,
     "end_time": "2023-10-05T17:26:35.188966",
     "exception": false,
     "start_time": "2023-10-05T17:26:35.176708",
     "status": "completed"
    },
    "tags": []
   },
   "source": [
    "## Load the dataset"
   ]
  },
  {
   "cell_type": "code",
   "execution_count": 2,
   "id": "ffcdf320",
   "metadata": {},
   "outputs": [
    {
     "data": {
      "text/html": [
       "<div>\n",
       "<style scoped>\n",
       "    .dataframe tbody tr th:only-of-type {\n",
       "        vertical-align: middle;\n",
       "    }\n",
       "\n",
       "    .dataframe tbody tr th {\n",
       "        vertical-align: top;\n",
       "    }\n",
       "\n",
       "    .dataframe thead th {\n",
       "        text-align: right;\n",
       "    }\n",
       "</style>\n",
       "<table border=\"1\" class=\"dataframe\">\n",
       "  <thead>\n",
       "    <tr style=\"text-align: right;\">\n",
       "      <th></th>\n",
       "      <th>PassengerId</th>\n",
       "      <th>Survived</th>\n",
       "      <th>Pclass</th>\n",
       "      <th>Name</th>\n",
       "      <th>Sex</th>\n",
       "      <th>Age</th>\n",
       "      <th>SibSp</th>\n",
       "      <th>Parch</th>\n",
       "      <th>Ticket</th>\n",
       "      <th>Fare</th>\n",
       "      <th>Cabin</th>\n",
       "      <th>Embarked</th>\n",
       "    </tr>\n",
       "  </thead>\n",
       "  <tbody>\n",
       "    <tr>\n",
       "      <th>0</th>\n",
       "      <td>892</td>\n",
       "      <td>0</td>\n",
       "      <td>3</td>\n",
       "      <td>Kelly, Mr. James</td>\n",
       "      <td>male</td>\n",
       "      <td>34.5</td>\n",
       "      <td>0</td>\n",
       "      <td>0</td>\n",
       "      <td>330911</td>\n",
       "      <td>7.8292</td>\n",
       "      <td>NaN</td>\n",
       "      <td>Q</td>\n",
       "    </tr>\n",
       "    <tr>\n",
       "      <th>1</th>\n",
       "      <td>893</td>\n",
       "      <td>1</td>\n",
       "      <td>3</td>\n",
       "      <td>Wilkes, Mrs. James (Ellen Needs)</td>\n",
       "      <td>female</td>\n",
       "      <td>47.0</td>\n",
       "      <td>1</td>\n",
       "      <td>0</td>\n",
       "      <td>363272</td>\n",
       "      <td>7.0000</td>\n",
       "      <td>NaN</td>\n",
       "      <td>S</td>\n",
       "    </tr>\n",
       "    <tr>\n",
       "      <th>2</th>\n",
       "      <td>894</td>\n",
       "      <td>0</td>\n",
       "      <td>2</td>\n",
       "      <td>Myles, Mr. Thomas Francis</td>\n",
       "      <td>male</td>\n",
       "      <td>62.0</td>\n",
       "      <td>0</td>\n",
       "      <td>0</td>\n",
       "      <td>240276</td>\n",
       "      <td>9.6875</td>\n",
       "      <td>NaN</td>\n",
       "      <td>Q</td>\n",
       "    </tr>\n",
       "    <tr>\n",
       "      <th>3</th>\n",
       "      <td>895</td>\n",
       "      <td>0</td>\n",
       "      <td>3</td>\n",
       "      <td>Wirz, Mr. Albert</td>\n",
       "      <td>male</td>\n",
       "      <td>27.0</td>\n",
       "      <td>0</td>\n",
       "      <td>0</td>\n",
       "      <td>315154</td>\n",
       "      <td>8.6625</td>\n",
       "      <td>NaN</td>\n",
       "      <td>S</td>\n",
       "    </tr>\n",
       "    <tr>\n",
       "      <th>4</th>\n",
       "      <td>896</td>\n",
       "      <td>1</td>\n",
       "      <td>3</td>\n",
       "      <td>Hirvonen, Mrs. Alexander (Helga E Lindqvist)</td>\n",
       "      <td>female</td>\n",
       "      <td>22.0</td>\n",
       "      <td>1</td>\n",
       "      <td>1</td>\n",
       "      <td>3101298</td>\n",
       "      <td>12.2875</td>\n",
       "      <td>NaN</td>\n",
       "      <td>S</td>\n",
       "    </tr>\n",
       "    <tr>\n",
       "      <th>...</th>\n",
       "      <td>...</td>\n",
       "      <td>...</td>\n",
       "      <td>...</td>\n",
       "      <td>...</td>\n",
       "      <td>...</td>\n",
       "      <td>...</td>\n",
       "      <td>...</td>\n",
       "      <td>...</td>\n",
       "      <td>...</td>\n",
       "      <td>...</td>\n",
       "      <td>...</td>\n",
       "      <td>...</td>\n",
       "    </tr>\n",
       "    <tr>\n",
       "      <th>413</th>\n",
       "      <td>1305</td>\n",
       "      <td>0</td>\n",
       "      <td>3</td>\n",
       "      <td>Spector, Mr. Woolf</td>\n",
       "      <td>male</td>\n",
       "      <td>NaN</td>\n",
       "      <td>0</td>\n",
       "      <td>0</td>\n",
       "      <td>A.5. 3236</td>\n",
       "      <td>8.0500</td>\n",
       "      <td>NaN</td>\n",
       "      <td>S</td>\n",
       "    </tr>\n",
       "    <tr>\n",
       "      <th>414</th>\n",
       "      <td>1306</td>\n",
       "      <td>1</td>\n",
       "      <td>1</td>\n",
       "      <td>Oliva y Ocana, Dona. Fermina</td>\n",
       "      <td>female</td>\n",
       "      <td>39.0</td>\n",
       "      <td>0</td>\n",
       "      <td>0</td>\n",
       "      <td>PC 17758</td>\n",
       "      <td>108.9000</td>\n",
       "      <td>C105</td>\n",
       "      <td>C</td>\n",
       "    </tr>\n",
       "    <tr>\n",
       "      <th>415</th>\n",
       "      <td>1307</td>\n",
       "      <td>0</td>\n",
       "      <td>3</td>\n",
       "      <td>Saether, Mr. Simon Sivertsen</td>\n",
       "      <td>male</td>\n",
       "      <td>38.5</td>\n",
       "      <td>0</td>\n",
       "      <td>0</td>\n",
       "      <td>SOTON/O.Q. 3101262</td>\n",
       "      <td>7.2500</td>\n",
       "      <td>NaN</td>\n",
       "      <td>S</td>\n",
       "    </tr>\n",
       "    <tr>\n",
       "      <th>416</th>\n",
       "      <td>1308</td>\n",
       "      <td>0</td>\n",
       "      <td>3</td>\n",
       "      <td>Ware, Mr. Frederick</td>\n",
       "      <td>male</td>\n",
       "      <td>NaN</td>\n",
       "      <td>0</td>\n",
       "      <td>0</td>\n",
       "      <td>359309</td>\n",
       "      <td>8.0500</td>\n",
       "      <td>NaN</td>\n",
       "      <td>S</td>\n",
       "    </tr>\n",
       "    <tr>\n",
       "      <th>417</th>\n",
       "      <td>1309</td>\n",
       "      <td>0</td>\n",
       "      <td>3</td>\n",
       "      <td>Peter, Master. Michael J</td>\n",
       "      <td>male</td>\n",
       "      <td>NaN</td>\n",
       "      <td>1</td>\n",
       "      <td>1</td>\n",
       "      <td>2668</td>\n",
       "      <td>22.3583</td>\n",
       "      <td>NaN</td>\n",
       "      <td>C</td>\n",
       "    </tr>\n",
       "  </tbody>\n",
       "</table>\n",
       "<p>418 rows × 12 columns</p>\n",
       "</div>"
      ],
      "text/plain": [
       "     PassengerId  Survived  Pclass  \\\n",
       "0            892         0       3   \n",
       "1            893         1       3   \n",
       "2            894         0       2   \n",
       "3            895         0       3   \n",
       "4            896         1       3   \n",
       "..           ...       ...     ...   \n",
       "413         1305         0       3   \n",
       "414         1306         1       1   \n",
       "415         1307         0       3   \n",
       "416         1308         0       3   \n",
       "417         1309         0       3   \n",
       "\n",
       "                                             Name     Sex   Age  SibSp  Parch  \\\n",
       "0                                Kelly, Mr. James    male  34.5      0      0   \n",
       "1                Wilkes, Mrs. James (Ellen Needs)  female  47.0      1      0   \n",
       "2                       Myles, Mr. Thomas Francis    male  62.0      0      0   \n",
       "3                                Wirz, Mr. Albert    male  27.0      0      0   \n",
       "4    Hirvonen, Mrs. Alexander (Helga E Lindqvist)  female  22.0      1      1   \n",
       "..                                            ...     ...   ...    ...    ...   \n",
       "413                            Spector, Mr. Woolf    male   NaN      0      0   \n",
       "414                  Oliva y Ocana, Dona. Fermina  female  39.0      0      0   \n",
       "415                  Saether, Mr. Simon Sivertsen    male  38.5      0      0   \n",
       "416                           Ware, Mr. Frederick    male   NaN      0      0   \n",
       "417                      Peter, Master. Michael J    male   NaN      1      1   \n",
       "\n",
       "                 Ticket      Fare Cabin Embarked  \n",
       "0                330911    7.8292   NaN        Q  \n",
       "1                363272    7.0000   NaN        S  \n",
       "2                240276    9.6875   NaN        Q  \n",
       "3                315154    8.6625   NaN        S  \n",
       "4               3101298   12.2875   NaN        S  \n",
       "..                  ...       ...   ...      ...  \n",
       "413           A.5. 3236    8.0500   NaN        S  \n",
       "414            PC 17758  108.9000  C105        C  \n",
       "415  SOTON/O.Q. 3101262    7.2500   NaN        S  \n",
       "416              359309    8.0500   NaN        S  \n",
       "417                2668   22.3583   NaN        C  \n",
       "\n",
       "[418 rows x 12 columns]"
      ]
     },
     "execution_count": 2,
     "metadata": {},
     "output_type": "execute_result"
    }
   ],
   "source": [
    "train_df=pd.read_csv(\"tested.csv\")\n",
    "train_df"
   ]
  },
  {
   "cell_type": "markdown",
   "id": "475ad609",
   "metadata": {
    "papermill": {
     "duration": 0.012483,
     "end_time": "2023-10-05T17:26:35.389882",
     "exception": false,
     "start_time": "2023-10-05T17:26:35.377399",
     "status": "completed"
    },
    "tags": []
   },
   "source": [
    "## Getting to know the dataset"
   ]
  },
  {
   "cell_type": "code",
   "execution_count": 3,
   "id": "1d373c5e",
   "metadata": {
    "execution": {
     "iopub.execute_input": "2023-10-05T17:26:35.417074Z",
     "iopub.status.busy": "2023-10-05T17:26:35.416708Z",
     "iopub.status.idle": "2023-10-05T17:26:35.444265Z",
     "shell.execute_reply": "2023-10-05T17:26:35.443144Z"
    },
    "papermill": {
     "duration": 0.043291,
     "end_time": "2023-10-05T17:26:35.446403",
     "exception": false,
     "start_time": "2023-10-05T17:26:35.403112",
     "status": "completed"
    },
    "tags": []
   },
   "outputs": [
    {
     "name": "stdout",
     "output_type": "stream",
     "text": [
      "<class 'pandas.core.frame.DataFrame'>\n",
      "RangeIndex: 418 entries, 0 to 417\n",
      "Data columns (total 12 columns):\n",
      " #   Column       Non-Null Count  Dtype  \n",
      "---  ------       --------------  -----  \n",
      " 0   PassengerId  418 non-null    int64  \n",
      " 1   Survived     418 non-null    int64  \n",
      " 2   Pclass       418 non-null    int64  \n",
      " 3   Name         418 non-null    object \n",
      " 4   Sex          418 non-null    object \n",
      " 5   Age          332 non-null    float64\n",
      " 6   SibSp        418 non-null    int64  \n",
      " 7   Parch        418 non-null    int64  \n",
      " 8   Ticket       418 non-null    object \n",
      " 9   Fare         417 non-null    float64\n",
      " 10  Cabin        91 non-null     object \n",
      " 11  Embarked     418 non-null    object \n",
      "dtypes: float64(2), int64(5), object(5)\n",
      "memory usage: 39.3+ KB\n"
     ]
    }
   ],
   "source": [
    "train_df.info()"
   ]
  },
  {
   "cell_type": "code",
   "execution_count": 4,
   "id": "da8f8699",
   "metadata": {
    "execution": {
     "iopub.execute_input": "2023-10-05T17:26:35.526746Z",
     "iopub.status.busy": "2023-10-05T17:26:35.526425Z",
     "iopub.status.idle": "2023-10-05T17:26:35.555463Z",
     "shell.execute_reply": "2023-10-05T17:26:35.554458Z"
    },
    "papermill": {
     "duration": 0.098218,
     "end_time": "2023-10-05T17:26:35.557448",
     "exception": false,
     "start_time": "2023-10-05T17:26:35.459230",
     "status": "completed"
    },
    "tags": []
   },
   "outputs": [
    {
     "data": {
      "text/html": [
       "<div>\n",
       "<style scoped>\n",
       "    .dataframe tbody tr th:only-of-type {\n",
       "        vertical-align: middle;\n",
       "    }\n",
       "\n",
       "    .dataframe tbody tr th {\n",
       "        vertical-align: top;\n",
       "    }\n",
       "\n",
       "    .dataframe thead th {\n",
       "        text-align: right;\n",
       "    }\n",
       "</style>\n",
       "<table border=\"1\" class=\"dataframe\">\n",
       "  <thead>\n",
       "    <tr style=\"text-align: right;\">\n",
       "      <th></th>\n",
       "      <th>PassengerId</th>\n",
       "      <th>Survived</th>\n",
       "      <th>Pclass</th>\n",
       "      <th>Age</th>\n",
       "      <th>SibSp</th>\n",
       "      <th>Parch</th>\n",
       "      <th>Fare</th>\n",
       "    </tr>\n",
       "  </thead>\n",
       "  <tbody>\n",
       "    <tr>\n",
       "      <th>count</th>\n",
       "      <td>418.000000</td>\n",
       "      <td>418.000000</td>\n",
       "      <td>418.000000</td>\n",
       "      <td>332.000000</td>\n",
       "      <td>418.000000</td>\n",
       "      <td>418.000000</td>\n",
       "      <td>417.000000</td>\n",
       "    </tr>\n",
       "    <tr>\n",
       "      <th>mean</th>\n",
       "      <td>1100.500000</td>\n",
       "      <td>0.363636</td>\n",
       "      <td>2.265550</td>\n",
       "      <td>30.272590</td>\n",
       "      <td>0.447368</td>\n",
       "      <td>0.392344</td>\n",
       "      <td>35.627188</td>\n",
       "    </tr>\n",
       "    <tr>\n",
       "      <th>std</th>\n",
       "      <td>120.810458</td>\n",
       "      <td>0.481622</td>\n",
       "      <td>0.841838</td>\n",
       "      <td>14.181209</td>\n",
       "      <td>0.896760</td>\n",
       "      <td>0.981429</td>\n",
       "      <td>55.907576</td>\n",
       "    </tr>\n",
       "    <tr>\n",
       "      <th>min</th>\n",
       "      <td>892.000000</td>\n",
       "      <td>0.000000</td>\n",
       "      <td>1.000000</td>\n",
       "      <td>0.170000</td>\n",
       "      <td>0.000000</td>\n",
       "      <td>0.000000</td>\n",
       "      <td>0.000000</td>\n",
       "    </tr>\n",
       "    <tr>\n",
       "      <th>25%</th>\n",
       "      <td>996.250000</td>\n",
       "      <td>0.000000</td>\n",
       "      <td>1.000000</td>\n",
       "      <td>21.000000</td>\n",
       "      <td>0.000000</td>\n",
       "      <td>0.000000</td>\n",
       "      <td>7.895800</td>\n",
       "    </tr>\n",
       "    <tr>\n",
       "      <th>50%</th>\n",
       "      <td>1100.500000</td>\n",
       "      <td>0.000000</td>\n",
       "      <td>3.000000</td>\n",
       "      <td>27.000000</td>\n",
       "      <td>0.000000</td>\n",
       "      <td>0.000000</td>\n",
       "      <td>14.454200</td>\n",
       "    </tr>\n",
       "    <tr>\n",
       "      <th>75%</th>\n",
       "      <td>1204.750000</td>\n",
       "      <td>1.000000</td>\n",
       "      <td>3.000000</td>\n",
       "      <td>39.000000</td>\n",
       "      <td>1.000000</td>\n",
       "      <td>0.000000</td>\n",
       "      <td>31.500000</td>\n",
       "    </tr>\n",
       "    <tr>\n",
       "      <th>max</th>\n",
       "      <td>1309.000000</td>\n",
       "      <td>1.000000</td>\n",
       "      <td>3.000000</td>\n",
       "      <td>76.000000</td>\n",
       "      <td>8.000000</td>\n",
       "      <td>9.000000</td>\n",
       "      <td>512.329200</td>\n",
       "    </tr>\n",
       "  </tbody>\n",
       "</table>\n",
       "</div>"
      ],
      "text/plain": [
       "       PassengerId    Survived      Pclass         Age       SibSp  \\\n",
       "count   418.000000  418.000000  418.000000  332.000000  418.000000   \n",
       "mean   1100.500000    0.363636    2.265550   30.272590    0.447368   \n",
       "std     120.810458    0.481622    0.841838   14.181209    0.896760   \n",
       "min     892.000000    0.000000    1.000000    0.170000    0.000000   \n",
       "25%     996.250000    0.000000    1.000000   21.000000    0.000000   \n",
       "50%    1100.500000    0.000000    3.000000   27.000000    0.000000   \n",
       "75%    1204.750000    1.000000    3.000000   39.000000    1.000000   \n",
       "max    1309.000000    1.000000    3.000000   76.000000    8.000000   \n",
       "\n",
       "            Parch        Fare  \n",
       "count  418.000000  417.000000  \n",
       "mean     0.392344   35.627188  \n",
       "std      0.981429   55.907576  \n",
       "min      0.000000    0.000000  \n",
       "25%      0.000000    7.895800  \n",
       "50%      0.000000   14.454200  \n",
       "75%      0.000000   31.500000  \n",
       "max      9.000000  512.329200  "
      ]
     },
     "execution_count": 4,
     "metadata": {},
     "output_type": "execute_result"
    }
   ],
   "source": [
    "train_df.describe()"
   ]
  },
  {
   "cell_type": "markdown",
   "id": "38fdf2c8",
   "metadata": {
    "papermill": {
     "duration": 0.012954,
     "end_time": "2023-10-05T17:26:35.584308",
     "exception": false,
     "start_time": "2023-10-05T17:26:35.571354",
     "status": "completed"
    },
    "tags": []
   },
   "source": [
    "## Exploratory data analysis (EDA)"
   ]
  },
  {
   "cell_type": "code",
   "execution_count": 5,
   "id": "39006189",
   "metadata": {},
   "outputs": [],
   "source": [
    "def plot(var):\n",
    "    plt.figure(figsize=(6, 3))\n",
    "    sns.countplot(train_df[var])    \n",
    "    plt.ylabel(\"Frequency\")\n",
    "    plt.show()\n",
    "    print(\"{} \\n {}\".format(train_df[var].value_counts().index,train_df[var].value_counts() ))"
   ]
  },
  {
   "cell_type": "code",
   "execution_count": 6,
   "id": "de8ec815",
   "metadata": {},
   "outputs": [
    {
     "data": {
      "image/png": "[encoded data removed]",
      "text/plain": [
       "<Figure size 600x300 with 1 Axes>"
      ]
     },
     "metadata": {},
     "output_type": "display_data"
    },
    {
     "name": "stdout",
     "output_type": "stream",
     "text": [
      "Int64Index([0, 1], dtype='int64') \n",
      " 0    266\n",
      "1    152\n",
      "Name: Survived, dtype: int64\n"
     ]
    },
    {
     "data": {
      "image/png": "[encoded data removed]",
      "text/plain": [
       "<Figure size 600x300 with 1 Axes>"
      ]
     },
     "metadata": {},
     "output_type": "display_data"
    },
    {
     "name": "stdout",
     "output_type": "stream",
     "text": [
      "Index(['male', 'female'], dtype='object') \n",
      " male      266\n",
      "female    152\n",
      "Name: Sex, dtype: int64\n"
     ]
    },
    {
     "data": {
      "image/png": "[encoded data removed]",
      "text/plain": [
       "<Figure size 600x300 with 1 Axes>"
      ]
     },
     "metadata": {},
     "output_type": "display_data"
    },
    {
     "name": "stdout",
     "output_type": "stream",
     "text": [
      "Int64Index([3, 1, 2], dtype='int64') \n",
      " 3    218\n",
      "1    107\n",
      "2     93\n",
      "Name: Pclass, dtype: int64\n"
     ]
    },
    {
     "data": {
      "image/png": "[encoded data removed]",
      "text/plain": [
       "<Figure size 600x300 with 1 Axes>"
      ]
     },
     "metadata": {},
     "output_type": "display_data"
    },
    {
     "name": "stdout",
     "output_type": "stream",
     "text": [
      "Index(['S', 'C', 'Q'], dtype='object') \n",
      " S    270\n",
      "C    102\n",
      "Q     46\n",
      "Name: Embarked, dtype: int64\n"
     ]
    },
    {
     "data": {
      "image/png": "[encoded data removed]",
      "text/plain": [
       "<Figure size 600x300 with 1 Axes>"
      ]
     },
     "metadata": {},
     "output_type": "display_data"
    },
    {
     "name": "stdout",
     "output_type": "stream",
     "text": [
      "Int64Index([0, 1, 2, 3, 4, 8, 5], dtype='int64') \n",
      " 0    283\n",
      "1    110\n",
      "2     14\n",
      "3      4\n",
      "4      4\n",
      "8      2\n",
      "5      1\n",
      "Name: SibSp, dtype: int64\n"
     ]
    },
    {
     "data": {
      "image/png": "[encoded data removed]",
      "text/plain": [
       "<Figure size 600x300 with 1 Axes>"
      ]
     },
     "metadata": {},
     "output_type": "display_data"
    },
    {
     "name": "stdout",
     "output_type": "stream",
     "text": [
      "Int64Index([0, 1, 2, 3, 4, 9, 6, 5], dtype='int64') \n",
      " 0    324\n",
      "1     52\n",
      "2     33\n",
      "3      3\n",
      "4      2\n",
      "9      2\n",
      "6      1\n",
      "5      1\n",
      "Name: Parch, dtype: int64\n"
     ]
    }
   ],
   "source": [
    "selected_features = [\"Survived\", \"Sex\", \"Pclass\", \"Embarked\", \"SibSp\", \"Parch\"]\n",
    "\n",
    "for feature in selected_features:\n",
    "\n",
    "    plot(feature)"
   ]
  },
  {
   "cell_type": "markdown",
   "id": "405e901f",
   "metadata": {
    "papermill": {
     "duration": 0.014766,
     "end_time": "2023-10-05T17:26:36.985790",
     "exception": false,
     "start_time": "2023-10-05T17:26:36.971024",
     "status": "completed"
    },
    "tags": []
   },
   "source": [
    "* Correlation a way to understand the relationship between multiple variables and attributes in your dataset."
   ]
  },
  {
   "cell_type": "code",
   "execution_count": 7,
   "id": "dfd65de3",
   "metadata": {
    "execution": {
     "iopub.execute_input": "2023-10-05T17:26:37.017482Z",
     "iopub.status.busy": "2023-10-05T17:26:37.017051Z",
     "iopub.status.idle": "2023-10-05T17:26:37.027333Z",
     "shell.execute_reply": "2023-10-05T17:26:37.026247Z"
    },
    "papermill": {
     "duration": 0.028438,
     "end_time": "2023-10-05T17:26:37.029324",
     "exception": false,
     "start_time": "2023-10-05T17:26:37.000886",
     "status": "completed"
    },
    "tags": []
   },
   "outputs": [],
   "source": [
    "correlation = train_df.drop(['Name', 'Sex', \"Ticket\", \"Cabin\",\"Embarked\"], axis=1).corr()"
   ]
  },
  {
   "cell_type": "code",
   "execution_count": 8,
   "id": "6dc6f5a8",
   "metadata": {
    "execution": {
     "iopub.execute_input": "2023-10-05T17:26:37.061105Z",
     "iopub.status.busy": "2023-10-05T17:26:37.060729Z",
     "iopub.status.idle": "2023-10-05T17:26:37.489846Z",
     "shell.execute_reply": "2023-10-05T17:26:37.489112Z"
    },
    "papermill": {
     "duration": 0.447424,
     "end_time": "2023-10-05T17:26:37.491878",
     "exception": false,
     "start_time": "2023-10-05T17:26:37.044454",
     "status": "completed"
    },
    "tags": []
   },
   "outputs": [
    {
     "data": {
      "image/png": "[encoded data removed]",
      "text/plain": [
       "<Figure size 640x480 with 2 Axes>"
      ]
     },
     "metadata": {},
     "output_type": "display_data"
    }
   ],
   "source": [
    "sns.heatmap(correlation, annot=True)\n",
    "plt.title(\"Correlation between Variable and Attributes\")\n",
    "plt.show()"
   ]
  },
  {
   "cell_type": "markdown",
   "id": "dfd1c071",
   "metadata": {
    "papermill": {
     "duration": 0.016562,
     "end_time": "2023-10-05T17:26:37.525952",
     "exception": false,
     "start_time": "2023-10-05T17:26:37.509390",
     "status": "completed"
    },
    "tags": []
   },
   "source": [
    "#### Outlier Detection"
   ]
  },
  {
   "cell_type": "code",
   "execution_count": 9,
   "id": "9f212f0f",
   "metadata": {
    "execution": {
     "iopub.execute_input": "2023-10-05T17:26:37.561042Z",
     "iopub.status.busy": "2023-10-05T17:26:37.560159Z",
     "iopub.status.idle": "2023-10-05T17:26:37.564775Z",
     "shell.execute_reply": "2023-10-05T17:26:37.564056Z"
    },
    "papermill": {
     "duration": 0.024165,
     "end_time": "2023-10-05T17:26:37.566547",
     "exception": false,
     "start_time": "2023-10-05T17:26:37.542382",
     "status": "completed"
    },
    "tags": []
   },
   "outputs": [],
   "source": [
    "def plot_outilers(x):\n",
    "    plt.figure(figsize=(9,3))\n",
    "    f = sns.boxplot(data=train_df, y = x)\n",
    "    f.set(title=\"Outliers of {}\".format(x))\n",
    "    plt.show()"
   ]
  },
  {
   "cell_type": "code",
   "execution_count": 10,
   "id": "fc66a7db",
   "metadata": {
    "execution": {
     "iopub.execute_input": "2023-10-05T17:26:37.602307Z",
     "iopub.status.busy": "2023-10-05T17:26:37.601076Z",
     "iopub.status.idle": "2023-10-05T17:26:38.375245Z",
     "shell.execute_reply": "2023-10-05T17:26:38.374213Z"
    },
    "papermill": {
     "duration": 0.79401,
     "end_time": "2023-10-05T17:26:38.377426",
     "exception": false,
     "start_time": "2023-10-05T17:26:37.583416",
     "status": "completed"
    },
    "tags": []
   },
   "outputs": [
    {
     "data": {
      "image/png": "[encoded data removed]",
      "text/plain": [
       "<Figure size 900x300 with 1 Axes>"
      ]
     },
     "metadata": {},
     "output_type": "display_data"
    },
    {
     "data": {
      "image/png": "[encoded data removed]",
      "text/plain": [
       "<Figure size 900x300 with 1 Axes>"
      ]
     },
     "metadata": {},
     "output_type": "display_data"
    },
    {
     "data": {
      "image/png": "[encoded data removed]",
      "text/plain": [
       "<Figure size 900x300 with 1 Axes>"
      ]
     },
     "metadata": {},
     "output_type": "display_data"
    },
    {
     "data": {
      "image/png": "[encoded data removed]",
      "text/plain": [
       "<Figure size 900x300 with 1 Axes>"
      ]
     },
     "metadata": {},
     "output_type": "display_data"
    }
   ],
   "source": [
    "for i in [\"Age\", \"SibSp\", \"Parch\", \"Fare\"]:\n",
    "    plot_outilers(i)"
   ]
  },
  {
   "cell_type": "markdown",
   "id": "d50992ab",
   "metadata": {
    "papermill": {
     "duration": 0.017411,
     "end_time": "2023-10-05T17:26:38.414869",
     "exception": false,
     "start_time": "2023-10-05T17:26:38.397458",
     "status": "completed"
    },
    "tags": []
   },
   "source": [
    "* Outlier detection function"
   ]
  },
  {
   "cell_type": "code",
   "execution_count": 11,
   "id": "0e8b077f",
   "metadata": {
    "execution": {
     "iopub.execute_input": "2023-10-05T17:26:38.451952Z",
     "iopub.status.busy": "2023-10-05T17:26:38.451260Z",
     "iopub.status.idle": "2023-10-05T17:26:38.457850Z",
     "shell.execute_reply": "2023-10-05T17:26:38.456825Z"
    },
    "papermill": {
     "duration": 0.026929,
     "end_time": "2023-10-05T17:26:38.459780",
     "exception": false,
     "start_time": "2023-10-05T17:26:38.432851",
     "status": "completed"
    },
    "tags": []
   },
   "outputs": [],
   "source": [
    "\n",
    "def detec_outlier(df, features):\n",
    "    outliers = []\n",
    "    \n",
    "    for c in features:\n",
    "        #Q1\n",
    "        q1 = np.percentile(df[c], 25)\n",
    "        #Q3\n",
    "        q3 = np.percentile(df[c], 75)\n",
    "        #IQR\n",
    "        iqr = q3 - q1\n",
    "        # outlier step\n",
    "        outlier_step = iqr * 1.5\n",
    "        # detect outlier\n",
    "        outlier_list_col = df[(df[c] < q1-outlier_step) | (df[c] > q3 + outlier_step)].index\n",
    "        #store indeces\n",
    "        outliers.extend(outlier_list_col)\n",
    "        \n",
    "    outliers = Counter(outliers)\n",
    "    multiple_outliers = list(i for i, v in outliers.items() if v > 2)\n",
    "    \n",
    "    return multiple_outliers"
   ]
  },
  {
   "cell_type": "code",
   "execution_count": 12,
   "id": "c5385524",
   "metadata": {
    "execution": {
     "iopub.execute_input": "2023-10-05T17:26:38.495646Z",
     "iopub.status.busy": "2023-10-05T17:26:38.494919Z",
     "iopub.status.idle": "2023-10-05T17:26:38.515610Z",
     "shell.execute_reply": "2023-10-05T17:26:38.514522Z"
    },
    "papermill": {
     "duration": 0.040862,
     "end_time": "2023-10-05T17:26:38.517628",
     "exception": false,
     "start_time": "2023-10-05T17:26:38.476766",
     "status": "completed"
    },
    "tags": []
   },
   "outputs": [
    {
     "data": {
      "text/html": [
       "<div>\n",
       "<style scoped>\n",
       "    .dataframe tbody tr th:only-of-type {\n",
       "        vertical-align: middle;\n",
       "    }\n",
       "\n",
       "    .dataframe tbody tr th {\n",
       "        vertical-align: top;\n",
       "    }\n",
       "\n",
       "    .dataframe thead th {\n",
       "        text-align: right;\n",
       "    }\n",
       "</style>\n",
       "<table border=\"1\" class=\"dataframe\">\n",
       "  <thead>\n",
       "    <tr style=\"text-align: right;\">\n",
       "      <th></th>\n",
       "      <th>PassengerId</th>\n",
       "      <th>Survived</th>\n",
       "      <th>Pclass</th>\n",
       "      <th>Name</th>\n",
       "      <th>Sex</th>\n",
       "      <th>Age</th>\n",
       "      <th>SibSp</th>\n",
       "      <th>Parch</th>\n",
       "      <th>Ticket</th>\n",
       "      <th>Fare</th>\n",
       "      <th>Cabin</th>\n",
       "      <th>Embarked</th>\n",
       "    </tr>\n",
       "  </thead>\n",
       "  <tbody>\n",
       "  </tbody>\n",
       "</table>\n",
       "</div>"
      ],
      "text/plain": [
       "Empty DataFrame\n",
       "Columns: [PassengerId, Survived, Pclass, Name, Sex, Age, SibSp, Parch, Ticket, Fare, Cabin, Embarked]\n",
       "Index: []"
      ]
     },
     "execution_count": 12,
     "metadata": {},
     "output_type": "execute_result"
    }
   ],
   "source": [
    "train_df.loc[detec_outlier(train_df, [\"Age\", \"SibSp\", \"Parch\", \"Fare\"])]"
   ]
  },
  {
   "cell_type": "markdown",
   "id": "2f9ffc5d",
   "metadata": {
    "papermill": {
     "duration": 0.017002,
     "end_time": "2023-10-05T17:26:38.552320",
     "exception": false,
     "start_time": "2023-10-05T17:26:38.535318",
     "status": "completed"
    },
    "tags": []
   },
   "source": [
    "#### Drop the outlier in the dataset"
   ]
  },
  {
   "cell_type": "code",
   "execution_count": 13,
   "id": "8745da60",
   "metadata": {
    "execution": {
     "iopub.execute_input": "2023-10-05T17:26:38.588537Z",
     "iopub.status.busy": "2023-10-05T17:26:38.587936Z",
     "iopub.status.idle": "2023-10-05T17:26:38.608151Z",
     "shell.execute_reply": "2023-10-05T17:26:38.607020Z"
    },
    "papermill": {
     "duration": 0.040423,
     "end_time": "2023-10-05T17:26:38.610010",
     "exception": false,
     "start_time": "2023-10-05T17:26:38.569587",
     "status": "completed"
    },
    "tags": []
   },
   "outputs": [
    {
     "data": {
      "text/html": [
       "<div>\n",
       "<style scoped>\n",
       "    .dataframe tbody tr th:only-of-type {\n",
       "        vertical-align: middle;\n",
       "    }\n",
       "\n",
       "    .dataframe tbody tr th {\n",
       "        vertical-align: top;\n",
       "    }\n",
       "\n",
       "    .dataframe thead th {\n",
       "        text-align: right;\n",
       "    }\n",
       "</style>\n",
       "<table border=\"1\" class=\"dataframe\">\n",
       "  <thead>\n",
       "    <tr style=\"text-align: right;\">\n",
       "      <th></th>\n",
       "      <th>PassengerId</th>\n",
       "      <th>Survived</th>\n",
       "      <th>Pclass</th>\n",
       "      <th>Name</th>\n",
       "      <th>Sex</th>\n",
       "      <th>Age</th>\n",
       "      <th>SibSp</th>\n",
       "      <th>Parch</th>\n",
       "      <th>Ticket</th>\n",
       "      <th>Fare</th>\n",
       "      <th>Cabin</th>\n",
       "      <th>Embarked</th>\n",
       "    </tr>\n",
       "  </thead>\n",
       "  <tbody>\n",
       "    <tr>\n",
       "      <th>0</th>\n",
       "      <td>892</td>\n",
       "      <td>0</td>\n",
       "      <td>3</td>\n",
       "      <td>Kelly, Mr. James</td>\n",
       "      <td>male</td>\n",
       "      <td>34.5</td>\n",
       "      <td>0</td>\n",
       "      <td>0</td>\n",
       "      <td>330911</td>\n",
       "      <td>7.8292</td>\n",
       "      <td>NaN</td>\n",
       "      <td>Q</td>\n",
       "    </tr>\n",
       "    <tr>\n",
       "      <th>1</th>\n",
       "      <td>893</td>\n",
       "      <td>1</td>\n",
       "      <td>3</td>\n",
       "      <td>Wilkes, Mrs. James (Ellen Needs)</td>\n",
       "      <td>female</td>\n",
       "      <td>47.0</td>\n",
       "      <td>1</td>\n",
       "      <td>0</td>\n",
       "      <td>363272</td>\n",
       "      <td>7.0000</td>\n",
       "      <td>NaN</td>\n",
       "      <td>S</td>\n",
       "    </tr>\n",
       "    <tr>\n",
       "      <th>2</th>\n",
       "      <td>894</td>\n",
       "      <td>0</td>\n",
       "      <td>2</td>\n",
       "      <td>Myles, Mr. Thomas Francis</td>\n",
       "      <td>male</td>\n",
       "      <td>62.0</td>\n",
       "      <td>0</td>\n",
       "      <td>0</td>\n",
       "      <td>240276</td>\n",
       "      <td>9.6875</td>\n",
       "      <td>NaN</td>\n",
       "      <td>Q</td>\n",
       "    </tr>\n",
       "    <tr>\n",
       "      <th>3</th>\n",
       "      <td>895</td>\n",
       "      <td>0</td>\n",
       "      <td>3</td>\n",
       "      <td>Wirz, Mr. Albert</td>\n",
       "      <td>male</td>\n",
       "      <td>27.0</td>\n",
       "      <td>0</td>\n",
       "      <td>0</td>\n",
       "      <td>315154</td>\n",
       "      <td>8.6625</td>\n",
       "      <td>NaN</td>\n",
       "      <td>S</td>\n",
       "    </tr>\n",
       "    <tr>\n",
       "      <th>4</th>\n",
       "      <td>896</td>\n",
       "      <td>1</td>\n",
       "      <td>3</td>\n",
       "      <td>Hirvonen, Mrs. Alexander (Helga E Lindqvist)</td>\n",
       "      <td>female</td>\n",
       "      <td>22.0</td>\n",
       "      <td>1</td>\n",
       "      <td>1</td>\n",
       "      <td>3101298</td>\n",
       "      <td>12.2875</td>\n",
       "      <td>NaN</td>\n",
       "      <td>S</td>\n",
       "    </tr>\n",
       "  </tbody>\n",
       "</table>\n",
       "</div>"
      ],
      "text/plain": [
       "   PassengerId  Survived  Pclass  \\\n",
       "0          892         0       3   \n",
       "1          893         1       3   \n",
       "2          894         0       2   \n",
       "3          895         0       3   \n",
       "4          896         1       3   \n",
       "\n",
       "                                           Name     Sex   Age  SibSp  Parch  \\\n",
       "0                              Kelly, Mr. James    male  34.5      0      0   \n",
       "1              Wilkes, Mrs. James (Ellen Needs)  female  47.0      1      0   \n",
       "2                     Myles, Mr. Thomas Francis    male  62.0      0      0   \n",
       "3                              Wirz, Mr. Albert    male  27.0      0      0   \n",
       "4  Hirvonen, Mrs. Alexander (Helga E Lindqvist)  female  22.0      1      1   \n",
       "\n",
       "    Ticket     Fare Cabin Embarked  \n",
       "0   330911   7.8292   NaN        Q  \n",
       "1   363272   7.0000   NaN        S  \n",
       "2   240276   9.6875   NaN        Q  \n",
       "3   315154   8.6625   NaN        S  \n",
       "4  3101298  12.2875   NaN        S  "
      ]
     },
     "execution_count": 13,
     "metadata": {},
     "output_type": "execute_result"
    }
   ],
   "source": [
    "outlier = detec_outlier(train_df, [\"Age\", \"SibSp\", \"Parch\", \"Fare\"])\n",
    "\n",
    "train_df = train_df.drop(outlier, axis=0).reset_index(drop=True)\n",
    "train_df.head()"
   ]
  },
  {
   "cell_type": "code",
   "execution_count": 14,
   "id": "bf428c95",
   "metadata": {
    "execution": {
     "iopub.execute_input": "2023-10-05T17:26:38.647224Z",
     "iopub.status.busy": "2023-10-05T17:26:38.646567Z",
     "iopub.status.idle": "2023-10-05T17:26:38.652458Z",
     "shell.execute_reply": "2023-10-05T17:26:38.651743Z"
    },
    "papermill": {
     "duration": 0.026266,
     "end_time": "2023-10-05T17:26:38.654220",
     "exception": false,
     "start_time": "2023-10-05T17:26:38.627954",
     "status": "completed"
    },
    "tags": []
   },
   "outputs": [
    {
     "data": {
      "text/plain": [
       "(418, 12)"
      ]
     },
     "execution_count": 14,
     "metadata": {},
     "output_type": "execute_result"
    }
   ],
   "source": [
    "train_df.shape"
   ]
  },
  {
   "cell_type": "markdown",
   "id": "368623db",
   "metadata": {
    "papermill": {
     "duration": 0.016556,
     "end_time": "2023-10-05T17:26:38.688198",
     "exception": false,
     "start_time": "2023-10-05T17:26:38.671642",
     "status": "completed"
    },
    "tags": []
   },
   "source": [
    "### Find the missing value in the dataset"
   ]
  },
  {
   "cell_type": "markdown",
   "id": "80df1bc0",
   "metadata": {
    "papermill": {
     "duration": 0.017787,
     "end_time": "2023-10-05T17:26:38.723499",
     "exception": false,
     "start_time": "2023-10-05T17:26:38.705712",
     "status": "completed"
    },
    "tags": []
   },
   "source": [
    "Concatenate to training and testing data"
   ]
  },
  {
   "cell_type": "code",
   "execution_count": 15,
   "id": "622d6747",
   "metadata": {
    "execution": {
     "iopub.execute_input": "2023-10-05T17:26:38.761006Z",
     "iopub.status.busy": "2023-10-05T17:26:38.760380Z",
     "iopub.status.idle": "2023-10-05T17:26:38.768005Z",
     "shell.execute_reply": "2023-10-05T17:26:38.767289Z"
    },
    "papermill": {
     "duration": 0.028558,
     "end_time": "2023-10-05T17:26:38.769892",
     "exception": false,
     "start_time": "2023-10-05T17:26:38.741334",
     "status": "completed"
    },
    "tags": []
   },
   "outputs": [],
   "source": [
    "train_length = len(train_df)\n",
    "\n",
    "df = train_df"
   ]
  },
  {
   "cell_type": "code",
   "execution_count": 16,
   "id": "72a77b72",
   "metadata": {
    "execution": {
     "iopub.execute_input": "2023-10-05T17:26:38.808510Z",
     "iopub.status.busy": "2023-10-05T17:26:38.807899Z",
     "iopub.status.idle": "2023-10-05T17:26:38.822620Z",
     "shell.execute_reply": "2023-10-05T17:26:38.821533Z"
    },
    "papermill": {
     "duration": 0.036471,
     "end_time": "2023-10-05T17:26:38.824551",
     "exception": false,
     "start_time": "2023-10-05T17:26:38.788080",
     "status": "completed"
    },
    "tags": []
   },
   "outputs": [
    {
     "data": {
      "text/html": [
       "<div>\n",
       "<style scoped>\n",
       "    .dataframe tbody tr th:only-of-type {\n",
       "        vertical-align: middle;\n",
       "    }\n",
       "\n",
       "    .dataframe tbody tr th {\n",
       "        vertical-align: top;\n",
       "    }\n",
       "\n",
       "    .dataframe thead th {\n",
       "        text-align: right;\n",
       "    }\n",
       "</style>\n",
       "<table border=\"1\" class=\"dataframe\">\n",
       "  <thead>\n",
       "    <tr style=\"text-align: right;\">\n",
       "      <th></th>\n",
       "      <th>PassengerId</th>\n",
       "      <th>Survived</th>\n",
       "      <th>Pclass</th>\n",
       "      <th>Name</th>\n",
       "      <th>Sex</th>\n",
       "      <th>Age</th>\n",
       "      <th>SibSp</th>\n",
       "      <th>Parch</th>\n",
       "      <th>Ticket</th>\n",
       "      <th>Fare</th>\n",
       "      <th>Cabin</th>\n",
       "      <th>Embarked</th>\n",
       "    </tr>\n",
       "  </thead>\n",
       "  <tbody>\n",
       "    <tr>\n",
       "      <th>0</th>\n",
       "      <td>892</td>\n",
       "      <td>0</td>\n",
       "      <td>3</td>\n",
       "      <td>Kelly, Mr. James</td>\n",
       "      <td>male</td>\n",
       "      <td>34.5</td>\n",
       "      <td>0</td>\n",
       "      <td>0</td>\n",
       "      <td>330911</td>\n",
       "      <td>7.8292</td>\n",
       "      <td>NaN</td>\n",
       "      <td>Q</td>\n",
       "    </tr>\n",
       "    <tr>\n",
       "      <th>1</th>\n",
       "      <td>893</td>\n",
       "      <td>1</td>\n",
       "      <td>3</td>\n",
       "      <td>Wilkes, Mrs. James (Ellen Needs)</td>\n",
       "      <td>female</td>\n",
       "      <td>47.0</td>\n",
       "      <td>1</td>\n",
       "      <td>0</td>\n",
       "      <td>363272</td>\n",
       "      <td>7.0000</td>\n",
       "      <td>NaN</td>\n",
       "      <td>S</td>\n",
       "    </tr>\n",
       "    <tr>\n",
       "      <th>2</th>\n",
       "      <td>894</td>\n",
       "      <td>0</td>\n",
       "      <td>2</td>\n",
       "      <td>Myles, Mr. Thomas Francis</td>\n",
       "      <td>male</td>\n",
       "      <td>62.0</td>\n",
       "      <td>0</td>\n",
       "      <td>0</td>\n",
       "      <td>240276</td>\n",
       "      <td>9.6875</td>\n",
       "      <td>NaN</td>\n",
       "      <td>Q</td>\n",
       "    </tr>\n",
       "    <tr>\n",
       "      <th>3</th>\n",
       "      <td>895</td>\n",
       "      <td>0</td>\n",
       "      <td>3</td>\n",
       "      <td>Wirz, Mr. Albert</td>\n",
       "      <td>male</td>\n",
       "      <td>27.0</td>\n",
       "      <td>0</td>\n",
       "      <td>0</td>\n",
       "      <td>315154</td>\n",
       "      <td>8.6625</td>\n",
       "      <td>NaN</td>\n",
       "      <td>S</td>\n",
       "    </tr>\n",
       "    <tr>\n",
       "      <th>4</th>\n",
       "      <td>896</td>\n",
       "      <td>1</td>\n",
       "      <td>3</td>\n",
       "      <td>Hirvonen, Mrs. Alexander (Helga E Lindqvist)</td>\n",
       "      <td>female</td>\n",
       "      <td>22.0</td>\n",
       "      <td>1</td>\n",
       "      <td>1</td>\n",
       "      <td>3101298</td>\n",
       "      <td>12.2875</td>\n",
       "      <td>NaN</td>\n",
       "      <td>S</td>\n",
       "    </tr>\n",
       "  </tbody>\n",
       "</table>\n",
       "</div>"
      ],
      "text/plain": [
       "   PassengerId  Survived  Pclass  \\\n",
       "0          892         0       3   \n",
       "1          893         1       3   \n",
       "2          894         0       2   \n",
       "3          895         0       3   \n",
       "4          896         1       3   \n",
       "\n",
       "                                           Name     Sex   Age  SibSp  Parch  \\\n",
       "0                              Kelly, Mr. James    male  34.5      0      0   \n",
       "1              Wilkes, Mrs. James (Ellen Needs)  female  47.0      1      0   \n",
       "2                     Myles, Mr. Thomas Francis    male  62.0      0      0   \n",
       "3                              Wirz, Mr. Albert    male  27.0      0      0   \n",
       "4  Hirvonen, Mrs. Alexander (Helga E Lindqvist)  female  22.0      1      1   \n",
       "\n",
       "    Ticket     Fare Cabin Embarked  \n",
       "0   330911   7.8292   NaN        Q  \n",
       "1   363272   7.0000   NaN        S  \n",
       "2   240276   9.6875   NaN        Q  \n",
       "3   315154   8.6625   NaN        S  \n",
       "4  3101298  12.2875   NaN        S  "
      ]
     },
     "execution_count": 16,
     "metadata": {},
     "output_type": "execute_result"
    }
   ],
   "source": [
    "df.head()"
   ]
  },
  {
   "cell_type": "code",
   "execution_count": 17,
   "id": "e4ddb3a2",
   "metadata": {
    "execution": {
     "iopub.execute_input": "2023-10-05T17:26:38.862907Z",
     "iopub.status.busy": "2023-10-05T17:26:38.862341Z",
     "iopub.status.idle": "2023-10-05T17:26:38.867376Z",
     "shell.execute_reply": "2023-10-05T17:26:38.866416Z"
    },
    "papermill": {
     "duration": 0.026601,
     "end_time": "2023-10-05T17:26:38.869434",
     "exception": false,
     "start_time": "2023-10-05T17:26:38.842833",
     "status": "completed"
    },
    "tags": []
   },
   "outputs": [
    {
     "name": "stdout",
     "output_type": "stream",
     "text": [
      "There are 418 rows and 12 columns.\n"
     ]
    }
   ],
   "source": [
    "# How many rows and columns there in the dataset.\n",
    "print(\"There are {} rows and {} columns.\".format(df.shape[0], df.shape[1]))"
   ]
  },
  {
   "cell_type": "code",
   "execution_count": 18,
   "id": "9733d7b5",
   "metadata": {
    "execution": {
     "iopub.execute_input": "2023-10-05T17:26:38.907544Z",
     "iopub.status.busy": "2023-10-05T17:26:38.906545Z",
     "iopub.status.idle": "2023-10-05T17:26:38.913775Z",
     "shell.execute_reply": "2023-10-05T17:26:38.913113Z"
    },
    "papermill": {
     "duration": 0.027852,
     "end_time": "2023-10-05T17:26:38.915433",
     "exception": false,
     "start_time": "2023-10-05T17:26:38.887581",
     "status": "completed"
    },
    "tags": []
   },
   "outputs": [
    {
     "data": {
      "text/plain": [
       "PassengerId      0\n",
       "Survived         0\n",
       "Pclass           0\n",
       "Name             0\n",
       "Sex              0\n",
       "Age             86\n",
       "SibSp            0\n",
       "Parch            0\n",
       "Ticket           0\n",
       "Fare             1\n",
       "Cabin          327\n",
       "Embarked         0\n",
       "dtype: int64"
      ]
     },
     "execution_count": 18,
     "metadata": {},
     "output_type": "execute_result"
    }
   ],
   "source": [
    "# find the missing value\n",
    "df.isnull().sum()"
   ]
  },
  {
   "cell_type": "markdown",
   "id": "c31bb1ed",
   "metadata": {
    "papermill": {
     "duration": 0.017744,
     "end_time": "2023-10-05T17:26:38.951303",
     "exception": false,
     "start_time": "2023-10-05T17:26:38.933559",
     "status": "completed"
    },
    "tags": []
   },
   "source": [
    "#### Fill the missing value"
   ]
  },
  {
   "cell_type": "code",
   "execution_count": 19,
   "id": "e946d257",
   "metadata": {
    "execution": {
     "iopub.execute_input": "2023-10-05T17:26:38.988046Z",
     "iopub.status.busy": "2023-10-05T17:26:38.987425Z",
     "iopub.status.idle": "2023-10-05T17:26:38.992821Z",
     "shell.execute_reply": "2023-10-05T17:26:38.992241Z"
    },
    "papermill": {
     "duration": 0.025778,
     "end_time": "2023-10-05T17:26:38.994410",
     "exception": false,
     "start_time": "2023-10-05T17:26:38.968632",
     "status": "completed"
    },
    "tags": []
   },
   "outputs": [
    {
     "data": {
      "text/plain": [
       "0"
      ]
     },
     "execution_count": 19,
     "metadata": {},
     "output_type": "execute_result"
    }
   ],
   "source": [
    "# Embarked\n",
    "df.Embarked.isnull().sum()"
   ]
  },
  {
   "cell_type": "code",
   "execution_count": 20,
   "id": "b7247977",
   "metadata": {
    "execution": {
     "iopub.execute_input": "2023-10-05T17:26:39.031996Z",
     "iopub.status.busy": "2023-10-05T17:26:39.031383Z",
     "iopub.status.idle": "2023-10-05T17:26:39.037871Z",
     "shell.execute_reply": "2023-10-05T17:26:39.037261Z"
    },
    "papermill": {
     "duration": 0.027432,
     "end_time": "2023-10-05T17:26:39.039572",
     "exception": false,
     "start_time": "2023-10-05T17:26:39.012140",
     "status": "completed"
    },
    "tags": []
   },
   "outputs": [
    {
     "data": {
      "text/plain": [
       "0"
      ]
     },
     "execution_count": 20,
     "metadata": {},
     "output_type": "execute_result"
    }
   ],
   "source": [
    "df.Embarked = df.Embarked.fillna(\"C\")\n",
    "df.Embarked.isnull().sum()"
   ]
  },
  {
   "cell_type": "code",
   "execution_count": 21,
   "id": "63e42772",
   "metadata": {
    "execution": {
     "iopub.execute_input": "2023-10-05T17:26:39.077950Z",
     "iopub.status.busy": "2023-10-05T17:26:39.077434Z",
     "iopub.status.idle": "2023-10-05T17:26:39.082613Z",
     "shell.execute_reply": "2023-10-05T17:26:39.081997Z"
    },
    "papermill": {
     "duration": 0.026449,
     "end_time": "2023-10-05T17:26:39.084318",
     "exception": false,
     "start_time": "2023-10-05T17:26:39.057869",
     "status": "completed"
    },
    "tags": []
   },
   "outputs": [
    {
     "data": {
      "text/plain": [
       "1"
      ]
     },
     "execution_count": 21,
     "metadata": {},
     "output_type": "execute_result"
    }
   ],
   "source": [
    "#  Fare\n",
    "df.Fare.isnull().sum()"
   ]
  },
  {
   "cell_type": "code",
   "execution_count": 22,
   "id": "283d7ae1",
   "metadata": {
    "execution": {
     "iopub.execute_input": "2023-10-05T17:26:39.122692Z",
     "iopub.status.busy": "2023-10-05T17:26:39.122195Z",
     "iopub.status.idle": "2023-10-05T17:26:39.129629Z",
     "shell.execute_reply": "2023-10-05T17:26:39.128834Z"
    },
    "papermill": {
     "duration": 0.028466,
     "end_time": "2023-10-05T17:26:39.131320",
     "exception": false,
     "start_time": "2023-10-05T17:26:39.102854",
     "status": "completed"
    },
    "tags": []
   },
   "outputs": [
    {
     "data": {
      "text/plain": [
       "0"
      ]
     },
     "execution_count": 22,
     "metadata": {},
     "output_type": "execute_result"
    }
   ],
   "source": [
    "df.Fare = df.Fare.fillna(df[(df.Pclass == 3) & (df.Embarked == \"S\")].Fare.mean())\n",
    "df.Fare.isnull().sum()"
   ]
  },
  {
   "cell_type": "code",
   "execution_count": 23,
   "id": "627885e5",
   "metadata": {
    "execution": {
     "iopub.execute_input": "2023-10-05T17:26:39.170155Z",
     "iopub.status.busy": "2023-10-05T17:26:39.169587Z",
     "iopub.status.idle": "2023-10-05T17:26:39.175650Z",
     "shell.execute_reply": "2023-10-05T17:26:39.174627Z"
    },
    "papermill": {
     "duration": 0.02792,
     "end_time": "2023-10-05T17:26:39.177691",
     "exception": false,
     "start_time": "2023-10-05T17:26:39.149771",
     "status": "completed"
    },
    "tags": []
   },
   "outputs": [
    {
     "data": {
      "text/plain": [
       "86"
      ]
     },
     "execution_count": 23,
     "metadata": {},
     "output_type": "execute_result"
    }
   ],
   "source": [
    "# Age\n",
    "df.Age.isnull().sum()"
   ]
  },
  {
   "cell_type": "code",
   "execution_count": 24,
   "id": "9bf17f21",
   "metadata": {
    "execution": {
     "iopub.execute_input": "2023-10-05T17:26:39.218586Z",
     "iopub.status.busy": "2023-10-05T17:26:39.218267Z",
     "iopub.status.idle": "2023-10-05T17:26:39.609672Z",
     "shell.execute_reply": "2023-10-05T17:26:39.608596Z"
    },
    "papermill": {
     "duration": 0.414269,
     "end_time": "2023-10-05T17:26:39.611939",
     "exception": false,
     "start_time": "2023-10-05T17:26:39.197670",
     "status": "completed"
    },
    "tags": []
   },
   "outputs": [
    {
     "data": {
      "text/plain": [
       "<AxesSubplot:>"
      ]
     },
     "execution_count": 24,
     "metadata": {},
     "output_type": "execute_result"
    },
    {
     "data": {
      "image/png": "[encoded data removed]",
      "text/plain": [
       "<Figure size 640x480 with 2 Axes>"
      ]
     },
     "metadata": {},
     "output_type": "display_data"
    }
   ],
   "source": [
    "df.Sex = [1 if each == \"male\" else 0 for each in df.Sex]\n",
    "sns.heatmap(df[[\"Age\",\"Sex\", \"SibSp\",\"Parch\", \"Pclass\"]].corr(), annot=True)"
   ]
  },
  {
   "cell_type": "code",
   "execution_count": 25,
   "id": "88a8260e",
   "metadata": {
    "execution": {
     "iopub.execute_input": "2023-10-05T17:26:39.657293Z",
     "iopub.status.busy": "2023-10-05T17:26:39.656278Z",
     "iopub.status.idle": "2023-10-05T17:26:40.137281Z",
     "shell.execute_reply": "2023-10-05T17:26:40.136153Z"
    },
    "papermill": {
     "duration": 0.506556,
     "end_time": "2023-10-05T17:26:40.139781",
     "exception": false,
     "start_time": "2023-10-05T17:26:39.633225",
     "status": "completed"
    },
    "tags": []
   },
   "outputs": [],
   "source": [
    "# Age is not correlated with sex but it is correlated with parch, sibsp and pclass\n",
    "index_nan_age = list(df.Age[df.Age.isnull()].index)\n",
    "\n",
    "for i in index_nan_age:\n",
    "    age_pred = df.Age[(df.SibSp == df.iloc[i].SibSp) & (df.Parch == df.iloc[i].Parch) & (df.Pclass == df.iloc[i].Pclass)].median()\n",
    "    age_median = df.Age.median()\n",
    "    if not np.isnan(age_pred):\n",
    "        df[\"Age\"].iloc[i] = age_pred\n",
    "    else:\n",
    "        df.Age.iloc[i] = age_median"
   ]
  },
  {
   "cell_type": "code",
   "execution_count": 26,
   "id": "bec9f8c0",
   "metadata": {
    "execution": {
     "iopub.execute_input": "2023-10-05T17:26:40.181019Z",
     "iopub.status.busy": "2023-10-05T17:26:40.180141Z",
     "iopub.status.idle": "2023-10-05T17:26:40.186483Z",
     "shell.execute_reply": "2023-10-05T17:26:40.185575Z"
    },
    "papermill": {
     "duration": 0.028993,
     "end_time": "2023-10-05T17:26:40.188506",
     "exception": false,
     "start_time": "2023-10-05T17:26:40.159513",
     "status": "completed"
    },
    "tags": []
   },
   "outputs": [
    {
     "data": {
      "text/plain": [
       "0"
      ]
     },
     "execution_count": 26,
     "metadata": {},
     "output_type": "execute_result"
    }
   ],
   "source": [
    "df.Age.isnull().sum()"
   ]
  },
  {
   "cell_type": "markdown",
   "id": "a3a8f4bc",
   "metadata": {
    "papermill": {
     "duration": 0.018751,
     "end_time": "2023-10-05T17:26:40.226669",
     "exception": false,
     "start_time": "2023-10-05T17:26:40.207918",
     "status": "completed"
    },
    "tags": []
   },
   "source": [
    "## Feature Engineering"
   ]
  },
  {
   "cell_type": "code",
   "execution_count": 29,
   "id": "c551f421",
   "metadata": {
    "execution": {
     "iopub.execute_input": "2023-10-05T17:26:40.719734Z",
     "iopub.status.busy": "2023-10-05T17:26:40.719167Z",
     "iopub.status.idle": "2023-10-05T17:26:40.733850Z",
     "shell.execute_reply": "2023-10-05T17:26:40.732824Z"
    },
    "papermill": {
     "duration": 0.038793,
     "end_time": "2023-10-05T17:26:40.735717",
     "exception": false,
     "start_time": "2023-10-05T17:26:40.696924",
     "status": "completed"
    },
    "tags": []
   },
   "outputs": [
    {
     "data": {
      "text/html": [
       "<div>\n",
       "<style scoped>\n",
       "    .dataframe tbody tr th:only-of-type {\n",
       "        vertical-align: middle;\n",
       "    }\n",
       "\n",
       "    .dataframe tbody tr th {\n",
       "        vertical-align: top;\n",
       "    }\n",
       "\n",
       "    .dataframe thead th {\n",
       "        text-align: right;\n",
       "    }\n",
       "</style>\n",
       "<table border=\"1\" class=\"dataframe\">\n",
       "  <thead>\n",
       "    <tr style=\"text-align: right;\">\n",
       "      <th></th>\n",
       "      <th>PassengerId</th>\n",
       "      <th>Survived</th>\n",
       "      <th>Pclass</th>\n",
       "      <th>Name</th>\n",
       "      <th>Sex</th>\n",
       "      <th>Age</th>\n",
       "      <th>SibSp</th>\n",
       "      <th>Parch</th>\n",
       "      <th>Ticket</th>\n",
       "      <th>Fare</th>\n",
       "      <th>Cabin</th>\n",
       "      <th>Embarked</th>\n",
       "    </tr>\n",
       "  </thead>\n",
       "  <tbody>\n",
       "    <tr>\n",
       "      <th>0</th>\n",
       "      <td>892</td>\n",
       "      <td>0</td>\n",
       "      <td>3</td>\n",
       "      <td>Kelly, Mr. James</td>\n",
       "      <td>1</td>\n",
       "      <td>34.5</td>\n",
       "      <td>0</td>\n",
       "      <td>0</td>\n",
       "      <td>330911</td>\n",
       "      <td>7.8292</td>\n",
       "      <td>NaN</td>\n",
       "      <td>Q</td>\n",
       "    </tr>\n",
       "    <tr>\n",
       "      <th>1</th>\n",
       "      <td>893</td>\n",
       "      <td>1</td>\n",
       "      <td>3</td>\n",
       "      <td>Wilkes, Mrs. James (Ellen Needs)</td>\n",
       "      <td>0</td>\n",
       "      <td>47.0</td>\n",
       "      <td>1</td>\n",
       "      <td>0</td>\n",
       "      <td>363272</td>\n",
       "      <td>7.0000</td>\n",
       "      <td>NaN</td>\n",
       "      <td>S</td>\n",
       "    </tr>\n",
       "    <tr>\n",
       "      <th>2</th>\n",
       "      <td>894</td>\n",
       "      <td>0</td>\n",
       "      <td>2</td>\n",
       "      <td>Myles, Mr. Thomas Francis</td>\n",
       "      <td>1</td>\n",
       "      <td>62.0</td>\n",
       "      <td>0</td>\n",
       "      <td>0</td>\n",
       "      <td>240276</td>\n",
       "      <td>9.6875</td>\n",
       "      <td>NaN</td>\n",
       "      <td>Q</td>\n",
       "    </tr>\n",
       "    <tr>\n",
       "      <th>3</th>\n",
       "      <td>895</td>\n",
       "      <td>0</td>\n",
       "      <td>3</td>\n",
       "      <td>Wirz, Mr. Albert</td>\n",
       "      <td>1</td>\n",
       "      <td>27.0</td>\n",
       "      <td>0</td>\n",
       "      <td>0</td>\n",
       "      <td>315154</td>\n",
       "      <td>8.6625</td>\n",
       "      <td>NaN</td>\n",
       "      <td>S</td>\n",
       "    </tr>\n",
       "    <tr>\n",
       "      <th>4</th>\n",
       "      <td>896</td>\n",
       "      <td>1</td>\n",
       "      <td>3</td>\n",
       "      <td>Hirvonen, Mrs. Alexander (Helga E Lindqvist)</td>\n",
       "      <td>0</td>\n",
       "      <td>22.0</td>\n",
       "      <td>1</td>\n",
       "      <td>1</td>\n",
       "      <td>3101298</td>\n",
       "      <td>12.2875</td>\n",
       "      <td>NaN</td>\n",
       "      <td>S</td>\n",
       "    </tr>\n",
       "  </tbody>\n",
       "</table>\n",
       "</div>"
      ],
      "text/plain": [
       "   PassengerId  Survived  Pclass  \\\n",
       "0          892         0       3   \n",
       "1          893         1       3   \n",
       "2          894         0       2   \n",
       "3          895         0       3   \n",
       "4          896         1       3   \n",
       "\n",
       "                                           Name  Sex   Age  SibSp  Parch  \\\n",
       "0                              Kelly, Mr. James    1  34.5      0      0   \n",
       "1              Wilkes, Mrs. James (Ellen Needs)    0  47.0      1      0   \n",
       "2                     Myles, Mr. Thomas Francis    1  62.0      0      0   \n",
       "3                              Wirz, Mr. Albert    1  27.0      0      0   \n",
       "4  Hirvonen, Mrs. Alexander (Helga E Lindqvist)    0  22.0      1      1   \n",
       "\n",
       "    Ticket     Fare Cabin Embarked  \n",
       "0   330911   7.8292   NaN        Q  \n",
       "1   363272   7.0000   NaN        S  \n",
       "2   240276   9.6875   NaN        Q  \n",
       "3   315154   8.6625   NaN        S  \n",
       "4  3101298  12.2875   NaN        S  "
      ]
     },
     "execution_count": 29,
     "metadata": {},
     "output_type": "execute_result"
    }
   ],
   "source": [
    "df.head()"
   ]
  },
  {
   "cell_type": "code",
   "execution_count": 32,
   "id": "cc18c408",
   "metadata": {
    "execution": {
     "iopub.execute_input": "2023-10-05T17:26:40.778891Z",
     "iopub.status.busy": "2023-10-05T17:26:40.778537Z",
     "iopub.status.idle": "2023-10-05T17:26:40.793294Z",
     "shell.execute_reply": "2023-10-05T17:26:40.792492Z"
    },
    "papermill": {
     "duration": 0.038291,
     "end_time": "2023-10-05T17:26:40.794982",
     "exception": false,
     "start_time": "2023-10-05T17:26:40.756691",
     "status": "completed"
    },
    "tags": []
   },
   "outputs": [
    {
     "data": {
      "text/html": [
       "<div>\n",
       "<style scoped>\n",
       "    .dataframe tbody tr th:only-of-type {\n",
       "        vertical-align: middle;\n",
       "    }\n",
       "\n",
       "    .dataframe tbody tr th {\n",
       "        vertical-align: top;\n",
       "    }\n",
       "\n",
       "    .dataframe thead th {\n",
       "        text-align: right;\n",
       "    }\n",
       "</style>\n",
       "<table border=\"1\" class=\"dataframe\">\n",
       "  <thead>\n",
       "    <tr style=\"text-align: right;\">\n",
       "      <th></th>\n",
       "      <th>PassengerId</th>\n",
       "      <th>Survived</th>\n",
       "      <th>Pclass</th>\n",
       "      <th>Sex</th>\n",
       "      <th>Age</th>\n",
       "      <th>SibSp</th>\n",
       "      <th>Parch</th>\n",
       "      <th>Ticket</th>\n",
       "      <th>Fare</th>\n",
       "      <th>Cabin</th>\n",
       "      <th>Embarked</th>\n",
       "    </tr>\n",
       "  </thead>\n",
       "  <tbody>\n",
       "    <tr>\n",
       "      <th>0</th>\n",
       "      <td>892</td>\n",
       "      <td>0</td>\n",
       "      <td>3</td>\n",
       "      <td>1</td>\n",
       "      <td>34.5</td>\n",
       "      <td>0</td>\n",
       "      <td>0</td>\n",
       "      <td>330911</td>\n",
       "      <td>7.8292</td>\n",
       "      <td>NaN</td>\n",
       "      <td>Q</td>\n",
       "    </tr>\n",
       "    <tr>\n",
       "      <th>1</th>\n",
       "      <td>893</td>\n",
       "      <td>1</td>\n",
       "      <td>3</td>\n",
       "      <td>0</td>\n",
       "      <td>47.0</td>\n",
       "      <td>1</td>\n",
       "      <td>0</td>\n",
       "      <td>363272</td>\n",
       "      <td>7.0000</td>\n",
       "      <td>NaN</td>\n",
       "      <td>S</td>\n",
       "    </tr>\n",
       "    <tr>\n",
       "      <th>2</th>\n",
       "      <td>894</td>\n",
       "      <td>0</td>\n",
       "      <td>2</td>\n",
       "      <td>1</td>\n",
       "      <td>62.0</td>\n",
       "      <td>0</td>\n",
       "      <td>0</td>\n",
       "      <td>240276</td>\n",
       "      <td>9.6875</td>\n",
       "      <td>NaN</td>\n",
       "      <td>Q</td>\n",
       "    </tr>\n",
       "    <tr>\n",
       "      <th>3</th>\n",
       "      <td>895</td>\n",
       "      <td>0</td>\n",
       "      <td>3</td>\n",
       "      <td>1</td>\n",
       "      <td>27.0</td>\n",
       "      <td>0</td>\n",
       "      <td>0</td>\n",
       "      <td>315154</td>\n",
       "      <td>8.6625</td>\n",
       "      <td>NaN</td>\n",
       "      <td>S</td>\n",
       "    </tr>\n",
       "    <tr>\n",
       "      <th>4</th>\n",
       "      <td>896</td>\n",
       "      <td>1</td>\n",
       "      <td>3</td>\n",
       "      <td>0</td>\n",
       "      <td>22.0</td>\n",
       "      <td>1</td>\n",
       "      <td>1</td>\n",
       "      <td>3101298</td>\n",
       "      <td>12.2875</td>\n",
       "      <td>NaN</td>\n",
       "      <td>S</td>\n",
       "    </tr>\n",
       "  </tbody>\n",
       "</table>\n",
       "</div>"
      ],
      "text/plain": [
       "   PassengerId  Survived  Pclass  Sex   Age  SibSp  Parch   Ticket     Fare  \\\n",
       "0          892         0       3    1  34.5      0      0   330911   7.8292   \n",
       "1          893         1       3    0  47.0      1      0   363272   7.0000   \n",
       "2          894         0       2    1  62.0      0      0   240276   9.6875   \n",
       "3          895         0       3    1  27.0      0      0   315154   8.6625   \n",
       "4          896         1       3    0  22.0      1      1  3101298  12.2875   \n",
       "\n",
       "  Cabin Embarked  \n",
       "0   NaN        Q  \n",
       "1   NaN        S  \n",
       "2   NaN        Q  \n",
       "3   NaN        S  \n",
       "4   NaN        S  "
      ]
     },
     "execution_count": 32,
     "metadata": {},
     "output_type": "execute_result"
    }
   ],
   "source": [
    "# Name columns drop\n",
    "df.drop(['Name'], axis=1, inplace=True)\n",
    "df.head()"
   ]
  },
  {
   "cell_type": "markdown",
   "id": "893da530",
   "metadata": {
    "papermill": {
     "duration": 0.020636,
     "end_time": "2023-10-05T17:26:40.898543",
     "exception": false,
     "start_time": "2023-10-05T17:26:40.877907",
     "status": "completed"
    },
    "tags": []
   },
   "source": [
    "#### Family size\n"
   ]
  },
  {
   "cell_type": "code",
   "execution_count": 33,
   "id": "fcd7f1bc",
   "metadata": {
    "execution": {
     "iopub.execute_input": "2023-10-05T17:26:40.941661Z",
     "iopub.status.busy": "2023-10-05T17:26:40.941136Z",
     "iopub.status.idle": "2023-10-05T17:26:40.945872Z",
     "shell.execute_reply": "2023-10-05T17:26:40.945166Z"
    },
    "papermill": {
     "duration": 0.028667,
     "end_time": "2023-10-05T17:26:40.947691",
     "exception": false,
     "start_time": "2023-10-05T17:26:40.919024",
     "status": "completed"
    },
    "tags": []
   },
   "outputs": [],
   "source": [
    "df[\"FamilySize\"] = df.SibSp + df.Parch + 1"
   ]
  },
  {
   "cell_type": "code",
   "execution_count": 34,
   "id": "1afe9d58",
   "metadata": {
    "execution": {
     "iopub.execute_input": "2023-10-05T17:26:40.991286Z",
     "iopub.status.busy": "2023-10-05T17:26:40.990903Z",
     "iopub.status.idle": "2023-10-05T17:26:40.996995Z",
     "shell.execute_reply": "2023-10-05T17:26:40.996000Z"
    },
    "papermill": {
     "duration": 0.03007,
     "end_time": "2023-10-05T17:26:40.998859",
     "exception": false,
     "start_time": "2023-10-05T17:26:40.968789",
     "status": "completed"
    },
    "tags": []
   },
   "outputs": [],
   "source": [
    "df[\"family_size\"] = [1 if each < 5 else 0 for each in df.FamilySize]"
   ]
  },
  {
   "cell_type": "code",
   "execution_count": 35,
   "id": "67c2b12d",
   "metadata": {
    "execution": {
     "iopub.execute_input": "2023-10-05T17:26:41.042805Z",
     "iopub.status.busy": "2023-10-05T17:26:41.042209Z",
     "iopub.status.idle": "2023-10-05T17:26:41.226732Z",
     "shell.execute_reply": "2023-10-05T17:26:41.226002Z"
    },
    "papermill": {
     "duration": 0.208455,
     "end_time": "2023-10-05T17:26:41.228444",
     "exception": false,
     "start_time": "2023-10-05T17:26:41.019989",
     "status": "completed"
    },
    "tags": []
   },
   "outputs": [
    {
     "data": {
      "image/png": "[encoded data removed]",
      "text/plain": [
       "<Figure size 640x480 with 1 Axes>"
      ]
     },
     "metadata": {},
     "output_type": "display_data"
    },
    {
     "data": {
      "text/plain": [
       "1    398\n",
       "0     20\n",
       "Name: family_size, dtype: int64"
      ]
     },
     "execution_count": 35,
     "metadata": {},
     "output_type": "execute_result"
    }
   ],
   "source": [
    "sns.countplot(data=df, x = \"family_size\")\n",
    "plt.show()\n",
    "df.family_size.value_counts()"
   ]
  },
  {
   "cell_type": "code",
   "execution_count": 36,
   "id": "595647b9",
   "metadata": {
    "execution": {
     "iopub.execute_input": "2023-10-05T17:26:41.273205Z",
     "iopub.status.busy": "2023-10-05T17:26:41.272577Z",
     "iopub.status.idle": "2023-10-05T17:26:41.290025Z",
     "shell.execute_reply": "2023-10-05T17:26:41.289182Z"
    },
    "papermill": {
     "duration": 0.04233,
     "end_time": "2023-10-05T17:26:41.292106",
     "exception": false,
     "start_time": "2023-10-05T17:26:41.249776",
     "status": "completed"
    },
    "tags": []
   },
   "outputs": [
    {
     "data": {
      "text/html": [
       "<div>\n",
       "<style scoped>\n",
       "    .dataframe tbody tr th:only-of-type {\n",
       "        vertical-align: middle;\n",
       "    }\n",
       "\n",
       "    .dataframe tbody tr th {\n",
       "        vertical-align: top;\n",
       "    }\n",
       "\n",
       "    .dataframe thead th {\n",
       "        text-align: right;\n",
       "    }\n",
       "</style>\n",
       "<table border=\"1\" class=\"dataframe\">\n",
       "  <thead>\n",
       "    <tr style=\"text-align: right;\">\n",
       "      <th></th>\n",
       "      <th>PassengerId</th>\n",
       "      <th>Survived</th>\n",
       "      <th>Pclass</th>\n",
       "      <th>Sex</th>\n",
       "      <th>Age</th>\n",
       "      <th>SibSp</th>\n",
       "      <th>Parch</th>\n",
       "      <th>Ticket</th>\n",
       "      <th>Fare</th>\n",
       "      <th>Cabin</th>\n",
       "      <th>Embarked</th>\n",
       "      <th>FamilySize</th>\n",
       "      <th>family_size_0</th>\n",
       "      <th>family_size_1</th>\n",
       "    </tr>\n",
       "  </thead>\n",
       "  <tbody>\n",
       "    <tr>\n",
       "      <th>0</th>\n",
       "      <td>892</td>\n",
       "      <td>0</td>\n",
       "      <td>3</td>\n",
       "      <td>1</td>\n",
       "      <td>34.5</td>\n",
       "      <td>0</td>\n",
       "      <td>0</td>\n",
       "      <td>330911</td>\n",
       "      <td>7.8292</td>\n",
       "      <td>NaN</td>\n",
       "      <td>Q</td>\n",
       "      <td>1</td>\n",
       "      <td>0</td>\n",
       "      <td>1</td>\n",
       "    </tr>\n",
       "    <tr>\n",
       "      <th>1</th>\n",
       "      <td>893</td>\n",
       "      <td>1</td>\n",
       "      <td>3</td>\n",
       "      <td>0</td>\n",
       "      <td>47.0</td>\n",
       "      <td>1</td>\n",
       "      <td>0</td>\n",
       "      <td>363272</td>\n",
       "      <td>7.0000</td>\n",
       "      <td>NaN</td>\n",
       "      <td>S</td>\n",
       "      <td>2</td>\n",
       "      <td>0</td>\n",
       "      <td>1</td>\n",
       "    </tr>\n",
       "    <tr>\n",
       "      <th>2</th>\n",
       "      <td>894</td>\n",
       "      <td>0</td>\n",
       "      <td>2</td>\n",
       "      <td>1</td>\n",
       "      <td>62.0</td>\n",
       "      <td>0</td>\n",
       "      <td>0</td>\n",
       "      <td>240276</td>\n",
       "      <td>9.6875</td>\n",
       "      <td>NaN</td>\n",
       "      <td>Q</td>\n",
       "      <td>1</td>\n",
       "      <td>0</td>\n",
       "      <td>1</td>\n",
       "    </tr>\n",
       "    <tr>\n",
       "      <th>3</th>\n",
       "      <td>895</td>\n",
       "      <td>0</td>\n",
       "      <td>3</td>\n",
       "      <td>1</td>\n",
       "      <td>27.0</td>\n",
       "      <td>0</td>\n",
       "      <td>0</td>\n",
       "      <td>315154</td>\n",
       "      <td>8.6625</td>\n",
       "      <td>NaN</td>\n",
       "      <td>S</td>\n",
       "      <td>1</td>\n",
       "      <td>0</td>\n",
       "      <td>1</td>\n",
       "    </tr>\n",
       "    <tr>\n",
       "      <th>4</th>\n",
       "      <td>896</td>\n",
       "      <td>1</td>\n",
       "      <td>3</td>\n",
       "      <td>0</td>\n",
       "      <td>22.0</td>\n",
       "      <td>1</td>\n",
       "      <td>1</td>\n",
       "      <td>3101298</td>\n",
       "      <td>12.2875</td>\n",
       "      <td>NaN</td>\n",
       "      <td>S</td>\n",
       "      <td>3</td>\n",
       "      <td>0</td>\n",
       "      <td>1</td>\n",
       "    </tr>\n",
       "  </tbody>\n",
       "</table>\n",
       "</div>"
      ],
      "text/plain": [
       "   PassengerId  Survived  Pclass  Sex   Age  SibSp  Parch   Ticket     Fare  \\\n",
       "0          892         0       3    1  34.5      0      0   330911   7.8292   \n",
       "1          893         1       3    0  47.0      1      0   363272   7.0000   \n",
       "2          894         0       2    1  62.0      0      0   240276   9.6875   \n",
       "3          895         0       3    1  27.0      0      0   315154   8.6625   \n",
       "4          896         1       3    0  22.0      1      1  3101298  12.2875   \n",
       "\n",
       "  Cabin Embarked  FamilySize  family_size_0  family_size_1  \n",
       "0   NaN        Q           1              0              1  \n",
       "1   NaN        S           2              0              1  \n",
       "2   NaN        Q           1              0              1  \n",
       "3   NaN        S           1              0              1  \n",
       "4   NaN        S           3              0              1  "
      ]
     },
     "execution_count": 36,
     "metadata": {},
     "output_type": "execute_result"
    }
   ],
   "source": [
    "df = pd.get_dummies(df, columns=[\"family_size\"], dtype=int)\n",
    "df.head()"
   ]
  },
  {
   "cell_type": "markdown",
   "id": "ac7f9f68",
   "metadata": {
    "papermill": {
     "duration": 0.021222,
     "end_time": "2023-10-05T17:26:41.334346",
     "exception": false,
     "start_time": "2023-10-05T17:26:41.313124",
     "status": "completed"
    },
    "tags": []
   },
   "source": [
    "#### Embarked"
   ]
  },
  {
   "cell_type": "code",
   "execution_count": 37,
   "id": "6c5a4e3b",
   "metadata": {
    "execution": {
     "iopub.execute_input": "2023-10-05T17:26:41.378716Z",
     "iopub.status.busy": "2023-10-05T17:26:41.377624Z",
     "iopub.status.idle": "2023-10-05T17:26:41.556785Z",
     "shell.execute_reply": "2023-10-05T17:26:41.556135Z"
    },
    "papermill": {
     "duration": 0.20334,
     "end_time": "2023-10-05T17:26:41.558680",
     "exception": false,
     "start_time": "2023-10-05T17:26:41.355340",
     "status": "completed"
    },
    "tags": []
   },
   "outputs": [
    {
     "data": {
      "image/png": "[encoded data removed]",
      "text/plain": [
       "<Figure size 640x480 with 1 Axes>"
      ]
     },
     "metadata": {},
     "output_type": "display_data"
    },
    {
     "data": {
      "text/plain": [
       "S    270\n",
       "C    102\n",
       "Q     46\n",
       "Name: Embarked, dtype: int64"
      ]
     },
     "execution_count": 37,
     "metadata": {},
     "output_type": "execute_result"
    }
   ],
   "source": [
    "sns.countplot(data=df, x=\"Embarked\")\n",
    "plt.show()\n",
    "df.Embarked.value_counts()"
   ]
  },
  {
   "cell_type": "code",
   "execution_count": 38,
   "id": "9b7f5c23",
   "metadata": {
    "execution": {
     "iopub.execute_input": "2023-10-05T17:26:41.603380Z",
     "iopub.status.busy": "2023-10-05T17:26:41.602496Z",
     "iopub.status.idle": "2023-10-05T17:26:41.621493Z",
     "shell.execute_reply": "2023-10-05T17:26:41.620398Z"
    },
    "papermill": {
     "duration": 0.043239,
     "end_time": "2023-10-05T17:26:41.623238",
     "exception": false,
     "start_time": "2023-10-05T17:26:41.579999",
     "status": "completed"
    },
    "tags": []
   },
   "outputs": [
    {
     "data": {
      "text/html": [
       "<div>\n",
       "<style scoped>\n",
       "    .dataframe tbody tr th:only-of-type {\n",
       "        vertical-align: middle;\n",
       "    }\n",
       "\n",
       "    .dataframe tbody tr th {\n",
       "        vertical-align: top;\n",
       "    }\n",
       "\n",
       "    .dataframe thead th {\n",
       "        text-align: right;\n",
       "    }\n",
       "</style>\n",
       "<table border=\"1\" class=\"dataframe\">\n",
       "  <thead>\n",
       "    <tr style=\"text-align: right;\">\n",
       "      <th></th>\n",
       "      <th>PassengerId</th>\n",
       "      <th>Survived</th>\n",
       "      <th>Pclass</th>\n",
       "      <th>Sex</th>\n",
       "      <th>Age</th>\n",
       "      <th>SibSp</th>\n",
       "      <th>Parch</th>\n",
       "      <th>Ticket</th>\n",
       "      <th>Fare</th>\n",
       "      <th>Cabin</th>\n",
       "      <th>FamilySize</th>\n",
       "      <th>family_size_0</th>\n",
       "      <th>family_size_1</th>\n",
       "      <th>Embarked_C</th>\n",
       "      <th>Embarked_Q</th>\n",
       "      <th>Embarked_S</th>\n",
       "    </tr>\n",
       "  </thead>\n",
       "  <tbody>\n",
       "    <tr>\n",
       "      <th>0</th>\n",
       "      <td>892</td>\n",
       "      <td>0</td>\n",
       "      <td>3</td>\n",
       "      <td>1</td>\n",
       "      <td>34.5</td>\n",
       "      <td>0</td>\n",
       "      <td>0</td>\n",
       "      <td>330911</td>\n",
       "      <td>7.8292</td>\n",
       "      <td>NaN</td>\n",
       "      <td>1</td>\n",
       "      <td>0</td>\n",
       "      <td>1</td>\n",
       "      <td>0</td>\n",
       "      <td>1</td>\n",
       "      <td>0</td>\n",
       "    </tr>\n",
       "    <tr>\n",
       "      <th>1</th>\n",
       "      <td>893</td>\n",
       "      <td>1</td>\n",
       "      <td>3</td>\n",
       "      <td>0</td>\n",
       "      <td>47.0</td>\n",
       "      <td>1</td>\n",
       "      <td>0</td>\n",
       "      <td>363272</td>\n",
       "      <td>7.0000</td>\n",
       "      <td>NaN</td>\n",
       "      <td>2</td>\n",
       "      <td>0</td>\n",
       "      <td>1</td>\n",
       "      <td>0</td>\n",
       "      <td>0</td>\n",
       "      <td>1</td>\n",
       "    </tr>\n",
       "    <tr>\n",
       "      <th>2</th>\n",
       "      <td>894</td>\n",
       "      <td>0</td>\n",
       "      <td>2</td>\n",
       "      <td>1</td>\n",
       "      <td>62.0</td>\n",
       "      <td>0</td>\n",
       "      <td>0</td>\n",
       "      <td>240276</td>\n",
       "      <td>9.6875</td>\n",
       "      <td>NaN</td>\n",
       "      <td>1</td>\n",
       "      <td>0</td>\n",
       "      <td>1</td>\n",
       "      <td>0</td>\n",
       "      <td>1</td>\n",
       "      <td>0</td>\n",
       "    </tr>\n",
       "    <tr>\n",
       "      <th>3</th>\n",
       "      <td>895</td>\n",
       "      <td>0</td>\n",
       "      <td>3</td>\n",
       "      <td>1</td>\n",
       "      <td>27.0</td>\n",
       "      <td>0</td>\n",
       "      <td>0</td>\n",
       "      <td>315154</td>\n",
       "      <td>8.6625</td>\n",
       "      <td>NaN</td>\n",
       "      <td>1</td>\n",
       "      <td>0</td>\n",
       "      <td>1</td>\n",
       "      <td>0</td>\n",
       "      <td>0</td>\n",
       "      <td>1</td>\n",
       "    </tr>\n",
       "    <tr>\n",
       "      <th>4</th>\n",
       "      <td>896</td>\n",
       "      <td>1</td>\n",
       "      <td>3</td>\n",
       "      <td>0</td>\n",
       "      <td>22.0</td>\n",
       "      <td>1</td>\n",
       "      <td>1</td>\n",
       "      <td>3101298</td>\n",
       "      <td>12.2875</td>\n",
       "      <td>NaN</td>\n",
       "      <td>3</td>\n",
       "      <td>0</td>\n",
       "      <td>1</td>\n",
       "      <td>0</td>\n",
       "      <td>0</td>\n",
       "      <td>1</td>\n",
       "    </tr>\n",
       "  </tbody>\n",
       "</table>\n",
       "</div>"
      ],
      "text/plain": [
       "   PassengerId  Survived  Pclass  Sex   Age  SibSp  Parch   Ticket     Fare  \\\n",
       "0          892         0       3    1  34.5      0      0   330911   7.8292   \n",
       "1          893         1       3    0  47.0      1      0   363272   7.0000   \n",
       "2          894         0       2    1  62.0      0      0   240276   9.6875   \n",
       "3          895         0       3    1  27.0      0      0   315154   8.6625   \n",
       "4          896         1       3    0  22.0      1      1  3101298  12.2875   \n",
       "\n",
       "  Cabin  FamilySize  family_size_0  family_size_1  Embarked_C  Embarked_Q  \\\n",
       "0   NaN           1              0              1           0           1   \n",
       "1   NaN           2              0              1           0           0   \n",
       "2   NaN           1              0              1           0           1   \n",
       "3   NaN           1              0              1           0           0   \n",
       "4   NaN           3              0              1           0           0   \n",
       "\n",
       "   Embarked_S  \n",
       "0           0  \n",
       "1           1  \n",
       "2           0  \n",
       "3           1  \n",
       "4           1  "
      ]
     },
     "execution_count": 38,
     "metadata": {},
     "output_type": "execute_result"
    }
   ],
   "source": [
    "df = pd.get_dummies(df, columns=[\"Embarked\"], dtype=int)\n",
    "df.head()"
   ]
  },
  {
   "cell_type": "markdown",
   "id": "ccd0e2e6",
   "metadata": {
    "papermill": {
     "duration": 0.021273,
     "end_time": "2023-10-05T17:26:41.666628",
     "exception": false,
     "start_time": "2023-10-05T17:26:41.645355",
     "status": "completed"
    },
    "tags": []
   },
   "source": [
    "#### Ticket"
   ]
  },
  {
   "cell_type": "code",
   "execution_count": 39,
   "id": "45085ca4",
   "metadata": {
    "execution": {
     "iopub.execute_input": "2023-10-05T17:26:41.711078Z",
     "iopub.status.busy": "2023-10-05T17:26:41.710340Z",
     "iopub.status.idle": "2023-10-05T17:26:41.716695Z",
     "shell.execute_reply": "2023-10-05T17:26:41.716044Z"
    },
    "papermill": {
     "duration": 0.030415,
     "end_time": "2023-10-05T17:26:41.718410",
     "exception": false,
     "start_time": "2023-10-05T17:26:41.687995",
     "status": "completed"
    },
    "tags": []
   },
   "outputs": [],
   "source": [
    "ticket_list = []\n",
    "\n",
    "for i in df.Ticket:\n",
    "    if not i.isdigit():\n",
    "        t = i.replace(\".\", \"\").replace(\"/\",\"\").strip().split(\" \")[0]\n",
    "        ticket_list.append(t)\n",
    "    else:\n",
    "        ticket_list.append(\"x\")\n",
    "\n",
    "df[\"Ticket\"] = ticket_list"
   ]
  },
  {
   "cell_type": "code",
   "execution_count": 40,
   "id": "0b6d6b9f",
   "metadata": {
    "execution": {
     "iopub.execute_input": "2023-10-05T17:26:41.764477Z",
     "iopub.status.busy": "2023-10-05T17:26:41.763605Z",
     "iopub.status.idle": "2023-10-05T17:26:41.785254Z",
     "shell.execute_reply": "2023-10-05T17:26:41.784171Z"
    },
    "papermill": {
     "duration": 0.046497,
     "end_time": "2023-10-05T17:26:41.787115",
     "exception": false,
     "start_time": "2023-10-05T17:26:41.740618",
     "status": "completed"
    },
    "tags": []
   },
   "outputs": [
    {
     "data": {
      "text/html": [
       "<div>\n",
       "<style scoped>\n",
       "    .dataframe tbody tr th:only-of-type {\n",
       "        vertical-align: middle;\n",
       "    }\n",
       "\n",
       "    .dataframe tbody tr th {\n",
       "        vertical-align: top;\n",
       "    }\n",
       "\n",
       "    .dataframe thead th {\n",
       "        text-align: right;\n",
       "    }\n",
       "</style>\n",
       "<table border=\"1\" class=\"dataframe\">\n",
       "  <thead>\n",
       "    <tr style=\"text-align: right;\">\n",
       "      <th></th>\n",
       "      <th>PassengerId</th>\n",
       "      <th>Survived</th>\n",
       "      <th>Pclass</th>\n",
       "      <th>Sex</th>\n",
       "      <th>Age</th>\n",
       "      <th>SibSp</th>\n",
       "      <th>Parch</th>\n",
       "      <th>Fare</th>\n",
       "      <th>Cabin</th>\n",
       "      <th>FamilySize</th>\n",
       "      <th>...</th>\n",
       "      <th>T_SOC</th>\n",
       "      <th>T_SOPP</th>\n",
       "      <th>T_SOTONO2</th>\n",
       "      <th>T_SOTONOQ</th>\n",
       "      <th>T_STONO</th>\n",
       "      <th>T_STONO2</th>\n",
       "      <th>T_STONOQ</th>\n",
       "      <th>T_WC</th>\n",
       "      <th>T_WEP</th>\n",
       "      <th>T_x</th>\n",
       "    </tr>\n",
       "  </thead>\n",
       "  <tbody>\n",
       "    <tr>\n",
       "      <th>0</th>\n",
       "      <td>892</td>\n",
       "      <td>0</td>\n",
       "      <td>3</td>\n",
       "      <td>1</td>\n",
       "      <td>34.5</td>\n",
       "      <td>0</td>\n",
       "      <td>0</td>\n",
       "      <td>7.8292</td>\n",
       "      <td>NaN</td>\n",
       "      <td>1</td>\n",
       "      <td>...</td>\n",
       "      <td>0</td>\n",
       "      <td>0</td>\n",
       "      <td>0</td>\n",
       "      <td>0</td>\n",
       "      <td>0</td>\n",
       "      <td>0</td>\n",
       "      <td>0</td>\n",
       "      <td>0</td>\n",
       "      <td>0</td>\n",
       "      <td>1</td>\n",
       "    </tr>\n",
       "    <tr>\n",
       "      <th>1</th>\n",
       "      <td>893</td>\n",
       "      <td>1</td>\n",
       "      <td>3</td>\n",
       "      <td>0</td>\n",
       "      <td>47.0</td>\n",
       "      <td>1</td>\n",
       "      <td>0</td>\n",
       "      <td>7.0000</td>\n",
       "      <td>NaN</td>\n",
       "      <td>2</td>\n",
       "      <td>...</td>\n",
       "      <td>0</td>\n",
       "      <td>0</td>\n",
       "      <td>0</td>\n",
       "      <td>0</td>\n",
       "      <td>0</td>\n",
       "      <td>0</td>\n",
       "      <td>0</td>\n",
       "      <td>0</td>\n",
       "      <td>0</td>\n",
       "      <td>1</td>\n",
       "    </tr>\n",
       "    <tr>\n",
       "      <th>2</th>\n",
       "      <td>894</td>\n",
       "      <td>0</td>\n",
       "      <td>2</td>\n",
       "      <td>1</td>\n",
       "      <td>62.0</td>\n",
       "      <td>0</td>\n",
       "      <td>0</td>\n",
       "      <td>9.6875</td>\n",
       "      <td>NaN</td>\n",
       "      <td>1</td>\n",
       "      <td>...</td>\n",
       "      <td>0</td>\n",
       "      <td>0</td>\n",
       "      <td>0</td>\n",
       "      <td>0</td>\n",
       "      <td>0</td>\n",
       "      <td>0</td>\n",
       "      <td>0</td>\n",
       "      <td>0</td>\n",
       "      <td>0</td>\n",
       "      <td>1</td>\n",
       "    </tr>\n",
       "    <tr>\n",
       "      <th>3</th>\n",
       "      <td>895</td>\n",
       "      <td>0</td>\n",
       "      <td>3</td>\n",
       "      <td>1</td>\n",
       "      <td>27.0</td>\n",
       "      <td>0</td>\n",
       "      <td>0</td>\n",
       "      <td>8.6625</td>\n",
       "      <td>NaN</td>\n",
       "      <td>1</td>\n",
       "      <td>...</td>\n",
       "      <td>0</td>\n",
       "      <td>0</td>\n",
       "      <td>0</td>\n",
       "      <td>0</td>\n",
       "      <td>0</td>\n",
       "      <td>0</td>\n",
       "      <td>0</td>\n",
       "      <td>0</td>\n",
       "      <td>0</td>\n",
       "      <td>1</td>\n",
       "    </tr>\n",
       "    <tr>\n",
       "      <th>4</th>\n",
       "      <td>896</td>\n",
       "      <td>1</td>\n",
       "      <td>3</td>\n",
       "      <td>0</td>\n",
       "      <td>22.0</td>\n",
       "      <td>1</td>\n",
       "      <td>1</td>\n",
       "      <td>12.2875</td>\n",
       "      <td>NaN</td>\n",
       "      <td>3</td>\n",
       "      <td>...</td>\n",
       "      <td>0</td>\n",
       "      <td>0</td>\n",
       "      <td>0</td>\n",
       "      <td>0</td>\n",
       "      <td>0</td>\n",
       "      <td>0</td>\n",
       "      <td>0</td>\n",
       "      <td>0</td>\n",
       "      <td>0</td>\n",
       "      <td>1</td>\n",
       "    </tr>\n",
       "  </tbody>\n",
       "</table>\n",
       "<p>5 rows × 43 columns</p>\n",
       "</div>"
      ],
      "text/plain": [
       "   PassengerId  Survived  Pclass  Sex   Age  SibSp  Parch     Fare Cabin  \\\n",
       "0          892         0       3    1  34.5      0      0   7.8292   NaN   \n",
       "1          893         1       3    0  47.0      1      0   7.0000   NaN   \n",
       "2          894         0       2    1  62.0      0      0   9.6875   NaN   \n",
       "3          895         0       3    1  27.0      0      0   8.6625   NaN   \n",
       "4          896         1       3    0  22.0      1      1  12.2875   NaN   \n",
       "\n",
       "   FamilySize  ...  T_SOC  T_SOPP  T_SOTONO2  T_SOTONOQ  T_STONO  T_STONO2  \\\n",
       "0           1  ...      0       0          0          0        0         0   \n",
       "1           2  ...      0       0          0          0        0         0   \n",
       "2           1  ...      0       0          0          0        0         0   \n",
       "3           1  ...      0       0          0          0        0         0   \n",
       "4           3  ...      0       0          0          0        0         0   \n",
       "\n",
       "   T_STONOQ  T_WC  T_WEP  T_x  \n",
       "0         0     0      0    1  \n",
       "1         0     0      0    1  \n",
       "2         0     0      0    1  \n",
       "3         0     0      0    1  \n",
       "4         0     0      0    1  \n",
       "\n",
       "[5 rows x 43 columns]"
      ]
     },
     "execution_count": 40,
     "metadata": {},
     "output_type": "execute_result"
    }
   ],
   "source": [
    "df = pd.get_dummies(df, columns=[\"Ticket\"], dtype=int, prefix=\"T\")\n",
    "df.head()"
   ]
  },
  {
   "cell_type": "markdown",
   "id": "4eb1f14b",
   "metadata": {
    "papermill": {
     "duration": 0.021959,
     "end_time": "2023-10-05T17:26:41.831881",
     "exception": false,
     "start_time": "2023-10-05T17:26:41.809922",
     "status": "completed"
    },
    "tags": []
   },
   "source": [
    "#### Pclass"
   ]
  },
  {
   "cell_type": "code",
   "execution_count": 41,
   "id": "6359f91d",
   "metadata": {
    "execution": {
     "iopub.execute_input": "2023-10-05T17:26:41.877618Z",
     "iopub.status.busy": "2023-10-05T17:26:41.876686Z",
     "iopub.status.idle": "2023-10-05T17:26:42.165306Z",
     "shell.execute_reply": "2023-10-05T17:26:42.164345Z"
    },
    "papermill": {
     "duration": 0.314095,
     "end_time": "2023-10-05T17:26:42.167406",
     "exception": false,
     "start_time": "2023-10-05T17:26:41.853311",
     "status": "completed"
    },
    "tags": []
   },
   "outputs": [
    {
     "data": {
      "image/png": "[encoded data removed]",
      "text/plain": [
       "<Figure size 640x480 with 1 Axes>"
      ]
     },
     "metadata": {},
     "output_type": "display_data"
    },
    {
     "data": {
      "text/plain": [
       "3    218\n",
       "1    107\n",
       "2     93\n",
       "Name: Pclass, dtype: int64"
      ]
     },
     "execution_count": 41,
     "metadata": {},
     "output_type": "execute_result"
    }
   ],
   "source": [
    "sns.countplot(data=df, x=\"Pclass\")\n",
    "plt.show()\n",
    "df.Pclass.value_counts()"
   ]
  },
  {
   "cell_type": "code",
   "execution_count": 42,
   "id": "3fba0815",
   "metadata": {
    "execution": {
     "iopub.execute_input": "2023-10-05T17:26:42.215225Z",
     "iopub.status.busy": "2023-10-05T17:26:42.214870Z",
     "iopub.status.idle": "2023-10-05T17:26:42.236329Z",
     "shell.execute_reply": "2023-10-05T17:26:42.235313Z"
    },
    "papermill": {
     "duration": 0.048028,
     "end_time": "2023-10-05T17:26:42.238436",
     "exception": false,
     "start_time": "2023-10-05T17:26:42.190408",
     "status": "completed"
    },
    "tags": []
   },
   "outputs": [
    {
     "data": {
      "text/html": [
       "<div>\n",
       "<style scoped>\n",
       "    .dataframe tbody tr th:only-of-type {\n",
       "        vertical-align: middle;\n",
       "    }\n",
       "\n",
       "    .dataframe tbody tr th {\n",
       "        vertical-align: top;\n",
       "    }\n",
       "\n",
       "    .dataframe thead th {\n",
       "        text-align: right;\n",
       "    }\n",
       "</style>\n",
       "<table border=\"1\" class=\"dataframe\">\n",
       "  <thead>\n",
       "    <tr style=\"text-align: right;\">\n",
       "      <th></th>\n",
       "      <th>PassengerId</th>\n",
       "      <th>Survived</th>\n",
       "      <th>Sex</th>\n",
       "      <th>Age</th>\n",
       "      <th>SibSp</th>\n",
       "      <th>Parch</th>\n",
       "      <th>Fare</th>\n",
       "      <th>Cabin</th>\n",
       "      <th>FamilySize</th>\n",
       "      <th>family_size_0</th>\n",
       "      <th>...</th>\n",
       "      <th>T_SOTONOQ</th>\n",
       "      <th>T_STONO</th>\n",
       "      <th>T_STONO2</th>\n",
       "      <th>T_STONOQ</th>\n",
       "      <th>T_WC</th>\n",
       "      <th>T_WEP</th>\n",
       "      <th>T_x</th>\n",
       "      <th>Pclass_1</th>\n",
       "      <th>Pclass_2</th>\n",
       "      <th>Pclass_3</th>\n",
       "    </tr>\n",
       "  </thead>\n",
       "  <tbody>\n",
       "    <tr>\n",
       "      <th>0</th>\n",
       "      <td>892</td>\n",
       "      <td>0</td>\n",
       "      <td>1</td>\n",
       "      <td>34.5</td>\n",
       "      <td>0</td>\n",
       "      <td>0</td>\n",
       "      <td>7.8292</td>\n",
       "      <td>NaN</td>\n",
       "      <td>1</td>\n",
       "      <td>0</td>\n",
       "      <td>...</td>\n",
       "      <td>0</td>\n",
       "      <td>0</td>\n",
       "      <td>0</td>\n",
       "      <td>0</td>\n",
       "      <td>0</td>\n",
       "      <td>0</td>\n",
       "      <td>1</td>\n",
       "      <td>0</td>\n",
       "      <td>0</td>\n",
       "      <td>1</td>\n",
       "    </tr>\n",
       "    <tr>\n",
       "      <th>1</th>\n",
       "      <td>893</td>\n",
       "      <td>1</td>\n",
       "      <td>0</td>\n",
       "      <td>47.0</td>\n",
       "      <td>1</td>\n",
       "      <td>0</td>\n",
       "      <td>7.0000</td>\n",
       "      <td>NaN</td>\n",
       "      <td>2</td>\n",
       "      <td>0</td>\n",
       "      <td>...</td>\n",
       "      <td>0</td>\n",
       "      <td>0</td>\n",
       "      <td>0</td>\n",
       "      <td>0</td>\n",
       "      <td>0</td>\n",
       "      <td>0</td>\n",
       "      <td>1</td>\n",
       "      <td>0</td>\n",
       "      <td>0</td>\n",
       "      <td>1</td>\n",
       "    </tr>\n",
       "    <tr>\n",
       "      <th>2</th>\n",
       "      <td>894</td>\n",
       "      <td>0</td>\n",
       "      <td>1</td>\n",
       "      <td>62.0</td>\n",
       "      <td>0</td>\n",
       "      <td>0</td>\n",
       "      <td>9.6875</td>\n",
       "      <td>NaN</td>\n",
       "      <td>1</td>\n",
       "      <td>0</td>\n",
       "      <td>...</td>\n",
       "      <td>0</td>\n",
       "      <td>0</td>\n",
       "      <td>0</td>\n",
       "      <td>0</td>\n",
       "      <td>0</td>\n",
       "      <td>0</td>\n",
       "      <td>1</td>\n",
       "      <td>0</td>\n",
       "      <td>1</td>\n",
       "      <td>0</td>\n",
       "    </tr>\n",
       "    <tr>\n",
       "      <th>3</th>\n",
       "      <td>895</td>\n",
       "      <td>0</td>\n",
       "      <td>1</td>\n",
       "      <td>27.0</td>\n",
       "      <td>0</td>\n",
       "      <td>0</td>\n",
       "      <td>8.6625</td>\n",
       "      <td>NaN</td>\n",
       "      <td>1</td>\n",
       "      <td>0</td>\n",
       "      <td>...</td>\n",
       "      <td>0</td>\n",
       "      <td>0</td>\n",
       "      <td>0</td>\n",
       "      <td>0</td>\n",
       "      <td>0</td>\n",
       "      <td>0</td>\n",
       "      <td>1</td>\n",
       "      <td>0</td>\n",
       "      <td>0</td>\n",
       "      <td>1</td>\n",
       "    </tr>\n",
       "    <tr>\n",
       "      <th>4</th>\n",
       "      <td>896</td>\n",
       "      <td>1</td>\n",
       "      <td>0</td>\n",
       "      <td>22.0</td>\n",
       "      <td>1</td>\n",
       "      <td>1</td>\n",
       "      <td>12.2875</td>\n",
       "      <td>NaN</td>\n",
       "      <td>3</td>\n",
       "      <td>0</td>\n",
       "      <td>...</td>\n",
       "      <td>0</td>\n",
       "      <td>0</td>\n",
       "      <td>0</td>\n",
       "      <td>0</td>\n",
       "      <td>0</td>\n",
       "      <td>0</td>\n",
       "      <td>1</td>\n",
       "      <td>0</td>\n",
       "      <td>0</td>\n",
       "      <td>1</td>\n",
       "    </tr>\n",
       "  </tbody>\n",
       "</table>\n",
       "<p>5 rows × 45 columns</p>\n",
       "</div>"
      ],
      "text/plain": [
       "   PassengerId  Survived  Sex   Age  SibSp  Parch     Fare Cabin  FamilySize  \\\n",
       "0          892         0    1  34.5      0      0   7.8292   NaN           1   \n",
       "1          893         1    0  47.0      1      0   7.0000   NaN           2   \n",
       "2          894         0    1  62.0      0      0   9.6875   NaN           1   \n",
       "3          895         0    1  27.0      0      0   8.6625   NaN           1   \n",
       "4          896         1    0  22.0      1      1  12.2875   NaN           3   \n",
       "\n",
       "   family_size_0  ...  T_SOTONOQ  T_STONO  T_STONO2  T_STONOQ  T_WC  T_WEP  \\\n",
       "0              0  ...          0        0         0         0     0      0   \n",
       "1              0  ...          0        0         0         0     0      0   \n",
       "2              0  ...          0        0         0         0     0      0   \n",
       "3              0  ...          0        0         0         0     0      0   \n",
       "4              0  ...          0        0         0         0     0      0   \n",
       "\n",
       "   T_x  Pclass_1  Pclass_2  Pclass_3  \n",
       "0    1         0         0         1  \n",
       "1    1         0         0         1  \n",
       "2    1         0         1         0  \n",
       "3    1         0         0         1  \n",
       "4    1         0         0         1  \n",
       "\n",
       "[5 rows x 45 columns]"
      ]
     },
     "execution_count": 42,
     "metadata": {},
     "output_type": "execute_result"
    }
   ],
   "source": [
    "df[\"Pclass\"] = df.Pclass.astype(\"category\")\n",
    "df = pd.get_dummies(df,columns=[\"Pclass\"],dtype=int)\n",
    "df.head()"
   ]
  },
  {
   "cell_type": "markdown",
   "id": "7c960cc0",
   "metadata": {
    "papermill": {
     "duration": 0.022556,
     "end_time": "2023-10-05T17:26:42.283995",
     "exception": false,
     "start_time": "2023-10-05T17:26:42.261439",
     "status": "completed"
    },
    "tags": []
   },
   "source": [
    "#### Sex"
   ]
  },
  {
   "cell_type": "code",
   "execution_count": 43,
   "id": "42fb2c0d",
   "metadata": {
    "execution": {
     "iopub.execute_input": "2023-10-05T17:26:42.331394Z",
     "iopub.status.busy": "2023-10-05T17:26:42.330591Z",
     "iopub.status.idle": "2023-10-05T17:26:42.349871Z",
     "shell.execute_reply": "2023-10-05T17:26:42.349289Z"
    },
    "papermill": {
     "duration": 0.04498,
     "end_time": "2023-10-05T17:26:42.351600",
     "exception": false,
     "start_time": "2023-10-05T17:26:42.306620",
     "status": "completed"
    },
    "tags": []
   },
   "outputs": [
    {
     "data": {
      "text/html": [
       "<div>\n",
       "<style scoped>\n",
       "    .dataframe tbody tr th:only-of-type {\n",
       "        vertical-align: middle;\n",
       "    }\n",
       "\n",
       "    .dataframe tbody tr th {\n",
       "        vertical-align: top;\n",
       "    }\n",
       "\n",
       "    .dataframe thead th {\n",
       "        text-align: right;\n",
       "    }\n",
       "</style>\n",
       "<table border=\"1\" class=\"dataframe\">\n",
       "  <thead>\n",
       "    <tr style=\"text-align: right;\">\n",
       "      <th></th>\n",
       "      <th>PassengerId</th>\n",
       "      <th>Survived</th>\n",
       "      <th>Age</th>\n",
       "      <th>SibSp</th>\n",
       "      <th>Parch</th>\n",
       "      <th>Fare</th>\n",
       "      <th>Cabin</th>\n",
       "      <th>FamilySize</th>\n",
       "      <th>family_size_0</th>\n",
       "      <th>family_size_1</th>\n",
       "      <th>...</th>\n",
       "      <th>T_STONO2</th>\n",
       "      <th>T_STONOQ</th>\n",
       "      <th>T_WC</th>\n",
       "      <th>T_WEP</th>\n",
       "      <th>T_x</th>\n",
       "      <th>Pclass_1</th>\n",
       "      <th>Pclass_2</th>\n",
       "      <th>Pclass_3</th>\n",
       "      <th>Sex_0</th>\n",
       "      <th>Sex_1</th>\n",
       "    </tr>\n",
       "  </thead>\n",
       "  <tbody>\n",
       "    <tr>\n",
       "      <th>0</th>\n",
       "      <td>892</td>\n",
       "      <td>0</td>\n",
       "      <td>34.5</td>\n",
       "      <td>0</td>\n",
       "      <td>0</td>\n",
       "      <td>7.8292</td>\n",
       "      <td>NaN</td>\n",
       "      <td>1</td>\n",
       "      <td>0</td>\n",
       "      <td>1</td>\n",
       "      <td>...</td>\n",
       "      <td>0</td>\n",
       "      <td>0</td>\n",
       "      <td>0</td>\n",
       "      <td>0</td>\n",
       "      <td>1</td>\n",
       "      <td>0</td>\n",
       "      <td>0</td>\n",
       "      <td>1</td>\n",
       "      <td>0</td>\n",
       "      <td>1</td>\n",
       "    </tr>\n",
       "    <tr>\n",
       "      <th>1</th>\n",
       "      <td>893</td>\n",
       "      <td>1</td>\n",
       "      <td>47.0</td>\n",
       "      <td>1</td>\n",
       "      <td>0</td>\n",
       "      <td>7.0000</td>\n",
       "      <td>NaN</td>\n",
       "      <td>2</td>\n",
       "      <td>0</td>\n",
       "      <td>1</td>\n",
       "      <td>...</td>\n",
       "      <td>0</td>\n",
       "      <td>0</td>\n",
       "      <td>0</td>\n",
       "      <td>0</td>\n",
       "      <td>1</td>\n",
       "      <td>0</td>\n",
       "      <td>0</td>\n",
       "      <td>1</td>\n",
       "      <td>1</td>\n",
       "      <td>0</td>\n",
       "    </tr>\n",
       "    <tr>\n",
       "      <th>2</th>\n",
       "      <td>894</td>\n",
       "      <td>0</td>\n",
       "      <td>62.0</td>\n",
       "      <td>0</td>\n",
       "      <td>0</td>\n",
       "      <td>9.6875</td>\n",
       "      <td>NaN</td>\n",
       "      <td>1</td>\n",
       "      <td>0</td>\n",
       "      <td>1</td>\n",
       "      <td>...</td>\n",
       "      <td>0</td>\n",
       "      <td>0</td>\n",
       "      <td>0</td>\n",
       "      <td>0</td>\n",
       "      <td>1</td>\n",
       "      <td>0</td>\n",
       "      <td>1</td>\n",
       "      <td>0</td>\n",
       "      <td>0</td>\n",
       "      <td>1</td>\n",
       "    </tr>\n",
       "    <tr>\n",
       "      <th>3</th>\n",
       "      <td>895</td>\n",
       "      <td>0</td>\n",
       "      <td>27.0</td>\n",
       "      <td>0</td>\n",
       "      <td>0</td>\n",
       "      <td>8.6625</td>\n",
       "      <td>NaN</td>\n",
       "      <td>1</td>\n",
       "      <td>0</td>\n",
       "      <td>1</td>\n",
       "      <td>...</td>\n",
       "      <td>0</td>\n",
       "      <td>0</td>\n",
       "      <td>0</td>\n",
       "      <td>0</td>\n",
       "      <td>1</td>\n",
       "      <td>0</td>\n",
       "      <td>0</td>\n",
       "      <td>1</td>\n",
       "      <td>0</td>\n",
       "      <td>1</td>\n",
       "    </tr>\n",
       "    <tr>\n",
       "      <th>4</th>\n",
       "      <td>896</td>\n",
       "      <td>1</td>\n",
       "      <td>22.0</td>\n",
       "      <td>1</td>\n",
       "      <td>1</td>\n",
       "      <td>12.2875</td>\n",
       "      <td>NaN</td>\n",
       "      <td>3</td>\n",
       "      <td>0</td>\n",
       "      <td>1</td>\n",
       "      <td>...</td>\n",
       "      <td>0</td>\n",
       "      <td>0</td>\n",
       "      <td>0</td>\n",
       "      <td>0</td>\n",
       "      <td>1</td>\n",
       "      <td>0</td>\n",
       "      <td>0</td>\n",
       "      <td>1</td>\n",
       "      <td>1</td>\n",
       "      <td>0</td>\n",
       "    </tr>\n",
       "  </tbody>\n",
       "</table>\n",
       "<p>5 rows × 46 columns</p>\n",
       "</div>"
      ],
      "text/plain": [
       "   PassengerId  Survived   Age  SibSp  Parch     Fare Cabin  FamilySize  \\\n",
       "0          892         0  34.5      0      0   7.8292   NaN           1   \n",
       "1          893         1  47.0      1      0   7.0000   NaN           2   \n",
       "2          894         0  62.0      0      0   9.6875   NaN           1   \n",
       "3          895         0  27.0      0      0   8.6625   NaN           1   \n",
       "4          896         1  22.0      1      1  12.2875   NaN           3   \n",
       "\n",
       "   family_size_0  family_size_1  ...  T_STONO2  T_STONOQ  T_WC  T_WEP  T_x  \\\n",
       "0              0              1  ...         0         0     0      0    1   \n",
       "1              0              1  ...         0         0     0      0    1   \n",
       "2              0              1  ...         0         0     0      0    1   \n",
       "3              0              1  ...         0         0     0      0    1   \n",
       "4              0              1  ...         0         0     0      0    1   \n",
       "\n",
       "   Pclass_1  Pclass_2  Pclass_3  Sex_0  Sex_1  \n",
       "0         0         0         1      0      1  \n",
       "1         0         0         1      1      0  \n",
       "2         0         1         0      0      1  \n",
       "3         0         0         1      0      1  \n",
       "4         0         0         1      1      0  \n",
       "\n",
       "[5 rows x 46 columns]"
      ]
     },
     "execution_count": 43,
     "metadata": {},
     "output_type": "execute_result"
    }
   ],
   "source": [
    "df[\"Sex\"] = df.Sex.astype(\"category\")\n",
    "df = pd.get_dummies(df,columns=[\"Sex\"],dtype=int)\n",
    "df.head()"
   ]
  },
  {
   "cell_type": "markdown",
   "id": "519e42b2",
   "metadata": {
    "papermill": {
     "duration": 0.025471,
     "end_time": "2023-10-05T17:26:42.399230",
     "exception": false,
     "start_time": "2023-10-05T17:26:42.373759",
     "status": "completed"
    },
    "tags": []
   },
   "source": [
    "### Drop Passenger ID and Cabin"
   ]
  },
  {
   "cell_type": "code",
   "execution_count": 44,
   "id": "f0ec514a",
   "metadata": {
    "execution": {
     "iopub.execute_input": "2023-10-05T17:26:42.446739Z",
     "iopub.status.busy": "2023-10-05T17:26:42.445700Z",
     "iopub.status.idle": "2023-10-05T17:26:42.452993Z",
     "shell.execute_reply": "2023-10-05T17:26:42.452373Z"
    },
    "papermill": {
     "duration": 0.032834,
     "end_time": "2023-10-05T17:26:42.454759",
     "exception": false,
     "start_time": "2023-10-05T17:26:42.421925",
     "status": "completed"
    },
    "tags": []
   },
   "outputs": [
    {
     "data": {
      "text/plain": [
       "Index(['Survived', 'Age', 'SibSp', 'Parch', 'Fare', 'FamilySize',\n",
       "       'family_size_0', 'family_size_1', 'Embarked_C', 'Embarked_Q',\n",
       "       'Embarked_S', 'T_A', 'T_A4', 'T_A5', 'T_AQ3', 'T_AQ4', 'T_C', 'T_CA',\n",
       "       'T_FC', 'T_FCC', 'T_LP', 'T_PC', 'T_PP', 'T_SC', 'T_SCA3', 'T_SCA4',\n",
       "       'T_SCAH', 'T_SCPARIS', 'T_SCParis', 'T_SOC', 'T_SOPP', 'T_SOTONO2',\n",
       "       'T_SOTONOQ', 'T_STONO', 'T_STONO2', 'T_STONOQ', 'T_WC', 'T_WEP', 'T_x',\n",
       "       'Pclass_1', 'Pclass_2', 'Pclass_3', 'Sex_0', 'Sex_1'],\n",
       "      dtype='object')"
      ]
     },
     "execution_count": 44,
     "metadata": {},
     "output_type": "execute_result"
    }
   ],
   "source": [
    "df.drop([\"PassengerId\", \"Cabin\"], axis=1, inplace=True)\n",
    "df.columns"
   ]
  },
  {
   "cell_type": "markdown",
   "id": "c6f45ef9",
   "metadata": {
    "papermill": {
     "duration": 0.022077,
     "end_time": "2023-10-05T17:26:42.499157",
     "exception": false,
     "start_time": "2023-10-05T17:26:42.477080",
     "status": "completed"
    },
    "tags": []
   },
   "source": [
    "# Modeling"
   ]
  },
  {
   "cell_type": "code",
   "execution_count": 45,
   "id": "f54bc477",
   "metadata": {
    "execution": {
     "iopub.execute_input": "2023-10-05T17:26:42.545693Z",
     "iopub.status.busy": "2023-10-05T17:26:42.544745Z",
     "iopub.status.idle": "2023-10-05T17:26:43.128807Z",
     "shell.execute_reply": "2023-10-05T17:26:43.127737Z"
    },
    "papermill": {
     "duration": 0.610085,
     "end_time": "2023-10-05T17:26:43.131210",
     "exception": false,
     "start_time": "2023-10-05T17:26:42.521125",
     "status": "completed"
    },
    "tags": []
   },
   "outputs": [],
   "source": [
    "from sklearn.model_selection import train_test_split, StratifiedKFold, GridSearchCV\n",
    "from sklearn.linear_model import LogisticRegression\n",
    "from sklearn.svm import SVC\n",
    "from sklearn.ensemble import RandomForestClassifier, VotingClassifier\n",
    "from sklearn.neighbors import KNeighborsClassifier\n",
    "from sklearn.tree import DecisionTreeClassifier\n",
    "from sklearn.metrics import accuracy_score"
   ]
  },
  {
   "cell_type": "markdown",
   "id": "0520b7f2",
   "metadata": {
    "papermill": {
     "duration": 0.022634,
     "end_time": "2023-10-05T17:26:43.176938",
     "exception": false,
     "start_time": "2023-10-05T17:26:43.154304",
     "status": "completed"
    },
    "tags": []
   },
   "source": [
    "### Splitting dataset into training and testing"
   ]
  },
  {
   "cell_type": "code",
   "execution_count": 47,
   "id": "ee138361",
   "metadata": {
    "execution": {
     "iopub.execute_input": "2023-10-05T17:26:43.280324Z",
     "iopub.status.busy": "2023-10-05T17:26:43.279632Z",
     "iopub.status.idle": "2023-10-05T17:26:43.288211Z",
     "shell.execute_reply": "2023-10-05T17:26:43.287464Z"
    },
    "papermill": {
     "duration": 0.034714,
     "end_time": "2023-10-05T17:26:43.290159",
     "exception": false,
     "start_time": "2023-10-05T17:26:43.255445",
     "status": "completed"
    },
    "tags": []
   },
   "outputs": [],
   "source": [
    "X_train = df.drop(labels=[\"Survived\"], axis=1)\n",
    "y_train = df.Survived\n",
    "X_train, X_test, y_train, y_test = train_test_split(X_train, y_train, test_size=0.25, random_state=31)"
   ]
  },
  {
   "cell_type": "markdown",
   "id": "1a81de3b",
   "metadata": {
    "papermill": {
     "duration": 0.022887,
     "end_time": "2023-10-05T17:26:43.392285",
     "exception": false,
     "start_time": "2023-10-05T17:26:43.369398",
     "status": "completed"
    },
    "tags": []
   },
   "source": [
    "### Hyperparameters\n",
    "* Grid Search \n",
    "* Cross Validation"
   ]
  },
  {
   "cell_type": "code",
   "execution_count": 48,
   "id": "ecd3e4e3",
   "metadata": {
    "execution": {
     "iopub.execute_input": "2023-10-05T17:26:43.448533Z",
     "iopub.status.busy": "2023-10-05T17:26:43.448167Z",
     "iopub.status.idle": "2023-10-05T17:26:43.459608Z",
     "shell.execute_reply": "2023-10-05T17:26:43.458550Z"
    },
    "papermill": {
     "duration": 0.045571,
     "end_time": "2023-10-05T17:26:43.462372",
     "exception": false,
     "start_time": "2023-10-05T17:26:43.416801",
     "status": "completed"
    },
    "tags": []
   },
   "outputs": [],
   "source": [
    "random_state = 42\n",
    "classifier = [DecisionTreeClassifier(random_state = random_state),\n",
    "             SVC(random_state = random_state,probability=True),\n",
    "             RandomForestClassifier(random_state = random_state),\n",
    "             LogisticRegression(random_state = random_state, max_iter=3000, solver=\"lbfgs\"),\n",
    "             KNeighborsClassifier()]\n",
    "\n",
    "dt_param_grid = {\"min_samples_split\" : range(10,500,20),\n",
    "                \"max_depth\": range(1,20,2)}\n",
    "\n",
    "svc_param_grid = {\"kernel\" : [\"rbf\"],\n",
    "                 \"gamma\": [0.001, 0.01, 0.1, 1],\n",
    "                 \"C\": [1,10,50,100,200,300,1000]}\n",
    "\n",
    "rf_param_grid = {\"max_features\": [1,3,10],\n",
    "                \"min_samples_split\":[2,3,10],\n",
    "                \"min_samples_leaf\":[1,3,10],\n",
    "                \"bootstrap\":[False],\n",
    "                \"n_estimators\":[100,300],\n",
    "                \"criterion\":[\"gini\"]}\n",
    "\n",
    "logreg_param_grid = {\"C\":np.logspace(-3,3,7),\n",
    "                    \"penalty\": [\"l1\",\"l2\"],\n",
    "                    }\n",
    "\n",
    "knn_param_grid = {\"n_neighbors\": np.linspace(1,19,10, dtype = int).tolist(),\n",
    "                 \"weights\": [\"uniform\",\"distance\"],\n",
    "                 \"metric\":[\"euclidean\",\"manhattan\"]}\n",
    "\n",
    "\n",
    "classifier_param = [dt_param_grid,\n",
    "                   svc_param_grid,\n",
    "                   rf_param_grid,\n",
    "                   logreg_param_grid,\n",
    "                   knn_param_grid]"
   ]
  },
  {
   "cell_type": "code",
   "execution_count": 49,
   "id": "6d7492e7",
   "metadata": {
    "execution": {
     "iopub.execute_input": "2023-10-05T17:26:43.516917Z",
     "iopub.status.busy": "2023-10-05T17:26:43.516112Z",
     "iopub.status.idle": "2023-10-05T17:28:27.264151Z",
     "shell.execute_reply": "2023-10-05T17:28:27.262503Z"
    },
    "papermill": {
     "duration": 103.776514,
     "end_time": "2023-10-05T17:28:27.266146",
     "exception": false,
     "start_time": "2023-10-05T17:26:43.489632",
     "status": "completed"
    },
    "tags": []
   },
   "outputs": [
    {
     "name": "stdout",
     "output_type": "stream",
     "text": [
      "Fitting 10 folds for each of 250 candidates, totalling 2500 fits\n",
      "1.0\n",
      "Fitting 10 folds for each of 28 candidates, totalling 280 fits\n",
      "0.9489919354838712\n",
      "Fitting 10 folds for each of 54 candidates, totalling 540 fits\n",
      "1.0\n",
      "Fitting 10 folds for each of 14 candidates, totalling 140 fits\n",
      "1.0\n",
      "Fitting 10 folds for each of 40 candidates, totalling 400 fits\n",
      "0.8209677419354838\n"
     ]
    }
   ],
   "source": [
    "cv_result = []\n",
    "best_estimators = []\n",
    "for i in range(len(classifier)):\n",
    "    clf = GridSearchCV(classifier[i], param_grid=classifier_param[i], cv = StratifiedKFold(n_splits = 10), scoring = \"accuracy\", n_jobs = -1,verbose = 1)\n",
    "    clf.fit(X_train,y_train)\n",
    "    cv_result.append(clf.best_score_)\n",
    "    best_estimators.append(clf.best_estimator_)\n",
    "    print(cv_result[i])"
   ]
  },
  {
   "cell_type": "code",
   "execution_count": 50,
   "id": "aa8cfdaa",
   "metadata": {
    "execution": {
     "iopub.execute_input": "2023-10-05T17:28:27.314539Z",
     "iopub.status.busy": "2023-10-05T17:28:27.314153Z",
     "iopub.status.idle": "2023-10-05T17:28:27.599373Z",
     "shell.execute_reply": "2023-10-05T17:28:27.598265Z"
    },
    "papermill": {
     "duration": 0.312158,
     "end_time": "2023-10-05T17:28:27.601510",
     "exception": false,
     "start_time": "2023-10-05T17:28:27.289352",
     "status": "completed"
    },
    "tags": []
   },
   "outputs": [
    {
     "data": {
      "text/plain": [
       "Text(0.5, 1.0, 'Cross Validation Scores')"
      ]
     },
     "execution_count": 50,
     "metadata": {},
     "output_type": "execute_result"
    },
    {
     "data": {
      "image/png": "[encoded data removed]",
      "text/plain": [
       "<Figure size 640x480 with 1 Axes>"
      ]
     },
     "metadata": {},
     "output_type": "display_data"
    }
   ],
   "source": [
    "cv_results = pd.DataFrame({\n",
    "    \"Cross Validation Means\":cv_result, \n",
    "    \"ML Models\":[\"DecisionTreeClassifier\", \"SVM\",\"RandomForestClassifier\",\n",
    "             \"LogisticRegression\",\"KNeighborsClassifier\"]})\n",
    "\n",
    "g = sns.barplot(data=cv_results, x=\"Cross Validation Means\", y=\"ML Models\" )\n",
    "g.set_xlabel(\"Mean Accuracy\")\n",
    "g.set_title(\"Cross Validation Scores\")"
   ]
  },
  {
   "cell_type": "code",
   "execution_count": null,
   "id": "7c4d2d0b",
   "metadata": {
    "papermill": {
     "duration": 0.04662,
     "end_time": "2023-10-05T17:28:28.740203",
     "exception": false,
     "start_time": "2023-10-05T17:28:28.693583",
     "status": "completed"
    },
    "tags": []
   },
   "outputs": [],
   "source": []
  }
 ],
 "metadata": {
  "kernelspec": {
   "display_name": "Python 3 (ipykernel)",
   "language": "python",
   "name": "python3"
  },
  "language_info": {
   "codemirror_mode": {
    "name": "ipython",
    "version": 3
   },
   "file_extension": ".py",
   "mimetype": "text/x-python",
   "name": "python",
   "nbconvert_exporter": "python",
   "pygments_lexer": "ipython3",
   "version": "3.9.13"
  },
  "papermill": {
   "default_parameters": {},
   "duration": 120.967555,
   "end_time": "2023-10-05T17:28:31.383808",
   "environment_variables": {},
   "exception": null,
   "input_path": "__notebook__.ipynb",
   "output_path": "__notebook__.ipynb",
   "parameters": {},
   "start_time": "2023-10-05T17:26:30.416253",
   "version": "2.4.0"
  }
 },
 "nbformat": 4,
 "nbformat_minor": 5
}
